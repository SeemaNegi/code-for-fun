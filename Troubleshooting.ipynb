{
  "nbformat": 4,
  "nbformat_minor": 0,
  "metadata": {
    "colab": {
      "name": "Troubleshooting.ipynb",
      "provenance": [],
      "collapsed_sections": []
    },
    "kernelspec": {
      "name": "python3",
      "display_name": "Python 3"
    },
    "widgets": {
      "application/vnd.jupyter.widget-state+json": {
        "325535158fcf431bb40333c513a5d563": {
          "model_module": "@jupyter-widgets/controls",
          "model_name": "HBoxModel",
          "state": {
            "_view_name": "HBoxView",
            "_dom_classes": [],
            "_model_name": "HBoxModel",
            "_view_module": "@jupyter-widgets/controls",
            "_model_module_version": "1.5.0",
            "_view_count": null,
            "_view_module_version": "1.5.0",
            "box_style": "",
            "layout": "IPY_MODEL_67dde0aa94ff403cbbeea9198a3dae8d",
            "_model_module": "@jupyter-widgets/controls",
            "children": [
              "IPY_MODEL_84358e7f1afa43b8b6b03ef34cb12a85",
              "IPY_MODEL_36a383ba16874af0890bcd8b1626a535"
            ]
          }
        },
        "67dde0aa94ff403cbbeea9198a3dae8d": {
          "model_module": "@jupyter-widgets/base",
          "model_name": "LayoutModel",
          "state": {
            "_view_name": "LayoutView",
            "grid_template_rows": null,
            "right": null,
            "justify_content": null,
            "_view_module": "@jupyter-widgets/base",
            "overflow": null,
            "_model_module_version": "1.2.0",
            "_view_count": null,
            "flex_flow": null,
            "width": null,
            "min_width": null,
            "border": null,
            "align_items": null,
            "bottom": null,
            "_model_module": "@jupyter-widgets/base",
            "top": null,
            "grid_column": null,
            "overflow_y": null,
            "overflow_x": null,
            "grid_auto_flow": null,
            "grid_area": null,
            "grid_template_columns": null,
            "flex": null,
            "_model_name": "LayoutModel",
            "justify_items": null,
            "grid_row": null,
            "max_height": null,
            "align_content": null,
            "visibility": null,
            "align_self": null,
            "height": null,
            "min_height": null,
            "padding": null,
            "grid_auto_rows": null,
            "grid_gap": null,
            "max_width": null,
            "order": null,
            "_view_module_version": "1.2.0",
            "grid_template_areas": null,
            "object_position": null,
            "object_fit": null,
            "grid_auto_columns": null,
            "margin": null,
            "display": null,
            "left": null
          }
        },
        "84358e7f1afa43b8b6b03ef34cb12a85": {
          "model_module": "@jupyter-widgets/controls",
          "model_name": "FloatProgressModel",
          "state": {
            "_view_name": "ProgressView",
            "style": "IPY_MODEL_b4ab5f210a624e8c96d5084526d3add2",
            "_dom_classes": [],
            "description": "",
            "_model_name": "FloatProgressModel",
            "bar_style": "success",
            "max": 26421880,
            "_view_module": "@jupyter-widgets/controls",
            "_model_module_version": "1.5.0",
            "value": 26421880,
            "_view_count": null,
            "_view_module_version": "1.5.0",
            "orientation": "horizontal",
            "min": 0,
            "description_tooltip": null,
            "_model_module": "@jupyter-widgets/controls",
            "layout": "IPY_MODEL_d04df73738404a30a2ce5198ee4d64ec"
          }
        },
        "36a383ba16874af0890bcd8b1626a535": {
          "model_module": "@jupyter-widgets/controls",
          "model_name": "HTMLModel",
          "state": {
            "_view_name": "HTMLView",
            "style": "IPY_MODEL_aa5b7f9172214450ac8ff4a7f630daa3",
            "_dom_classes": [],
            "description": "",
            "_model_name": "HTMLModel",
            "placeholder": "​",
            "_view_module": "@jupyter-widgets/controls",
            "_model_module_version": "1.5.0",
            "value": " 26422272/? [00:45&lt;00:00, 585417.80it/s]",
            "_view_count": null,
            "_view_module_version": "1.5.0",
            "description_tooltip": null,
            "_model_module": "@jupyter-widgets/controls",
            "layout": "IPY_MODEL_1dc74e5b23f64961b3e480aa39419d76"
          }
        },
        "b4ab5f210a624e8c96d5084526d3add2": {
          "model_module": "@jupyter-widgets/controls",
          "model_name": "ProgressStyleModel",
          "state": {
            "_view_name": "StyleView",
            "_model_name": "ProgressStyleModel",
            "description_width": "initial",
            "_view_module": "@jupyter-widgets/base",
            "_model_module_version": "1.5.0",
            "_view_count": null,
            "_view_module_version": "1.2.0",
            "bar_color": null,
            "_model_module": "@jupyter-widgets/controls"
          }
        },
        "d04df73738404a30a2ce5198ee4d64ec": {
          "model_module": "@jupyter-widgets/base",
          "model_name": "LayoutModel",
          "state": {
            "_view_name": "LayoutView",
            "grid_template_rows": null,
            "right": null,
            "justify_content": null,
            "_view_module": "@jupyter-widgets/base",
            "overflow": null,
            "_model_module_version": "1.2.0",
            "_view_count": null,
            "flex_flow": null,
            "width": null,
            "min_width": null,
            "border": null,
            "align_items": null,
            "bottom": null,
            "_model_module": "@jupyter-widgets/base",
            "top": null,
            "grid_column": null,
            "overflow_y": null,
            "overflow_x": null,
            "grid_auto_flow": null,
            "grid_area": null,
            "grid_template_columns": null,
            "flex": null,
            "_model_name": "LayoutModel",
            "justify_items": null,
            "grid_row": null,
            "max_height": null,
            "align_content": null,
            "visibility": null,
            "align_self": null,
            "height": null,
            "min_height": null,
            "padding": null,
            "grid_auto_rows": null,
            "grid_gap": null,
            "max_width": null,
            "order": null,
            "_view_module_version": "1.2.0",
            "grid_template_areas": null,
            "object_position": null,
            "object_fit": null,
            "grid_auto_columns": null,
            "margin": null,
            "display": null,
            "left": null
          }
        },
        "aa5b7f9172214450ac8ff4a7f630daa3": {
          "model_module": "@jupyter-widgets/controls",
          "model_name": "DescriptionStyleModel",
          "state": {
            "_view_name": "StyleView",
            "_model_name": "DescriptionStyleModel",
            "description_width": "",
            "_view_module": "@jupyter-widgets/base",
            "_model_module_version": "1.5.0",
            "_view_count": null,
            "_view_module_version": "1.2.0",
            "_model_module": "@jupyter-widgets/controls"
          }
        },
        "1dc74e5b23f64961b3e480aa39419d76": {
          "model_module": "@jupyter-widgets/base",
          "model_name": "LayoutModel",
          "state": {
            "_view_name": "LayoutView",
            "grid_template_rows": null,
            "right": null,
            "justify_content": null,
            "_view_module": "@jupyter-widgets/base",
            "overflow": null,
            "_model_module_version": "1.2.0",
            "_view_count": null,
            "flex_flow": null,
            "width": null,
            "min_width": null,
            "border": null,
            "align_items": null,
            "bottom": null,
            "_model_module": "@jupyter-widgets/base",
            "top": null,
            "grid_column": null,
            "overflow_y": null,
            "overflow_x": null,
            "grid_auto_flow": null,
            "grid_area": null,
            "grid_template_columns": null,
            "flex": null,
            "_model_name": "LayoutModel",
            "justify_items": null,
            "grid_row": null,
            "max_height": null,
            "align_content": null,
            "visibility": null,
            "align_self": null,
            "height": null,
            "min_height": null,
            "padding": null,
            "grid_auto_rows": null,
            "grid_gap": null,
            "max_width": null,
            "order": null,
            "_view_module_version": "1.2.0",
            "grid_template_areas": null,
            "object_position": null,
            "object_fit": null,
            "grid_auto_columns": null,
            "margin": null,
            "display": null,
            "left": null
          }
        },
        "6b349e0184744e3ab5bb9f46f6a026a6": {
          "model_module": "@jupyter-widgets/controls",
          "model_name": "HBoxModel",
          "state": {
            "_view_name": "HBoxView",
            "_dom_classes": [],
            "_model_name": "HBoxModel",
            "_view_module": "@jupyter-widgets/controls",
            "_model_module_version": "1.5.0",
            "_view_count": null,
            "_view_module_version": "1.5.0",
            "box_style": "",
            "layout": "IPY_MODEL_1b0238d408ee4471ab1244252a9a9a6b",
            "_model_module": "@jupyter-widgets/controls",
            "children": [
              "IPY_MODEL_9ff66877cc2c4ba485f76d588767bf16",
              "IPY_MODEL_8f3537842eb247fb8bb6a5bea8df7c40"
            ]
          }
        },
        "1b0238d408ee4471ab1244252a9a9a6b": {
          "model_module": "@jupyter-widgets/base",
          "model_name": "LayoutModel",
          "state": {
            "_view_name": "LayoutView",
            "grid_template_rows": null,
            "right": null,
            "justify_content": null,
            "_view_module": "@jupyter-widgets/base",
            "overflow": null,
            "_model_module_version": "1.2.0",
            "_view_count": null,
            "flex_flow": null,
            "width": null,
            "min_width": null,
            "border": null,
            "align_items": null,
            "bottom": null,
            "_model_module": "@jupyter-widgets/base",
            "top": null,
            "grid_column": null,
            "overflow_y": null,
            "overflow_x": null,
            "grid_auto_flow": null,
            "grid_area": null,
            "grid_template_columns": null,
            "flex": null,
            "_model_name": "LayoutModel",
            "justify_items": null,
            "grid_row": null,
            "max_height": null,
            "align_content": null,
            "visibility": null,
            "align_self": null,
            "height": null,
            "min_height": null,
            "padding": null,
            "grid_auto_rows": null,
            "grid_gap": null,
            "max_width": null,
            "order": null,
            "_view_module_version": "1.2.0",
            "grid_template_areas": null,
            "object_position": null,
            "object_fit": null,
            "grid_auto_columns": null,
            "margin": null,
            "display": null,
            "left": null
          }
        },
        "9ff66877cc2c4ba485f76d588767bf16": {
          "model_module": "@jupyter-widgets/controls",
          "model_name": "FloatProgressModel",
          "state": {
            "_view_name": "ProgressView",
            "style": "IPY_MODEL_4f57ba8c9950420fa33030062f6bf256",
            "_dom_classes": [],
            "description": "",
            "_model_name": "FloatProgressModel",
            "bar_style": "success",
            "max": 29515,
            "_view_module": "@jupyter-widgets/controls",
            "_model_module_version": "1.5.0",
            "value": 29515,
            "_view_count": null,
            "_view_module_version": "1.5.0",
            "orientation": "horizontal",
            "min": 0,
            "description_tooltip": null,
            "_model_module": "@jupyter-widgets/controls",
            "layout": "IPY_MODEL_d321b990ef3a48c6b228ec5b6d67b36e"
          }
        },
        "8f3537842eb247fb8bb6a5bea8df7c40": {
          "model_module": "@jupyter-widgets/controls",
          "model_name": "HTMLModel",
          "state": {
            "_view_name": "HTMLView",
            "style": "IPY_MODEL_f9229f2ee7074fab8fdbf85087a48ae1",
            "_dom_classes": [],
            "description": "",
            "_model_name": "HTMLModel",
            "placeholder": "​",
            "_view_module": "@jupyter-widgets/controls",
            "_model_module_version": "1.5.0",
            "value": " 29696/? [00:42&lt;00:00, 700.25it/s]",
            "_view_count": null,
            "_view_module_version": "1.5.0",
            "description_tooltip": null,
            "_model_module": "@jupyter-widgets/controls",
            "layout": "IPY_MODEL_4c7235fccee944bfbaccefb0bbefe634"
          }
        },
        "4f57ba8c9950420fa33030062f6bf256": {
          "model_module": "@jupyter-widgets/controls",
          "model_name": "ProgressStyleModel",
          "state": {
            "_view_name": "StyleView",
            "_model_name": "ProgressStyleModel",
            "description_width": "initial",
            "_view_module": "@jupyter-widgets/base",
            "_model_module_version": "1.5.0",
            "_view_count": null,
            "_view_module_version": "1.2.0",
            "bar_color": null,
            "_model_module": "@jupyter-widgets/controls"
          }
        },
        "d321b990ef3a48c6b228ec5b6d67b36e": {
          "model_module": "@jupyter-widgets/base",
          "model_name": "LayoutModel",
          "state": {
            "_view_name": "LayoutView",
            "grid_template_rows": null,
            "right": null,
            "justify_content": null,
            "_view_module": "@jupyter-widgets/base",
            "overflow": null,
            "_model_module_version": "1.2.0",
            "_view_count": null,
            "flex_flow": null,
            "width": null,
            "min_width": null,
            "border": null,
            "align_items": null,
            "bottom": null,
            "_model_module": "@jupyter-widgets/base",
            "top": null,
            "grid_column": null,
            "overflow_y": null,
            "overflow_x": null,
            "grid_auto_flow": null,
            "grid_area": null,
            "grid_template_columns": null,
            "flex": null,
            "_model_name": "LayoutModel",
            "justify_items": null,
            "grid_row": null,
            "max_height": null,
            "align_content": null,
            "visibility": null,
            "align_self": null,
            "height": null,
            "min_height": null,
            "padding": null,
            "grid_auto_rows": null,
            "grid_gap": null,
            "max_width": null,
            "order": null,
            "_view_module_version": "1.2.0",
            "grid_template_areas": null,
            "object_position": null,
            "object_fit": null,
            "grid_auto_columns": null,
            "margin": null,
            "display": null,
            "left": null
          }
        },
        "f9229f2ee7074fab8fdbf85087a48ae1": {
          "model_module": "@jupyter-widgets/controls",
          "model_name": "DescriptionStyleModel",
          "state": {
            "_view_name": "StyleView",
            "_model_name": "DescriptionStyleModel",
            "description_width": "",
            "_view_module": "@jupyter-widgets/base",
            "_model_module_version": "1.5.0",
            "_view_count": null,
            "_view_module_version": "1.2.0",
            "_model_module": "@jupyter-widgets/controls"
          }
        },
        "4c7235fccee944bfbaccefb0bbefe634": {
          "model_module": "@jupyter-widgets/base",
          "model_name": "LayoutModel",
          "state": {
            "_view_name": "LayoutView",
            "grid_template_rows": null,
            "right": null,
            "justify_content": null,
            "_view_module": "@jupyter-widgets/base",
            "overflow": null,
            "_model_module_version": "1.2.0",
            "_view_count": null,
            "flex_flow": null,
            "width": null,
            "min_width": null,
            "border": null,
            "align_items": null,
            "bottom": null,
            "_model_module": "@jupyter-widgets/base",
            "top": null,
            "grid_column": null,
            "overflow_y": null,
            "overflow_x": null,
            "grid_auto_flow": null,
            "grid_area": null,
            "grid_template_columns": null,
            "flex": null,
            "_model_name": "LayoutModel",
            "justify_items": null,
            "grid_row": null,
            "max_height": null,
            "align_content": null,
            "visibility": null,
            "align_self": null,
            "height": null,
            "min_height": null,
            "padding": null,
            "grid_auto_rows": null,
            "grid_gap": null,
            "max_width": null,
            "order": null,
            "_view_module_version": "1.2.0",
            "grid_template_areas": null,
            "object_position": null,
            "object_fit": null,
            "grid_auto_columns": null,
            "margin": null,
            "display": null,
            "left": null
          }
        },
        "9c2c90be178041c2b1e252fcdc5a304a": {
          "model_module": "@jupyter-widgets/controls",
          "model_name": "HBoxModel",
          "state": {
            "_view_name": "HBoxView",
            "_dom_classes": [],
            "_model_name": "HBoxModel",
            "_view_module": "@jupyter-widgets/controls",
            "_model_module_version": "1.5.0",
            "_view_count": null,
            "_view_module_version": "1.5.0",
            "box_style": "",
            "layout": "IPY_MODEL_d427d0b22f4b4899a63620605a57d960",
            "_model_module": "@jupyter-widgets/controls",
            "children": [
              "IPY_MODEL_4eda96fc56e0465ba63a1d49598c838a",
              "IPY_MODEL_5de24535c771496d82b10db27dc6636b"
            ]
          }
        },
        "d427d0b22f4b4899a63620605a57d960": {
          "model_module": "@jupyter-widgets/base",
          "model_name": "LayoutModel",
          "state": {
            "_view_name": "LayoutView",
            "grid_template_rows": null,
            "right": null,
            "justify_content": null,
            "_view_module": "@jupyter-widgets/base",
            "overflow": null,
            "_model_module_version": "1.2.0",
            "_view_count": null,
            "flex_flow": null,
            "width": null,
            "min_width": null,
            "border": null,
            "align_items": null,
            "bottom": null,
            "_model_module": "@jupyter-widgets/base",
            "top": null,
            "grid_column": null,
            "overflow_y": null,
            "overflow_x": null,
            "grid_auto_flow": null,
            "grid_area": null,
            "grid_template_columns": null,
            "flex": null,
            "_model_name": "LayoutModel",
            "justify_items": null,
            "grid_row": null,
            "max_height": null,
            "align_content": null,
            "visibility": null,
            "align_self": null,
            "height": null,
            "min_height": null,
            "padding": null,
            "grid_auto_rows": null,
            "grid_gap": null,
            "max_width": null,
            "order": null,
            "_view_module_version": "1.2.0",
            "grid_template_areas": null,
            "object_position": null,
            "object_fit": null,
            "grid_auto_columns": null,
            "margin": null,
            "display": null,
            "left": null
          }
        },
        "4eda96fc56e0465ba63a1d49598c838a": {
          "model_module": "@jupyter-widgets/controls",
          "model_name": "FloatProgressModel",
          "state": {
            "_view_name": "ProgressView",
            "style": "IPY_MODEL_238d6dce58a741f0aa52217c65f74e0d",
            "_dom_classes": [],
            "description": "",
            "_model_name": "FloatProgressModel",
            "bar_style": "success",
            "max": 4422102,
            "_view_module": "@jupyter-widgets/controls",
            "_model_module_version": "1.5.0",
            "value": 4422102,
            "_view_count": null,
            "_view_module_version": "1.5.0",
            "orientation": "horizontal",
            "min": 0,
            "description_tooltip": null,
            "_model_module": "@jupyter-widgets/controls",
            "layout": "IPY_MODEL_56ee769abc06405781b4d91f50c21a57"
          }
        },
        "5de24535c771496d82b10db27dc6636b": {
          "model_module": "@jupyter-widgets/controls",
          "model_name": "HTMLModel",
          "state": {
            "_view_name": "HTMLView",
            "style": "IPY_MODEL_bcc0b11322cd4b1c889b83b2d7745335",
            "_dom_classes": [],
            "description": "",
            "_model_name": "HTMLModel",
            "placeholder": "​",
            "_view_module": "@jupyter-widgets/controls",
            "_model_module_version": "1.5.0",
            "value": " 4422656/? [00:05&lt;00:00, 758094.26it/s]",
            "_view_count": null,
            "_view_module_version": "1.5.0",
            "description_tooltip": null,
            "_model_module": "@jupyter-widgets/controls",
            "layout": "IPY_MODEL_320643493af34626bfc95113776f2dbe"
          }
        },
        "238d6dce58a741f0aa52217c65f74e0d": {
          "model_module": "@jupyter-widgets/controls",
          "model_name": "ProgressStyleModel",
          "state": {
            "_view_name": "StyleView",
            "_model_name": "ProgressStyleModel",
            "description_width": "initial",
            "_view_module": "@jupyter-widgets/base",
            "_model_module_version": "1.5.0",
            "_view_count": null,
            "_view_module_version": "1.2.0",
            "bar_color": null,
            "_model_module": "@jupyter-widgets/controls"
          }
        },
        "56ee769abc06405781b4d91f50c21a57": {
          "model_module": "@jupyter-widgets/base",
          "model_name": "LayoutModel",
          "state": {
            "_view_name": "LayoutView",
            "grid_template_rows": null,
            "right": null,
            "justify_content": null,
            "_view_module": "@jupyter-widgets/base",
            "overflow": null,
            "_model_module_version": "1.2.0",
            "_view_count": null,
            "flex_flow": null,
            "width": null,
            "min_width": null,
            "border": null,
            "align_items": null,
            "bottom": null,
            "_model_module": "@jupyter-widgets/base",
            "top": null,
            "grid_column": null,
            "overflow_y": null,
            "overflow_x": null,
            "grid_auto_flow": null,
            "grid_area": null,
            "grid_template_columns": null,
            "flex": null,
            "_model_name": "LayoutModel",
            "justify_items": null,
            "grid_row": null,
            "max_height": null,
            "align_content": null,
            "visibility": null,
            "align_self": null,
            "height": null,
            "min_height": null,
            "padding": null,
            "grid_auto_rows": null,
            "grid_gap": null,
            "max_width": null,
            "order": null,
            "_view_module_version": "1.2.0",
            "grid_template_areas": null,
            "object_position": null,
            "object_fit": null,
            "grid_auto_columns": null,
            "margin": null,
            "display": null,
            "left": null
          }
        },
        "bcc0b11322cd4b1c889b83b2d7745335": {
          "model_module": "@jupyter-widgets/controls",
          "model_name": "DescriptionStyleModel",
          "state": {
            "_view_name": "StyleView",
            "_model_name": "DescriptionStyleModel",
            "description_width": "",
            "_view_module": "@jupyter-widgets/base",
            "_model_module_version": "1.5.0",
            "_view_count": null,
            "_view_module_version": "1.2.0",
            "_model_module": "@jupyter-widgets/controls"
          }
        },
        "320643493af34626bfc95113776f2dbe": {
          "model_module": "@jupyter-widgets/base",
          "model_name": "LayoutModel",
          "state": {
            "_view_name": "LayoutView",
            "grid_template_rows": null,
            "right": null,
            "justify_content": null,
            "_view_module": "@jupyter-widgets/base",
            "overflow": null,
            "_model_module_version": "1.2.0",
            "_view_count": null,
            "flex_flow": null,
            "width": null,
            "min_width": null,
            "border": null,
            "align_items": null,
            "bottom": null,
            "_model_module": "@jupyter-widgets/base",
            "top": null,
            "grid_column": null,
            "overflow_y": null,
            "overflow_x": null,
            "grid_auto_flow": null,
            "grid_area": null,
            "grid_template_columns": null,
            "flex": null,
            "_model_name": "LayoutModel",
            "justify_items": null,
            "grid_row": null,
            "max_height": null,
            "align_content": null,
            "visibility": null,
            "align_self": null,
            "height": null,
            "min_height": null,
            "padding": null,
            "grid_auto_rows": null,
            "grid_gap": null,
            "max_width": null,
            "order": null,
            "_view_module_version": "1.2.0",
            "grid_template_areas": null,
            "object_position": null,
            "object_fit": null,
            "grid_auto_columns": null,
            "margin": null,
            "display": null,
            "left": null
          }
        },
        "520596f8f3b147f7b4368e4a2f8e972e": {
          "model_module": "@jupyter-widgets/controls",
          "model_name": "HBoxModel",
          "state": {
            "_view_name": "HBoxView",
            "_dom_classes": [],
            "_model_name": "HBoxModel",
            "_view_module": "@jupyter-widgets/controls",
            "_model_module_version": "1.5.0",
            "_view_count": null,
            "_view_module_version": "1.5.0",
            "box_style": "",
            "layout": "IPY_MODEL_58e212a3c32945cdb60d4cff5e4e9c22",
            "_model_module": "@jupyter-widgets/controls",
            "children": [
              "IPY_MODEL_cf8c757defd54fff8d9306d322fe872c",
              "IPY_MODEL_f3f0a2603eb24c68892fc06e77b27a9d"
            ]
          }
        },
        "58e212a3c32945cdb60d4cff5e4e9c22": {
          "model_module": "@jupyter-widgets/base",
          "model_name": "LayoutModel",
          "state": {
            "_view_name": "LayoutView",
            "grid_template_rows": null,
            "right": null,
            "justify_content": null,
            "_view_module": "@jupyter-widgets/base",
            "overflow": null,
            "_model_module_version": "1.2.0",
            "_view_count": null,
            "flex_flow": null,
            "width": null,
            "min_width": null,
            "border": null,
            "align_items": null,
            "bottom": null,
            "_model_module": "@jupyter-widgets/base",
            "top": null,
            "grid_column": null,
            "overflow_y": null,
            "overflow_x": null,
            "grid_auto_flow": null,
            "grid_area": null,
            "grid_template_columns": null,
            "flex": null,
            "_model_name": "LayoutModel",
            "justify_items": null,
            "grid_row": null,
            "max_height": null,
            "align_content": null,
            "visibility": null,
            "align_self": null,
            "height": null,
            "min_height": null,
            "padding": null,
            "grid_auto_rows": null,
            "grid_gap": null,
            "max_width": null,
            "order": null,
            "_view_module_version": "1.2.0",
            "grid_template_areas": null,
            "object_position": null,
            "object_fit": null,
            "grid_auto_columns": null,
            "margin": null,
            "display": null,
            "left": null
          }
        },
        "cf8c757defd54fff8d9306d322fe872c": {
          "model_module": "@jupyter-widgets/controls",
          "model_name": "FloatProgressModel",
          "state": {
            "_view_name": "ProgressView",
            "style": "IPY_MODEL_bb618083fe7847668bb452ae170d41e4",
            "_dom_classes": [],
            "description": "",
            "_model_name": "FloatProgressModel",
            "bar_style": "success",
            "max": 5148,
            "_view_module": "@jupyter-widgets/controls",
            "_model_module_version": "1.5.0",
            "value": 5148,
            "_view_count": null,
            "_view_module_version": "1.5.0",
            "orientation": "horizontal",
            "min": 0,
            "description_tooltip": null,
            "_model_module": "@jupyter-widgets/controls",
            "layout": "IPY_MODEL_1e4b8a713a5f4096ab2ebbc2caded149"
          }
        },
        "f3f0a2603eb24c68892fc06e77b27a9d": {
          "model_module": "@jupyter-widgets/controls",
          "model_name": "HTMLModel",
          "state": {
            "_view_name": "HTMLView",
            "style": "IPY_MODEL_22393f02404b41d3a3276f674c81514a",
            "_dom_classes": [],
            "description": "",
            "_model_name": "HTMLModel",
            "placeholder": "​",
            "_view_module": "@jupyter-widgets/controls",
            "_model_module_version": "1.5.0",
            "value": " 6144/? [00:04&lt;00:00, 1378.33it/s]",
            "_view_count": null,
            "_view_module_version": "1.5.0",
            "description_tooltip": null,
            "_model_module": "@jupyter-widgets/controls",
            "layout": "IPY_MODEL_16669e3785ff4df7abcf636ff54fb506"
          }
        },
        "bb618083fe7847668bb452ae170d41e4": {
          "model_module": "@jupyter-widgets/controls",
          "model_name": "ProgressStyleModel",
          "state": {
            "_view_name": "StyleView",
            "_model_name": "ProgressStyleModel",
            "description_width": "initial",
            "_view_module": "@jupyter-widgets/base",
            "_model_module_version": "1.5.0",
            "_view_count": null,
            "_view_module_version": "1.2.0",
            "bar_color": null,
            "_model_module": "@jupyter-widgets/controls"
          }
        },
        "1e4b8a713a5f4096ab2ebbc2caded149": {
          "model_module": "@jupyter-widgets/base",
          "model_name": "LayoutModel",
          "state": {
            "_view_name": "LayoutView",
            "grid_template_rows": null,
            "right": null,
            "justify_content": null,
            "_view_module": "@jupyter-widgets/base",
            "overflow": null,
            "_model_module_version": "1.2.0",
            "_view_count": null,
            "flex_flow": null,
            "width": null,
            "min_width": null,
            "border": null,
            "align_items": null,
            "bottom": null,
            "_model_module": "@jupyter-widgets/base",
            "top": null,
            "grid_column": null,
            "overflow_y": null,
            "overflow_x": null,
            "grid_auto_flow": null,
            "grid_area": null,
            "grid_template_columns": null,
            "flex": null,
            "_model_name": "LayoutModel",
            "justify_items": null,
            "grid_row": null,
            "max_height": null,
            "align_content": null,
            "visibility": null,
            "align_self": null,
            "height": null,
            "min_height": null,
            "padding": null,
            "grid_auto_rows": null,
            "grid_gap": null,
            "max_width": null,
            "order": null,
            "_view_module_version": "1.2.0",
            "grid_template_areas": null,
            "object_position": null,
            "object_fit": null,
            "grid_auto_columns": null,
            "margin": null,
            "display": null,
            "left": null
          }
        },
        "22393f02404b41d3a3276f674c81514a": {
          "model_module": "@jupyter-widgets/controls",
          "model_name": "DescriptionStyleModel",
          "state": {
            "_view_name": "StyleView",
            "_model_name": "DescriptionStyleModel",
            "description_width": "",
            "_view_module": "@jupyter-widgets/base",
            "_model_module_version": "1.5.0",
            "_view_count": null,
            "_view_module_version": "1.2.0",
            "_model_module": "@jupyter-widgets/controls"
          }
        },
        "16669e3785ff4df7abcf636ff54fb506": {
          "model_module": "@jupyter-widgets/base",
          "model_name": "LayoutModel",
          "state": {
            "_view_name": "LayoutView",
            "grid_template_rows": null,
            "right": null,
            "justify_content": null,
            "_view_module": "@jupyter-widgets/base",
            "overflow": null,
            "_model_module_version": "1.2.0",
            "_view_count": null,
            "flex_flow": null,
            "width": null,
            "min_width": null,
            "border": null,
            "align_items": null,
            "bottom": null,
            "_model_module": "@jupyter-widgets/base",
            "top": null,
            "grid_column": null,
            "overflow_y": null,
            "overflow_x": null,
            "grid_auto_flow": null,
            "grid_area": null,
            "grid_template_columns": null,
            "flex": null,
            "_model_name": "LayoutModel",
            "justify_items": null,
            "grid_row": null,
            "max_height": null,
            "align_content": null,
            "visibility": null,
            "align_self": null,
            "height": null,
            "min_height": null,
            "padding": null,
            "grid_auto_rows": null,
            "grid_gap": null,
            "max_width": null,
            "order": null,
            "_view_module_version": "1.2.0",
            "grid_template_areas": null,
            "object_position": null,
            "object_fit": null,
            "grid_auto_columns": null,
            "margin": null,
            "display": null,
            "left": null
          }
        }
      }
    }
  },
  "cells": [
    {
      "cell_type": "markdown",
      "metadata": {
        "id": "HbuX5s5Qqy4L"
      },
      "source": [
        "# Troubleshooting with PyTorch"
      ]
    },
    {
      "cell_type": "code",
      "metadata": {
        "id": "bCdIqY0tKbvS"
      },
      "source": [
        "import torch\n",
        "torch.manual_seed(0)\n",
        "torch.backends.cudnn.deterministic = True\n",
        "torch.backends.cudnn.benchmark = False\n",
        "\n",
        "import numpy as np\n",
        "np.random.seed(0)"
      ],
      "execution_count": 1,
      "outputs": []
    },
    {
      "cell_type": "code",
      "metadata": {
        "id": "PCJzXv0OK1Bs",
        "colab": {
          "base_uri": "https://localhost:8080/",
          "height": 573,
          "referenced_widgets": [
            "325535158fcf431bb40333c513a5d563",
            "67dde0aa94ff403cbbeea9198a3dae8d",
            "84358e7f1afa43b8b6b03ef34cb12a85",
            "36a383ba16874af0890bcd8b1626a535",
            "b4ab5f210a624e8c96d5084526d3add2",
            "d04df73738404a30a2ce5198ee4d64ec",
            "aa5b7f9172214450ac8ff4a7f630daa3",
            "1dc74e5b23f64961b3e480aa39419d76",
            "6b349e0184744e3ab5bb9f46f6a026a6",
            "1b0238d408ee4471ab1244252a9a9a6b",
            "9ff66877cc2c4ba485f76d588767bf16",
            "8f3537842eb247fb8bb6a5bea8df7c40",
            "4f57ba8c9950420fa33030062f6bf256",
            "d321b990ef3a48c6b228ec5b6d67b36e",
            "f9229f2ee7074fab8fdbf85087a48ae1",
            "4c7235fccee944bfbaccefb0bbefe634",
            "9c2c90be178041c2b1e252fcdc5a304a",
            "d427d0b22f4b4899a63620605a57d960",
            "4eda96fc56e0465ba63a1d49598c838a",
            "5de24535c771496d82b10db27dc6636b",
            "238d6dce58a741f0aa52217c65f74e0d",
            "56ee769abc06405781b4d91f50c21a57",
            "bcc0b11322cd4b1c889b83b2d7745335",
            "320643493af34626bfc95113776f2dbe",
            "520596f8f3b147f7b4368e4a2f8e972e",
            "58e212a3c32945cdb60d4cff5e4e9c22",
            "cf8c757defd54fff8d9306d322fe872c",
            "f3f0a2603eb24c68892fc06e77b27a9d",
            "bb618083fe7847668bb452ae170d41e4",
            "1e4b8a713a5f4096ab2ebbc2caded149",
            "22393f02404b41d3a3276f674c81514a",
            "16669e3785ff4df7abcf636ff54fb506"
          ]
        },
        "outputId": "8e3c2948-a297-4aaf-a5fc-21b5feb425c7"
      },
      "source": [
        "from torchvision import datasets, transforms\n",
        "import torch.nn.functional as F\n",
        "from torch import nn\n",
        "\n",
        "mean, std = (0.5,), (0.5,)\n",
        "\n",
        "# Create a transform and normalise data\n",
        "transform = transforms.Compose([transforms.ToTensor(),\n",
        "                                transforms.Normalize(mean, std)\n",
        "                              ])\n",
        "\n",
        "# Download FMNIST training dataset and load training data\n",
        "trainset = datasets.FashionMNIST('~/.pytorch/FMNIST/', download=True, train=True, transform=transform)\n",
        "trainloader = torch.utils.data.DataLoader(trainset, batch_size=64, shuffle=True)\n",
        "\n",
        "# Download FMNIST test dataset and load test data\n",
        "testset = datasets.FashionMNIST('~/.pytorch/FMNIST/', download=True, train=False, transform=transform)\n",
        "testloader = torch.utils.data.DataLoader(testset, batch_size=64, shuffle=False)"
      ],
      "execution_count": 2,
      "outputs": [
        {
          "output_type": "stream",
          "text": [
            "Downloading http://fashion-mnist.s3-website.eu-central-1.amazonaws.com/train-images-idx3-ubyte.gz\n",
            "Downloading http://fashion-mnist.s3-website.eu-central-1.amazonaws.com/train-images-idx3-ubyte.gz to /root/.pytorch/FMNIST/FashionMNIST/raw/train-images-idx3-ubyte.gz\n"
          ],
          "name": "stdout"
        },
        {
          "output_type": "display_data",
          "data": {
            "application/vnd.jupyter.widget-view+json": {
              "model_id": "325535158fcf431bb40333c513a5d563",
              "version_minor": 0,
              "version_major": 2
            },
            "text/plain": [
              "HBox(children=(FloatProgress(value=0.0, max=26421880.0), HTML(value='')))"
            ]
          },
          "metadata": {
            "tags": []
          }
        },
        {
          "output_type": "stream",
          "text": [
            "\n",
            "Extracting /root/.pytorch/FMNIST/FashionMNIST/raw/train-images-idx3-ubyte.gz to /root/.pytorch/FMNIST/FashionMNIST/raw\n",
            "\n",
            "Downloading http://fashion-mnist.s3-website.eu-central-1.amazonaws.com/train-labels-idx1-ubyte.gz\n",
            "Downloading http://fashion-mnist.s3-website.eu-central-1.amazonaws.com/train-labels-idx1-ubyte.gz to /root/.pytorch/FMNIST/FashionMNIST/raw/train-labels-idx1-ubyte.gz\n"
          ],
          "name": "stdout"
        },
        {
          "output_type": "display_data",
          "data": {
            "application/vnd.jupyter.widget-view+json": {
              "model_id": "6b349e0184744e3ab5bb9f46f6a026a6",
              "version_minor": 0,
              "version_major": 2
            },
            "text/plain": [
              "HBox(children=(FloatProgress(value=0.0, max=29515.0), HTML(value='')))"
            ]
          },
          "metadata": {
            "tags": []
          }
        },
        {
          "output_type": "stream",
          "text": [
            "\n",
            "Extracting /root/.pytorch/FMNIST/FashionMNIST/raw/train-labels-idx1-ubyte.gz to /root/.pytorch/FMNIST/FashionMNIST/raw\n",
            "\n",
            "Downloading http://fashion-mnist.s3-website.eu-central-1.amazonaws.com/t10k-images-idx3-ubyte.gz\n",
            "Downloading http://fashion-mnist.s3-website.eu-central-1.amazonaws.com/t10k-images-idx3-ubyte.gz to /root/.pytorch/FMNIST/FashionMNIST/raw/t10k-images-idx3-ubyte.gz\n"
          ],
          "name": "stdout"
        },
        {
          "output_type": "display_data",
          "data": {
            "application/vnd.jupyter.widget-view+json": {
              "model_id": "9c2c90be178041c2b1e252fcdc5a304a",
              "version_minor": 0,
              "version_major": 2
            },
            "text/plain": [
              "HBox(children=(FloatProgress(value=0.0, max=4422102.0), HTML(value='')))"
            ]
          },
          "metadata": {
            "tags": []
          }
        },
        {
          "output_type": "stream",
          "text": [
            "\n",
            "Extracting /root/.pytorch/FMNIST/FashionMNIST/raw/t10k-images-idx3-ubyte.gz to /root/.pytorch/FMNIST/FashionMNIST/raw\n",
            "\n",
            "Downloading http://fashion-mnist.s3-website.eu-central-1.amazonaws.com/t10k-labels-idx1-ubyte.gz\n",
            "Downloading http://fashion-mnist.s3-website.eu-central-1.amazonaws.com/t10k-labels-idx1-ubyte.gz to /root/.pytorch/FMNIST/FashionMNIST/raw/t10k-labels-idx1-ubyte.gz\n"
          ],
          "name": "stdout"
        },
        {
          "output_type": "display_data",
          "data": {
            "application/vnd.jupyter.widget-view+json": {
              "model_id": "520596f8f3b147f7b4368e4a2f8e972e",
              "version_minor": 0,
              "version_major": 2
            },
            "text/plain": [
              "HBox(children=(FloatProgress(value=0.0, max=5148.0), HTML(value='')))"
            ]
          },
          "metadata": {
            "tags": []
          }
        },
        {
          "output_type": "stream",
          "text": [
            "\n",
            "Extracting /root/.pytorch/FMNIST/FashionMNIST/raw/t10k-labels-idx1-ubyte.gz to /root/.pytorch/FMNIST/FashionMNIST/raw\n",
            "\n",
            "Processing...\n"
          ],
          "name": "stdout"
        },
        {
          "output_type": "stream",
          "text": [
            "/usr/local/lib/python3.7/dist-packages/torchvision/datasets/mnist.py:502: UserWarning: The given NumPy array is not writeable, and PyTorch does not support non-writeable tensors. This means you can write to the underlying (supposedly non-writeable) NumPy array using the tensor. You may want to copy the array to protect its data or make it writeable before converting it to a tensor. This type of warning will be suppressed for the rest of this program. (Triggered internally at  /pytorch/torch/csrc/utils/tensor_numpy.cpp:143.)\n",
            "  return torch.from_numpy(parsed.astype(m[2], copy=False)).view(*s)\n"
          ],
          "name": "stderr"
        },
        {
          "output_type": "stream",
          "text": [
            "Done!\n"
          ],
          "name": "stdout"
        }
      ]
    },
    {
      "cell_type": "code",
      "metadata": {
        "id": "rqMqFbIVrbFH"
      },
      "source": [
        "class FMNIST(nn.Module):\n",
        "  def __init__(self):\n",
        "    super().__init__()\n",
        "    self.fc1 = nn.Linear(784, 128)\n",
        "    self.fc2 = nn.Linear(128,64)\n",
        "    self.fc3 = nn.Linear(64,10)\n",
        "    \n",
        "  def forward(self, x):\n",
        "    x = x.view(x.shape[0], -1)\n",
        "    \n",
        "    x = F.relu(self.fc1(x))\n",
        "    x = F.relu(self.fc2(x))\n",
        "    x = self.fc3(x)\n",
        "    x = F.log_softmax(x, dim=1)\n",
        "    return x\n",
        "\n",
        "    \n",
        "model = FMNIST()   "
      ],
      "execution_count": 10,
      "outputs": []
    },
    {
      "cell_type": "markdown",
      "metadata": {
        "id": "xpapLkSQEAN8"
      },
      "source": [
        "**The following code block and output shows how can we use the debugger. In our case, the error arises when the output is not returned from the forward method.**\n",
        "\n",
        "\n",
        "```\n",
        "def forward(self, x):\n",
        "    x = x.view(x.shape[0], -1)\n",
        "    x = F.relu(self.fc1(x))\n",
        "    x = F.relu(self.fc2(x))\n",
        "    x = self.fc3(x)\n",
        "    x = F.log_softmax(x, dim=1)\n",
        "    # x is not returned\n",
        "    \n",
        "```\n",
        "The below image shows some of the commands that we can use for debugging:-\n",
        "![Debugger.JPG](data:image/jpeg;base64,/9j/4AAQSkZJRgABAQEAeAB4AAD/4RDsRXhpZgAATU0AKgAAAAgABAE7AAIAAAALAAAISodpAAQAAAABAAAIVpydAAEAAAAWAAAQzuocAAcAAAgMAAAAPgAAAAAc6gAAAAgAAAAAAAAAAAAAAAAAAAAAAAAAAAAAAAAAAAAAAAAAAAAAAAAAAAAAAAAAAAAAAAAAAAAAAAAAAAAAAAAAAAAAAAAAAAAAAAAAAAAAAAAAAAAAAAAAAAAAAAAAAAAAAAAAAAAAAAAAAAAAAAAAAAAAAAAAAAAAAAAAAAAAAAAAAAAAAAAAAAAAAAAAAAAAAAAAAAAAAAAAAAAAAAAAAAAAAAAAAAAAAAAAAAAAAAAAAAAAAAAAAAAAAAAAAAAAAAAAAAAAAAAAAAAAAAAAAAAAAAAAAAAAAAAAAAAAAAAAAAAAAAAAAAAAAAAAAAAAAAAAAAAAAAAAAAAAAAAAAAAAAAAAAAAAAAAAAAAAAAAAAAAAAAAAAAAAAAAAAAAAAAAAAAAAAAAAAAAAAAAAAAAAAAAAAAAAAAAAAAAAAAAAAAAAAAAAAAAAAAAAAAAAAAAAAAAAAAAAAAAAAAAAAAAAAAAAAAAAAAAAAAAAAAAAAAAAAAAAAAAAAAAAAAAAAAAAAAAAAAAAAAAAAAAAAAAAAAAAAAAAAAAAAAAAAAAAAAAAAAAAAAAAAAAAAAAAAAAAAAAAAAAAAAAAAAAAAAAAAAAAAAAAAAAAAAAAAAAAAAAAAAAAAAAAAAAAAAAAAAAAAAAAAAAAAAAAAAAAAAAAAAAAAAAAAAAAAAAAAAAAAAAAAAAAAAAAAAAAAAAAAAAAAAAAAAAAAAAAAAAAAAAAAAAAAAAAAAAAAAAAAAAAAAAAAAAAAAAAAAAAAAAAAAAAAAAAAAAAAAAAAAAAAAAAAAAAAAAAAAAAAAAAAAAAAAAAAAAAAAAAAAAAAAAAAAAAAAAAAAAAAAAAAAAAAAAAAAAAAAAAAAAAAAAAAAAAAAAAAAAAAAAAAAAAAAAAAAAAAAAAAAAAAAAAAAAAAAAAAAAAAAAAAAAAAAAAAAAAAAAAAAAAAAAAAAAAAAAAAAAAAAAAAAAAAAAAAAAAAAAAAAAAAAAAAAAAAAAAAAAAAAAAAAAAAAAAAAAAAAAAAAAAAAAAAAAAAAAAAAAAAAAAAAAAAAAAAAAAAAAAAAAAAAAAAAAAAAAAAAAAAAAAAAAAAAAAAAAAAAAAAAAAAAAAAAAAAAAAAAAAAAAAAAAAAAAAAAAAAAAAAAAAAAAAAAAAAAAAAAAAAAAAAAAAAAAAAAAAAAAAAAAAAAAAAAAAAAAAAAAAAAAAAAAAAAAAAAAAAAAAAAAAAAAAAAAAAAAAAAAAAAAAAAAAAAAAAAAAAAAAAAAAAAAAAAAAAAAAAAAAAAAAAAAAAAAAAAAAAAAAAAAAAAAAAAAAAAAAAAAAAAAAAAAAAAAAAAAAAAAAAAAAAAAAAAAAAAAAAAAAAAAAAAAAAAAAAAAAAAAAAAAAAAAAAAAAAAAAAAAAAAAAAAAAAAAAAAAAAAAAAAAAAAAAAAAAAAAAAAAAAAAAAAAAAAAAAAAAAAAAAAAAAAAAAAAAAAAAAAAAAAAAAAAAAAAAAAAAAAAAAAAAAAAAAAAAAAAAAAAAAAAAAAAAAAAAAAAAAAAAAAAAAAAAAAAAAAAAAAAAAAAAAAAAAAAAAAAAAAAAAAAAAAAAAAAAAAAAAAAAAAAAAAAAAAAAAAAAAAAAAAAAAAAAAAAAAAAAAAAAAAAAAAAAAAAAAAAAAAAAAAAAAAAAAAAAAAAAAAAAAAAAAAAAAAAAAAAAAAAAAAAAAAAAAAAAAAAAAAAAAAAAAAAAAAAAAAAAAAAAAAAAAAAAAAAAAAAAAAAAAAAAAAAAAAAAAAAAAAAAAAAAAAAAAAAAAAAAAAAAAAAAAAAAAAAAAAAAAAAAAAAAAAAAAAAAAAAAAAAAAAAAAAAAAAAAAAAAAAAAAAAAAAAAAAAAAAAAAAAAAAAAAAAAAAAAAAAAAAAAAAAAAAAAAAAAAAAAAAAAAAAAAAAAAAAAAAAAAAAAAAAAAAAAAAAAAAAAAAAAAAAAAAAAAAAAAAAAAAAAAAAAAAAAAAAAAAAAAAAAAAAAAAAAAAAAAAAAAAAAAAAAAAAAAAAAAAAAAAAAAAAAAAAAAAAAAAAAAAAAAAAAAAAAAAAAAAAAAAAAAAAAAAAAAAAAAAAAAAAAAAAAAAAAAAAAAAAAAAAAAAAAAAAAAAAAAAAAAAAAAAAAAAAAAAAAAAAAAAAAAAAAAAAAAAAAAAAAAAAAAAAAAAAAAAAAAAAAAAAAAAAAAAAAAAAAAAAAAAAAAAAAAAAAAAAAAAAAAAAAAAAAAAAAAAAAAAAAAAAAAAAAAAAAAAAAAAAAAAAAAAAAAAAAAAAAAAAAAAAAAAAAAAAAAAAAAAAAAAAAAAAAAAAAAAAAAAAAAAAAAAAAAAAAAAAAAAAAAAAAAAAAAAAAAAAAAAAAAAAAAAAAAAAAAAAAAAAAAAAAAAAAAAAAAAAAAAAAAAAAAAAAAAAAAAAAAAAAAAAAAAAAAAAAAAAAAAAAAAAAAAAAAAAAAAAAAAAAAAAAAAAAAAAAAAAAAAAAAAAAAAAAAAAAAAAAAAAAAAAAAAAAAAAAAAAAAAAAAAAAAAAAAAAAAAAAAAAAAAAAAAAAAAAAAAAAAAAAAAAAAAAAAAAAAAAAAAAAAAAAAAAAAAAAAAAAAAAAAAAAAAAAAAAAAAAAAAAAAAAAAAAAAAAAAAAAAAAAAAAAAAAAAAAAAAAAAAAAAAAAAAAAAAAAAAAAAAAAAAAAAAAAAAAAAAAAAAAAAAAAAAAAAAAAAAAAAAAAAFNlZW1hIE5lZ2kAAAAFkAMAAgAAABQAABCkkAQAAgAAABQAABC4kpEAAgAAAAMyMgAAkpIAAgAAAAMyMgAA6hwABwAACAwAAAiYAAAAABzqAAAACAAAAAAAAAAAAAAAAAAAAAAAAAAAAAAAAAAAAAAAAAAAAAAAAAAAAAAAAAAAAAAAAAAAAAAAAAAAAAAAAAAAAAAAAAAAAAAAAAAAAAAAAAAAAAAAAAAAAAAAAAAAAAAAAAAAAAAAAAAAAAAAAAAAAAAAAAAAAAAAAAAAAAAAAAAAAAAAAAAAAAAAAAAAAAAAAAAAAAAAAAAAAAAAAAAAAAAAAAAAAAAAAAAAAAAAAAAAAAAAAAAAAAAAAAAAAAAAAAAAAAAAAAAAAAAAAAAAAAAAAAAAAAAAAAAAAAAAAAAAAAAAAAAAAAAAAAAAAAAAAAAAAAAAAAAAAAAAAAAAAAAAAAAAAAAAAAAAAAAAAAAAAAAAAAAAAAAAAAAAAAAAAAAAAAAAAAAAAAAAAAAAAAAAAAAAAAAAAAAAAAAAAAAAAAAAAAAAAAAAAAAAAAAAAAAAAAAAAAAAAAAAAAAAAAAAAAAAAAAAAAAAAAAAAAAAAAAAAAAAAAAAAAAAAAAAAAAAAAAAAAAAAAAAAAAAAAAAAAAAAAAAAAAAAAAAAAAAAAAAAAAAAAAAAAAAAAAAAAAAAAAAAAAAAAAAAAAAAAAAAAAAAAAAAAAAAAAAAAAAAAAAAAAAAAAAAAAAAAAAAAAAAAAAAAAAAAAAAAAAAAAAAAAAAAAAAAAAAAAAAAAAAAAAAAAAAAAAAAAAAAAAAAAAAAAAAAAAAAAAAAAAAAAAAAAAAAAAAAAAAAAAAAAAAAAAAAAAAAAAAAAAAAAAAAAAAAAAAAAAAAAAAAAAAAAAAAAAAAAAAAAAAAAAAAAAAAAAAAAAAAAAAAAAAAAAAAAAAAAAAAAAAAAAAAAAAAAAAAAAAAAAAAAAAAAAAAAAAAAAAAAAAAAAAAAAAAAAAAAAAAAAAAAAAAAAAAAAAAAAAAAAAAAAAAAAAAAAAAAAAAAAAAAAAAAAAAAAAAAAAAAAAAAAAAAAAAAAAAAAAAAAAAAAAAAAAAAAAAAAAAAAAAAAAAAAAAAAAAAAAAAAAAAAAAAAAAAAAAAAAAAAAAAAAAAAAAAAAAAAAAAAAAAAAAAAAAAAAAAAAAAAAAAAAAAAAAAAAAAAAAAAAAAAAAAAAAAAAAAAAAAAAAAAAAAAAAAAAAAAAAAAAAAAAAAAAAAAAAAAAAAAAAAAAAAAAAAAAAAAAAAAAAAAAAAAAAAAAAAAAAAAAAAAAAAAAAAAAAAAAAAAAAAAAAAAAAAAAAAAAAAAAAAAAAAAAAAAAAAAAAAAAAAAAAAAAAAAAAAAAAAAAAAAAAAAAAAAAAAAAAAAAAAAAAAAAAAAAAAAAAAAAAAAAAAAAAAAAAAAAAAAAAAAAAAAAAAAAAAAAAAAAAAAAAAAAAAAAAAAAAAAAAAAAAAAAAAAAAAAAAAAAAAAAAAAAAAAAAAAAAAAAAAAAAAAAAAAAAAAAAAAAAAAAAAAAAAAAAAAAAAAAAAAAAAAAAAAAAAAAAAAAAAAAAAAAAAAAAAAAAAAAAAAAAAAAAAAAAAAAAAAAAAAAAAAAAAAAAAAAAAAAAAAAAAAAAAAAAAAAAAAAAAAAAAAAAAAAAAAAAAAAAAAAAAAAAAAAAAAAAAAAAAAAAAAAAAAAAAAAAAAAAAAAAAAAAAAAAAAAAAAAAAAAAAAAAAAAAAAAAAAAAAAAAAAAAAAAAAAAAAAAAAAAAAAAAAAAAAAAAAAAAAAAAAAAAAAAAAAAAAAAAAAAAAAAAAAAAAAAAAAAAAAAAAAAAAAAAAAAAAAAAAAAAAAAAAAAAAAAAAAAAAAAAAAAAAAAAAAAAAAAAAAAAAAAAAAAAAAAAAAAAAAAAAAAAAAAAAAAAAAAAAAAAAAAAAAAAAAAAAAAAAAAAAAAAAAAAAAAAAAAAAAAAAAAAAAAAAAAAAAAAAAAAAAAAAAAAAAAAAAAAAAAAAAAAAAAAAAAAAAAAAAAAAAAAAAAAAAAAAAAAAAAAAAAAAAAAAAAAAAAAAAAAAAAAAAAAAAAAAAAAAAAAAAAAAAAAAAAAAAAAAAAAAAAAAAAAAAAAAAAAAAAAAAAAAAAAAAAAAAAAAAAAAAAAAAAAAAAAAAAAAAAAAAAAAAAAAAAAAAAAAAAAAAAAAAAAAAAAAAAAAAAAAAAAAAAAAAAAAAAAAAAAAAAAAAAAAAAAAAAAAAAAAAAAAAAAAAAAAAAAAAAAAAAAAAAAAAAAAAAAAAAAAAAAAAAAAAAAAAAAAAAAAAAAAAAAAAAAAAAAAAAAAAAAAAAAAAAAAAAAAAAAAAAAAAAAAAAAAAAAAAAAAAAAAAAAAAAAAAAAAAAAAAAAAAAAAAAAAAAAAAAAAAAAAAAAAAAAAAAAAAAAAAAAAAAAAAAAAAAAAAAAAAAAAAAAAAAAAAAAAAAAAAAAAAAAAAAAAAAAAAAAAAAAAAAAAAAAAAAAAAAAAAAAAAAAAAAAAAAAAAAAAAAAAAAAAAAAAAAAAAAAAAAAAAAAAAAAAAAAAAAAAAAAAAAAAAAAAAAAAAAAAAAAAAAAAAAAAAAAAAAAAAAAAAAAAAAAAAAAAAAAAAAAAAAAAAAAAAAAAAAAAAAAAAAAAAAAAAAAAAAAAAAAAAAAAAAAAAAAAAAAAAAAAAAAAAAAAAAAAAAAAAAAAAAAAAAAAAAAAAAAAAAAAAAAAAAAAAAAAAAAAAAAAAAAAAAAAAAAAAAAAAAAAAAAAAAAAAAAAAAAAAAAAAAAAAAAAAAAAAAAAAAAAAAAAAMjAyMTowNjowMyAwMTozNTozMgAyMDIxOjA2OjAzIDAxOjM1OjMyAAAAUwBlAGUAbQBhACAATgBlAGcAaQAAAP/hCx1odHRwOi8vbnMuYWRvYmUuY29tL3hhcC8xLjAvADw/eHBhY2tldCBiZWdpbj0n77u/JyBpZD0nVzVNME1wQ2VoaUh6cmVTek5UY3prYzlkJz8+DQo8eDp4bXBtZXRhIHhtbG5zOng9ImFkb2JlOm5zOm1ldGEvIj48cmRmOlJERiB4bWxuczpyZGY9Imh0dHA6Ly93d3cudzMub3JnLzE5OTkvMDIvMjItcmRmLXN5bnRheC1ucyMiPjxyZGY6RGVzY3JpcHRpb24gcmRmOmFib3V0PSJ1dWlkOmZhZjViZGQ1LWJhM2QtMTFkYS1hZDMxLWQzM2Q3NTE4MmYxYiIgeG1sbnM6ZGM9Imh0dHA6Ly9wdXJsLm9yZy9kYy9lbGVtZW50cy8xLjEvIi8+PHJkZjpEZXNjcmlwdGlvbiByZGY6YWJvdXQ9InV1aWQ6ZmFmNWJkZDUtYmEzZC0xMWRhLWFkMzEtZDMzZDc1MTgyZjFiIiB4bWxuczp4bXA9Imh0dHA6Ly9ucy5hZG9iZS5jb20veGFwLzEuMC8iPjx4bXA6Q3JlYXRlRGF0ZT4yMDIxLTA2LTAzVDAxOjM1OjMyLjIyMjwveG1wOkNyZWF0ZURhdGU+PC9yZGY6RGVzY3JpcHRpb24+PHJkZjpEZXNjcmlwdGlvbiByZGY6YWJvdXQ9InV1aWQ6ZmFmNWJkZDUtYmEzZC0xMWRhLWFkMzEtZDMzZDc1MTgyZjFiIiB4bWxuczpkYz0iaHR0cDovL3B1cmwub3JnL2RjL2VsZW1lbnRzLzEuMS8iPjxkYzpjcmVhdG9yPjxyZGY6U2VxIHhtbG5zOnJkZj0iaHR0cDovL3d3dy53My5vcmcvMTk5OS8wMi8yMi1yZGYtc3ludGF4LW5zIyI+PHJkZjpsaT5TZWVtYSBOZWdpPC9yZGY6bGk+PC9yZGY6U2VxPg0KCQkJPC9kYzpjcmVhdG9yPjwvcmRmOkRlc2NyaXB0aW9uPjwvcmRmOlJERj48L3g6eG1wbWV0YT4NCiAgICAgICAgICAgICAgICAgICAgICAgICAgICAgICAgICAgICAgICAgICAgICAgICAgICAgICAgICAgICAgICAgICAgICAgICAgICAgICAgICAgICAgICAgICAgICAgICAgICAKICAgICAgICAgICAgICAgICAgICAgICAgICAgICAgICAgICAgICAgICAgICAgICAgICAgICAgICAgICAgICAgICAgICAgICAgICAgICAgICAgICAgICAgICAgICAgICAgICAgIAogICAgICAgICAgICAgICAgICAgICAgICAgICAgICAgICAgICAgICAgICAgICAgICAgICAgICAgICAgICAgICAgICAgICAgICAgICAgICAgICAgICAgICAgICAgICAgICAgICAgCiAgICAgICAgICAgICAgICAgICAgICAgICAgICAgICAgICAgICAgICAgICAgICAgICAgICAgICAgICAgICAgICAgICAgICAgICAgICAgICAgICAgICAgICAgICAgICAgICAgICAKICAgICAgICAgICAgICAgICAgICAgICAgICAgICAgICAgICAgICAgICAgICAgICAgICAgICAgICAgICAgICAgICAgICAgICAgICAgICAgICAgICAgICAgICAgICAgICAgICAgIAogICAgICAgICAgICAgICAgICAgICAgICAgICAgICAgICAgICAgICAgICAgICAgICAgICAgICAgICAgICAgICAgICAgICAgICAgICAgICAgICAgICAgICAgICAgICAgICAgICAgCiAgICAgICAgICAgICAgICAgICAgICAgICAgICAgICAgICAgICAgICAgICAgICAgICAgICAgICAgICAgICAgICAgICAgICAgICAgICAgICAgICAgICAgICAgICAgICAgICAgICAKICAgICAgICAgICAgICAgICAgICAgICAgICAgICAgICAgICAgICAgICAgICAgICAgICAgICAgICAgICAgICAgICAgICAgICAgICAgICAgICAgICAgICAgICAgICAgICAgICAgIAogICAgICAgICAgICAgICAgICAgICAgICAgICAgICAgICAgICAgICAgICAgICAgICAgICAgICAgICAgICAgICAgICAgICAgICAgICAgICAgICAgICAgICAgICAgICAgICAgICAgCiAgICAgICAgICAgICAgICAgICAgICAgICAgICAgICAgICAgICAgICAgICAgICAgICAgICAgICAgICAgICAgICAgICAgICAgICAgICAgICAgICAgICAgICAgICAgICAgICAgICAKICAgICAgICAgICAgICAgICAgICAgICAgICAgICAgICAgICAgICAgICAgICAgICAgICAgICAgICAgICAgICAgICAgICAgICAgICAgICAgICAgICAgICAgICAgICAgICAgICAgIAogICAgICAgICAgICAgICAgICAgICAgICAgICAgICAgICAgICAgICAgICAgICAgICAgICAgICAgICAgICAgICAgICAgICAgICAgICAgICAgICAgICAgICAgICAgICAgICAgICAgCiAgICAgICAgICAgICAgICAgICAgICAgICAgICAgICAgICAgICAgICAgICAgICAgICAgICAgICAgICAgICAgICAgICAgICAgICAgICAgICAgICAgICAgICAgICAgICAgICAgICAKICAgICAgICAgICAgICAgICAgICAgICAgICAgICAgICAgICAgICAgICAgICAgICAgICAgICAgICAgICAgICAgICAgICAgICAgICAgICAgICAgICAgICAgICAgICAgICAgICAgIAogICAgICAgICAgICAgICAgICAgICAgICAgICAgICAgICAgICAgICAgICAgICAgICAgICAgICAgICAgICAgICAgICAgICAgICAgICAgICAgICAgICAgICAgICAgICAgICAgICAgCiAgICAgICAgICAgICAgICAgICAgICAgICAgICAgICAgICAgICAgICAgICAgICAgICAgICAgICAgICAgICAgICAgICAgICAgICAgICAgICAgICAgICAgICAgICAgICAgICAgICAKICAgICAgICAgICAgICAgICAgICAgICAgICAgICAgICAgICAgICAgICAgICAgICAgICAgICAgICAgICAgICAgICAgICAgICAgICAgICAgICAgICAgICAgICAgICAgICAgICAgIAogICAgICAgICAgICAgICAgICAgICAgICAgICAgICAgICAgICAgICAgICAgICAgICAgICAgICAgICAgICAgICAgICAgICAgICAgICAgICAgICAgICAgICAgICAgICAgICAgICAgCiAgICAgICAgICAgICAgICAgICAgICAgICAgICAgICAgICAgICAgICAgICAgICAgICAgICAgICAgICAgICAgICAgICAgICAgICAgICAgICAgICAgICAgICAgICAgICAgICAgICAKICAgICAgICAgICAgICAgICAgICAgICAgICAgICAgICAgICAgICAgICAgICAgICAgICAgICAgICAgICAgICAgICAgICAgICAgICAgICAgICAgICAgICAgICAgICAgICAgICAgIAogICAgICAgICAgICAgICAgICAgICAgICAgICAgPD94cGFja2V0IGVuZD0ndyc/Pv/bAEMABwUFBgUEBwYFBggHBwgKEQsKCQkKFQ8QDBEYFRoZGBUYFxseJyEbHSUdFxgiLiIlKCkrLCsaIC8zLyoyJyorKv/bAEMBBwgICgkKFAsLFCocGBwqKioqKioqKioqKioqKioqKioqKioqKioqKioqKioqKioqKioqKioqKioqKioqKioqKv/AABEIAdEELgMBIgACEQEDEQH/xAAfAAABBQEBAQEBAQAAAAAAAAAAAQIDBAUGBwgJCgv/xAC1EAACAQMDAgQDBQUEBAAAAX0BAgMABBEFEiExQQYTUWEHInEUMoGRoQgjQrHBFVLR8CQzYnKCCQoWFxgZGiUmJygpKjQ1Njc4OTpDREVGR0hJSlNUVVZXWFlaY2RlZmdoaWpzdHV2d3h5eoOEhYaHiImKkpOUlZaXmJmaoqOkpaanqKmqsrO0tba3uLm6wsPExcbHyMnK0tPU1dbX2Nna4eLj5OXm5+jp6vHy8/T19vf4+fr/xAAfAQADAQEBAQEBAQEBAAAAAAAAAQIDBAUGBwgJCgv/xAC1EQACAQIEBAMEBwUEBAABAncAAQIDEQQFITEGEkFRB2FxEyIygQgUQpGhscEJIzNS8BVictEKFiQ04SXxFxgZGiYnKCkqNTY3ODk6Q0RFRkdISUpTVFVWV1hZWmNkZWZnaGlqc3R1dnd4eXqCg4SFhoeIiYqSk5SVlpeYmZqio6Slpqeoqaqys7S1tre4ubrCw8TFxsfIycrS09TV1tfY2dri4+Tl5ufo6ery8/T19vf4+fr/2gAMAwEAAhEDEQA/APpGiiigAooooAKKKKACiiigAooooAKKKKACiiigApKWigAFFFFABRRRQAUUUUAFFFFABRRRQAUUUUAFJ3paKACiiigBKWiigAooooAKKKKACkpaKACiiigAooooAKKKKACiiigAooooAKKKKACiiigAooooAKKKKACiiigAooooAKKKKACiiigAoooxQAUUUUAFFFFABRRRQAUUUUAFFFFABRRRQAUUUUAFFFFABRRRQAUUUUAFFFFABRRRQAUUUUAFFFFABRRRQAUUUUAFFFFABRRRQAUUUYoAKQUtFABRRRQAUUUUAFFFFABRRRQAUUUUAFFFFABRRRQAUUUUAFFFFABRRRQAUUUUAJRS0UAFFFFABRRRQBXv3aLTrmRDhliZgfQgV8naX43+IOr2r3SeLJYVMrqEMYOMGvq/U/8AkE3f/XF/5Gvj/wAH/wDIBP8A13k/9CrswdOFWpyzWhy4qpKlT5o7m9/wknxD/wChxk/79Cj/AIST4if9DlJ/36FJQTivX+pYf+U8v67W7i/8JJ8RP+hyk/79Cj/hJPiJ/wBDlJ/36FbuuaBHpWh6RfRys7ahGXZSPu4rBqIYXDTV1EcsZXi7MX/hJPiJ/wBDlJ/36FH/AAknxE/6HKT/AL9CtbTtBe90S+1SSZYLe1woLD/WOf4RUvinQo9AurWKKVpBPbLMSR0J7VP1fC83LylfWsTy83QxP+Ek+In/AEOUn/foUf8ACSfET/ocpP8Av0KbVrTbYXuqW1qzbVmlVCR2ya0eEw6V+UhY2u3ZMr/8JJ8RP+hyk/79Cj/hJPiJ/wBDlJ/36FaXiPS00XxDd6dG5kWB9oY9TxWYuNwDHaCeppRwuGlG/KN4yunZi/8ACSfET/ocpP8Av0KP+Ek+In/Q5Sf9+hWrr+hSaHcwqZVnhuIhLFKvRgam8O6BBrFvqFxd3htYbGLzHYJuyKl4fCqHPy6DWKxDly9TE/4ST4if9DlJ/wB+hR/wknxE/wChyk/79ClkCiRhEdyZ+U46imnjrxV/U8P/ACk/Xa3cX/hJPiJ/0OUn/foUf8JJ8RP+hyk/79Ckop/U8P2D69W7/gL/AMJJ8RP+hyk/79Cj/hJPiJ/0OUn/AH6FJQaX1PD9g+u1u/4C/wDCSfET/ocpP+/Qo/4ST4if9DlJ/wB+hTQaU8U/qeH7B9drd/wF/wCEk+In/Q5Sf9+hR/wknxE/6HKT/v0KSij6nh/5Q+vVu/4C/wDCSfET/ocpP+/Qo/4ST4if9DlJ/wB+hSV3DeA7I6bC66k6Xr2ZuzAUyNo96yqUMLTteJcMViJ/CcR/wknxE/6HKT/v0KD4k+In/Q4yf9+hSA5ANB6Vr9Sw9vhI+u1+51ngvSfiR4z02e8i8fNbCGXyirW+c8da6T/hXHxM/wCikf8AkrV74Gf8ivqH/X2f5V6fXz0klJpHuxd0meRf8K4+Jn/RSP8AyVo/4Vx8TP8AopH/AJK167mkJxUjPI/+FcfEz/opH/krR/wrj4mf9FI/8la9J0PWJdYhuJJrCexMM7RBZxguB/EPY1p596API/8AhXHxM/6KR/5K0f8ACuPiZ/0Uj/yVr1Kx1Oz1LzvsM6zeRIYpNp+6w6isvxX4hk8PQ2DxQiX7VdpbkE4wG70AcB/wrj4mf9FI/wDJWj/hXHxM/wCikf8AkrXrtHFAHkX/AArj4mf9FI/8laP+FcfEz/opH/krXfT+IpIfH1roAhUxzWjXBkzyCDjFb/FAHkX/AArj4mf9FI/8laP+FcfEz/opH/krXr2KTigDyL/hXHxM/wCikf8AkrR/wrj4mf8ARSP/ACVrvdQ8RSWfjbTNEWFWjvInkaQnldtdBxQB5F/wrj4mf9FI/wDJWj/hXHxM/wCikf8AkrXrvFLQB5F/wrj4mf8ARSP/ACVo/wCFcfEz/opH/krXrFzcxWltJcXDiOKNSzsegA70lpdwX1pFc2kiywyqGR16MPWgDyj/AIVx8TP+ikf+StH/AArj4mf9FI/8la9do+lAHkX/AArj4mf9FI/8laP+FcfEz/opH/krXrtGaAPIv+FcfEz/AKKR/wCStH/CuPiZ/wBFI/8AJWvXc0ZoA8i/4Vx8TP8AopH/AJK0f8K4+Jn/AEUj/wAla9dzR060AeRf8K4+Jn/RSP8AyVo/4Vx8TP8AopH/AJK167RmgDyL/hXHxM/6KR/5K0n/AArj4mf9FI/8la9dJA61g+FPEEviGC/mkgWKO3u3gjIOd4XvQBwP/CuPiZ/0Uj/yVo/4Vx8TP+ikf+Steu0UAeRf8K4+Jn/RSP8AyVo/4Vx8TP8AopH/AJK167RQB5F/wrj4mf8ARSP/ACVo/wCFcfEz/opH/krXrtFAHkX/AArj4mf9FI/8laP+FcfEz/opH/krXrtFAHkX/CuPiZ/0Uj/yVo/4Vx8TP+ikf+Steu0UAeRf8K4+Jn/RSP8AyVo/4Vx8TP8AopH/AJK167RQB5F/wrj4mf8ARSP/ACVo/wCFcfEz/opH/krXrtFAHkX/AArj4mf9FI/8laP+FcfEz/opH/krXrtFAHkX/CuPiZ/0Uj/yVo/4Vx8TP+ikf+Steu0UAeRf8K4+Jn/RSP8AyVo/4Vx8TP8AopH/AJK167RQB5F/wrj4mf8ARSP/ACVo/wCFcfEz/opH/krXrtFAHkX/AArj4mf9FI/8laP+FcfEz/opH/krXrtFAHkX/CuPiZ/0Uj/yVo/4Vx8TP+ikf+Steu0UAeRf8K4+Jn/RSP8AyVo/4Vx8TP8AopH/AJK167RQB5F/wrj4mf8ARSP/ACVo/wCFcfEz/opH/krXrtFAHkX/AArj4mf9FI/8laP+FcfEz/opH/krXrtFAHkX/CuPiZ/0Uj/yVo/4Vx8TP+ikf+Steu0UAeRf8K4+Jn/RSP8AyVo/4Vx8TP8AopH/AJK167RQB5F/wrj4mf8ARSP/ACVo/wCFcfEz/opH/krXrtFAHkX/AArj4mf9FI/8laP+FcfEz/opH/krXrtFAHkX/CuPiZ/0Uj/yVo/4Vx8TP+ikf+Steu0UAeRf8K4+Jn/RSP8AyVo/4Vx8TP8AopH/AJK167RQB5F/wrj4mf8ARSP/ACVo/wCFcfEz/opH/krXrtFAHkX/AArj4mf9FI/8laP+FcfEz/opH/krXrtFAHkX/CuPiZ/0Uj/yVo/4Vx8TP+ikf+Steu0UAeRf8K4+Jn/RSP8AyVo/4Vx8TP8AopH/AJK167RQB5F/wrj4mf8ARSP/ACVo/wCFcfEz/opH/krXrtFAHkX/AArj4mf9FI/8laP+FcfEz/opH/krXrtFAHkX/CuPiZ/0Uj/yVo/4Vx8TP+ikf+Steu0UAeRf8K4+Jn/RSP8AyVo/4Vx8TP8AopH/AJK167RQB5F/wrj4mf8ARSP/ACVo/wCFcfEz/opH/krXrtFAHkX/AArj4mf9FI/8laP+FcfEz/opH/krXrtFAHkX/CuPiZ/0Uj/yVo/4Vx8TP+ikf+Steu0UAeRf8K4+Jn/RSP8AyVo/4Vx8TP8AopH/AJK167RQB5EPhz8TB/zUj/yVrR+FU3iOLXPEemeJtaOrNYTJHHIU244yeK9Mrz7wH/yUDxn/ANfif+g0Aeg0UUUAFFFFAFXU/wDkE3f/AFxf+Rr5A8H/APIBP/XeT/0Kvr/U/wDkE3f/AFxf+Rr5A8H/APIBP/XxJ/6FXoZf/G+Rw4/+CbhpDS0Yr3zwj1G51qDSPDXhVZtOgvWnQpmcZ2LkZx71yPj3TrbS/GF1b2KCOEhXVB0XIzWdda9e3ttYQTshTTxiDC9Pr61Hq+rXWt6g17flTMwAJUYHFcdKg4T5vU6qtaE429Devj5Xwx0pYeFlvnMpHcjpmuzvtVtIvEuhaTcaVb3QvLWNJZpVywB4AFcBYazaDwjfaPfq5beJrRl/hfuD7VWm8S6jcarZ6jIyG4slVIiF4AXpUPDyk7Pz/E0VaMV9x2ei+HtNtLzxJeObYGwn8qAXfMcYPciodWj0ue40O8tprFtQ+2KkosQQjrnr9a5S18VanaatdahFIhku2zPGy5R/qKTUPE9/qN3a3EqwRm0bdCkMYVVP0pfVqnNdsPa0eWyR30VtaS+L/F899Ype/Z41dI2GeQKx2ntPFngvVbufSbewn07DRSwJtDf7J9ab4X8TSD/hI9UvLmKK+ngDJnjcw9BWDqvjHVNaslsrpooLbcGdLeMJuPqfWojQqc/pYuVSny373Luus0vw78OyS/6wPKinuU7UeE/+Ra8T/wDXoP51S8Ua1a6l9htNLVlsbGERxhxyT3J/GrHhPUdOtNP1iz1WdoFvrfy0dV3YNbOElS21vf8AEy5ourv0NDSIbTw74Hi8QSWEeoXd3MY41mGUiA7ketWdKNlq66p4mvNKhUafGqrZRDCO5/iIrntJ8W6joEElnZNFPaFiRHPHuXPqB2pLTxfq1lq9xqEEkYe5/wBbEUGxx/u1LoVHd/16DVSmrLp6de50N61r4m8Cz6ncaZb6ddQXCRwPAu0S5IGK3kk0y18Zaf4di0a0kV7dRczOmW+7nivPdV8V6nrEsDXTRrHA4eOGJNqAjvikXxXqaeIW1oPH9tZdudvAGMdPpS+qza1+4r21NO/6HZQz6XqWn+JLKPSLa3tdPiZoZlHz7s9zUcE9loOj+GLYaRa3d3fIDJJMuTgn+dcTba5eWlnfW0LKEv8A/Xkjk85qS48R39zfWF1KY/M09VWABeAB04p/VZXt0/4Avb097anpFudHbxxfeH7fRrX7MIWkllZcsG2549BXOeHrBtLs2vrlNMhgupytvLfqWZgD0VRXOQeJ9St9XutTidPtV2rJKxXseuKsWvjPVbPSorBBbyRwkmJpYgzR/Qml9WqRVo+Qe2pN3Z2r6LpkfxKZmtYmt4dOM80Sr8hbHUDtWZPc2Gv+AtQuTpVtZPbzrHbPCuDyccnvXNP4w1aS+u7xnjM15D5Mp2/w+3pVJdYu10JtIVlFq0vmkAc7vrQsLPS710B1qWtlodxez2fhS90/QrXQ4L95o0aeaZCWkLf3TWnqMqt461G3iXy47bR2jCf3eM4rjIviDrsNnDAGgYwgKkzxAuAO2at6N4itXutV1bW7s/b7q3aFI0Tg5HB9qzeHqLVo0jWptcsWcWnQU49DSAYFL2NenbQ83qevfAv/AJFfUP8Ar8P8q1vite31l4aszpt61jNLfwxmdTjaCcGsn4Gf8ivqH/X2f5VqfFe0W/8AD+m20kZkjk1OBXUDtmvk5/Gz6mPwoyNXs77wHq2i31jrd7qA1C7S2uba6k3iQMfvKO2Kk8L6fqOv+N9bvL7Wr1bXTNR2wWkb4RsDOG9R7V0umfD/AEfTdUjvy11dyw/6gXUxkWH/AHQela+l6FZaPcX01krK99N5025s5bGOKko8w1DWNXn8E3TW+ozQ3Da99nWYNyiF8Y+lag0678PePrDSk1m/urXWbaVZxPLko6jO5D2rrD4K0hrE2hjk8o3f2wjfz5mc5+mav3Wg2V5rdlqsysbmyDCIhuBuGDkUAcD8KfD6Wuo63di/vJDDqEsPlyS5V+nzEd2960vizFLPpGkw28phkk1GJVkA5XnrW9p/gzTtL8SXGsWMlxFLcktLCJT5TMf4tvrV/V9Ds9bS2W/VmFtMs8e1sYYdKAOFVL7wb4/gtIdUvNQtr+zllkiu5N+JEGcr6Z9K5my1DXte0aXXYV15tRkZnge3ZRbJg4C4PbjnNevXWg2V5rdtq06Mbm1RkjOeMN14rEk+G+iPePNG95BFI/mPaw3DLEzf7tAHPvc3c/j/AEu4vozBeNoUjSKP4W71l+HNG1HXvAb6/deKdQjvYfNaLy5gI49pOAw79K9G1Hw/Ym6bVQjfaoLN7eMhuApHTFcL4G+H+max4MtZ7572HzWczQRzsiSfMfvLQB23gXWrjxB4L0/Ur1Qs8sfzkDhiDjP41w3ii8/tTUdWuNGm125lscqZLaQJBbyKM456+9ep2lpBY2cVraRrFDEoREUYAArmbr4c6Lc393cl7uJLwlri3jnKxyMRgkigDhLqa88T654KabUGsp7yykMs8XDnpkA9ia27ae98FeNn0e31G51SzuLCS6WO6fe8LoPX0NdDefDnQb23sIpY51/s+Mx2zJKVaMHvn1q3oPgzS9AuJrmDzrm6mXY891IZHK+mT2oA4Sz03UtW8FP4yl8TXsOoGN7lI0kAgjwThCv4YrT0rxHf6r4x8NPPI8Md7pbyyQg4VnyOcVrzfDHQZrt5M3aW8j+Y9mk5ELHOfu/0rS13wZpWvR2gnEts9nxBLbP5bIPQEdqAOJ1sza5ceNrOXULlYLOJWjWGTG07TkfT1rpvhnpC6Z4LsJVu7m4+0QI5WaTcE46L6Cr2k+CdH0eO+S1jkYagu24MshYvxjrU3hrwrZ+FreS30+a5eFmyqTylxGPRfQUAYnjO+v73xJpPhfT7x7Bb9XlnuY+HCL/Cp9TWbrdveeAdDddM1m8vJdSuY7aJr19/2ct1bNdb4i8J6b4mWBr4Sxz27boZ4HKOh9iKrp4H0geH5tIuPPuoJn3u88pZ93YhuxoA5DVNPv8AwRrmh3Fhrt9qE9/dCC4trmTesikcsB2xVU2moeI5fFep3OuX1pZ2E7rax28u0AovX6Z7V2+jeBdK0a9F2rXN5cqu2OW7lMhjH+znpVmDwlpltot7pUSyC2vnd5/n+YluvNAHmjQa1b+DdF8TXOvXz6nNNEixB8RMjHGCvc471tXFlqHinxzrsEus3tjp2nwIhjtn25kIznNdpceF9NudO0+xljf7Pp7o8ChuhXpn1qW28PWNrJqMkSuH1Jt1wxbknGOPSgDySG31m5+Gk3iK98RX4uLOVkswj7Qyq+BvH8RNdVrmpjWDY6ajarcXsVuktzBprBANw4Lt2+ldO3g7SW8Lp4fMcn2BGDBQ/Jw27k/Wq1/4C0q+1ZtQ8y7t5XjWOUQTFBIoGBnFAHn8Osa3P8P47OC+uYrq41j7JBLIwaVEB5BPfFbS2194U+IdpFDq99fw3FlLNdRXMm4ZUdVHaurtfA2i2drYW8EUixWFwbmFd5++e59avvoNjJro1d0ZrryDByfl2E5PFAHndjY33ibwvdeLtR8SXllKyySW8MEgWKBVyACO/Tmul+FMDxfDuxkmbdLcFpnb+8SetNk+Fnh+RrhN14trcEl7RbgiLJ6kLXU6Xptto+lwafYqUt7dAiKTnAFAFuiiigAooooAKKKKACiiigAooooAKKKKACiiigAooooAKKKKACiiigAooooAKKKKACiiigAooooAKKKKACiiigAooooAKKKKACiiigAooooAKKKKACiiigAooooAKKKKACiiigAooooAKKKKACiiigAooooAKKKKACiiigAooooAKKKKACiiigA71594D/5KB4z/AOvxP/Qa9Brz7wH/AMlA8af9fif+g0Aeg0UUUAFFFFAFXU/+QTd/9cX/AJGvmb4aaZ4VufBwk1nWJrW6+0y5jWPIA3cV9M6n/wAgm7/64v8AyNfH/hAf8SH/ALbyf+hV24OHPUtexyYySjTu1c9V/sXwH/0MNx/36o/sTwH/ANDDcf8AfquGxS4Fev8AVV/OzyPbQ/kX4ncf2J4D/wChhuP+/VH9ieA/+hhuP+/VcPgUYFH1ZfzsPbQ/kR3H9ieA/wDoYbj/AL9Uf2J4D/6GG4/79Vw+BRgUfVv77D20P5F+J3H9ieA/+hhuP+/VH9ieA/8AoYbj/v1XD4FGBR9W/vsXtofyL8TuP7E8Cf8AQxXH/fqj+xfAf/Qw3H/fquHxRgUfVv77D20P5F+J3H9ieA/+hhuP+/VH9ieA/wDoYbj/AL9Vx1lYz6jex2tnH5k0hwqjvUc9u9tcSQTLtkjYqw9CKX1dXtzsftYWvyfmdr/YvgP/AKGG4/79Uf2L4D/6GG4/79Vw+KMCn9V/vMPbU/5Edx/YvgP/AKGG4/79Uf2L4D/6GK4/79Vw+KVY2fOxS2Bk4FL6sl9ph7aH8iO3/sXwH/0MNx/36o/sXwH/ANDDcf8AfquSGk3baU2pLCTaq/ltIOxqnihYeL2mw9rH+T8zuf7F8B/9DFcf9+qP7F8B/wDQw3H/AH6rh8UYp/Vl/Mx+1h/J+Z3H9i+A/wDoYbj/AL9Uf2L4D/6GG4/79Vw+KMCj6sv5mL20P5F+J3H9ieA/+hiuP+/VH9i+A/8AoYbj/v1XD4FGBR9WX8zD20P5F+J3H9i+A/8AoYbj/v1R/YvgPH/IxXH/AH6rh8CkI+U0fVl/Mx+2h/IvxO/8FalrmnLqUHgCwi1jS1uf+Pid/LbdjkYrpn1z4jyACTwpYsAcjdODg1n/ALP3/Irar/1/n+Ves187JWk0e/H4Uecf8JB8S/8AoV7P/wACKP8AhIPiX/0K9n/4EV6PRUlHnH/CQfEv/oV7P/wIo/4SD4l/9CvZ/wDgRXo9FAHnH/CQfEv/AKFez/8AAij/AISD4l/9CvZ/+BFej0UAecf8JB8S/wDoV7P/AMCKP+Eg+Jf/AEK9n/4EV6NuXdt3Dd6Z5paAPOD4g+JZ4PhazI/6+KRNd+JES7Y/CliijoFnwK9IooA85/4SD4l/9CvZ/wDgRR/wkHxL/wChXs//AAIr0aigDzn/AISD4l/9CvZ/+BFH/CQfEv8A6Fez/wDAivRqKAPOf+Eg+Jf/AEK9n/4EUf8ACQfEv/oV7P8A8CK9GooA84/4SD4l/wDQr2f/AIEUf8JB8S/+hXs//AivRt67tu4bvTPNRXdylnZzXMudkSF2x6AUAeff8JB8S/8AoV7P/wACKP8AhIPiX/0K9n/4EV1ll4s0m9h01xceU2pgm2jcYZ8Vt0Aecf8ACQfEv/oV7P8A8CKP+Eg+Jf8A0K9n/wCBFej0UAecf8JB8S/+hXs//Aij/hIPiX/0K9n/AOBFej0UAecf8JB8S/8AoV7P/wACKP8AhIPiX/0K9n/4EV02k+MLTW9eutN0+2uZEtWKSXWz91vHVQfWuhoA84/4SD4l/wDQr2f/AIEUf8JB8S/+hXs//AivR6KAPOP+Eg+Jf/Qr2f8A4EUf8JB8S/8AoV7P/wACK9HrM0XXrTXVuzZb/wDRZ2gk3DHzDrQBxf8AwkHxL/6Fez/8CKX/AISD4l/9CvZ/+BFejUUAec/8JB8S/wDoV7P/AMCKP+Eg+Jf/AEK9n/4EV6NRQB5z/wAJB8S/+hXs/wDwIo/4SD4l/wDQr2f/AIEV6NRQB5z/AMJB8S/+hXs//Aij/hIPiX/0K9n/AOBFeihlbO1gcdcHpS5oA85/4SD4l/8AQr2f/gRR/wAJB8S/+hXs/wDwIr0aigDzn/hIPiX/ANCvZ/8AgRR/wkHxL/6Fez/8CK9GooA85/4SD4l/9CvZ/wDgRR/wkHxL/wChXs//AAIr0akDKWIBBI6jPSgDzr/hIPiX/wBCvZ/+BFH/AAkHxL/6Fez/APAiu31rV7fQ9In1G83GGAAttGT1xTLfX9OuNQhsEuFF3NALhYT97Ye9AHF/8JB8S/8AoV7P/wACKP8AhIPiX/0K9n/4EV6NRQB5z/wkHxL/AOhXs/8AwIo/4SD4l/8AQr2f/gRXo2aTIoA86/4SD4l/9CvZ/wDgRR/wkHxL/wChXs//AAIr0bNFAHnP/CQfEv8A6Fez/wDAij/hIPiX/wBCvZ/+BFejUUAec/8ACQfEv/oV7P8A8CKP+Eg+Jf8A0K9n/wCBFejUUAec/wDCQfEv/oV7P/wIo/4SD4l/9CvZ/wDgRXo1FAHnP/CQfEv/AKFez/8AAik/4SD4l/8AQrWf/gRXo9FAHnH/AAkHxL/6Faz/APAil/4SD4l/9CvZ/wDgRXo1FAHnP/CQfEv/AKFez/8AAij/AISD4l/9CvZ/+BFejUUAec/8JB8S/wDoV7P/AMCKP+Eg+Jf/AEK9n/4EV6NRQB5z/wAJB8S/+hXs/wDwIo/4SD4l/wDQr2f/AIEV6NRQB5z/AMJB8S/+hXs//Aij/hIPiX/0K9n/AOBFejUUAec/8JB8S/8AoV7P/wACKP8AhIPiX/0K9n/4EV6NRQB5z/wkHxL/AOhXs/8AwIo/4SD4l/8AQr2f/gRXo1FAHnP/AAkHxL/6Fez/APAij/hIPiX/ANCvZ/8AgRXo1FAHnP8AwkHxL/6Fez/8CKP+Eg+Jf/Qr2f8A4EV6NRQB5z/wkHxL/wChXs//AAIo/wCEg+Jf/Qr2f/gRXo1FAHnP/CQfEv8A6Fez/wDAij/hIPiX/wBCvZ/+BFejUUAec/8ACQfEv/oV7P8A8CKP+Eg+Jf8A0K9n/wCBFejUUAec/wDCQfEv/oV7P/wIo/4SD4l/9CvZ/wDgRXo1FAHnP/CQfEv/AKFez/8AAij/AISD4l/9CvZ/+BFejUUAec/8JB8S/wDoV7P/AMCKP+Eg+Jf/AEK9n/4EV6NRQB5z/wAJB8S/+hXs/wDwIo/4SD4l/wDQr2f/AIEV6NRQB5z/AMJB8S/+hXs//Aij/hIPiX/0K9n/AOBFejUUAec/8JB8S/8AoV7P/wACKP8AhIPiX/0K9n/4EV6NRQB5z/wkHxL/AOhXs/8AwIo/4SD4l/8AQr2f/gRXo1FAHnH/AAkHxL/6Faz/APAioPhZNe3HirxXLqsC2949whmiQ5CNjpmvTq898B/8lB8af9faf+g0AehUUUUAFFFFAFXU/wDkE3f/AFxf+Rr4/wDB/wDyAf8AtvJ/6FX2Bqf/ACCbv/ri/wDI18f+D/8AkA/9t5P/AEKvQy/+N8jhx38I3TSUtGa988ISiloxQAlFLijFACUtGKKAOs8L6FpF94e1LU9aeZUs3T/VHkg9qTxXoWl2ukadrOhNKtpe5Xy5TkqR71nafryWXhfU9JaAu16VIkB4XFLf+IFvPCenaMIGVrJ2YyZ4bNcfs6ntefz/AAOq9P2dutvxNLwIBbjWNTABlsrJmiPox4zUuj6RoTeEP7f8QNcs32ooyxH7/tVHwRqEFpq09pfuI7XUIGgkcnhc9D+dQXWrpB4Wk8OiPeY7tpBcK3ysBUzpylUa72+4qDiqab/pm5feB7a48VaZaaRM62eoweeDJy0a9xVzUfA9jJpN+1nZXtlPZIXSW4cFZwOuAOlYk3jeVb3RrqxgMcmmweSwY5Eg70uq+KdNurGdbLT7qK5ufvPJcllT12is/Z17ryLvQsy/oPhDS/E2jW+oWkslstqSNQRjnIAzla0fAh8PSXOtCK2nwsL43MD+6H9axLXx2dIt7C00O1+z2sB3XCOQTcE9c1Dpfiqx0nxPd31tp7ixvIzG9uWGVB64NEqNWSlfrsOMqMXFq3mXfDktndzeINM09ZBp09m0saSnJVl5zXEA5Ga7SwvdJ07R9b1Ow/ctdILa1tmfLqD95jXFgYrpoJ80naxz1vhQtJRRXUc2otFJRQMWikooAWkP3TRQfumk9hrc9U/Z+/5FfVP+v4/yrsfHXiz/AIRPRopoxGbi6mEMJkOEUn+JvYVx37P/APyK+q/9f7fyru/FvheLxTpSWzS+RPBKs0Eu3dscdMjuK+Sn8bPqIfCjltA8cXp8TW2jX+o2Wp/bo2MU9ohXyXAzhh6e9Qnx5ri643hFreEeIDP8k3/LMwdfMx647V0GieG9ctLx7rU76wd1jKRR21qEG7sxPX8qzW+GjNp7XX9oY8Rm4+0jUsHhuy4/u44xUlEPiHxxdR+JJNCsNQs9Oa0iV7i6ukLb2PRVAqG3+J858Jzzm3iuNUjvBYR+USIppG+6wPpWlqfga/k1r+2tJu7OO/nhWK7S5g8yOTH8Q7g1ZuvAral4T/s3Ur5TerKLiO6giEYjkHQgDsKAKwvPGmi6VqF9rkunzxRWrSx+SpBRwMge4qXUfFl9aeAtL1mNIzcXbwBwRx85ANTWPh3xHdQXVr4n1iC6tJrdoBHBDtJyMbiT3rE/4V14guNMstLvtfhew0+ZHgVISGdVOQHNAFazTxT/AMLiv0F/a+UtsjMhU48rdwAP73vRf/ES9vdY1GPS9T0/ToNOkMQS6Us9ww69OgrpdR8L6r/wnEev6NqEMKyQrBdQzRk70Bz8p9azrnwDqFnq95c+Hb2yhgv5PNmju7bzDG56lT/SgDo/CHiEeKPDNtqYj8ppMq69gw4OPaudvNe8T6/4i1Cw8JGztrfTGCTT3QLGRyM7QB0HvXY6VZNp2mQWryCV41w0gQLuPrgVy2oeENatNeu9T8J6tFZ/b8G5guI96lhxuXHQ0AT2Wv6svjLT9E1NIFeSwaefyskeYDjg+lY+teO9UsI/FjQJCzaQYxbgj727HB/OtDVfB2tzXmm6tpmsxpq9pCYZZZospMp68DpVBfhnevpmvQ3errPc6wyO8pQjYVx29OKAG6h4k8X6L4Lk1rUEsnuriWEWttGDhA3Zj3PNGseL9e8MafaW+uS2C6lqlwVgcAiK3TGTu9SK6bxF4ZfXPDltpiXAiaGSJ95GQdhH88VH4u8Ir4kjs5oJ1t7+xk8y3ldN656EFe4NAHPaF46vH1W60m8vLTUpFtHuYbq1QquVGSrCs6Pxl4yj8N2Pim6SxGnMyiW2UHeyFsbgex9q6vSPDGqxRXjaxe2byXELRIlrbCNUyMZz1NRT+BpZfh3D4aF4oeNVHnbeDhs9KAObuz4om+MkAs762WJ7IyIjKcCLcMgj+9716Hr+f+Ebvwev2Z8/981g6x4T1OXxNp2t6HqENvPbQ/Z5kmQsJI+M4x0PFdNf2jXulz2pYK00RTdjoSMZoA868Oam1nYeCLQW8EguVdTI6ZZME/dPamr4o8a6nYarqGmCwittMuZUAlUkzqnb24rfs/A0tqfDmbxW/sbdu+X/AFufT0q1pfhKTTvD+q6abpXa/mmkDheE39vwoAwdW+I8jWOixWD29jc6pbi4ae6yUhXvwOpzV7wT4yuNX1q90a/nt7yW2jWVLu1BCSKexB6EVHcfDmQabozWF5Emp6VD5KSyxb45V7grW54Z0PUNL8+bVbq2nnlPC20AjSMeg7mgCr4x8SXul3On6TokUcmp6k5WJpT8kYHVjWTb+IPEmm6z/wAI5rz2kl7ewM9jdwqQhYdQy1veKfCza81neWN19i1KwcvbT4yBnqCO4NUtH8I6g2vLrnii/jvr6GMxW6woVjiB6nHcmgDC+D0WrpZ6m19PA9ubyXiNcN5m7k/Sug8X+I9RsNR07RPD8UT6lqJYo833IkXqx9au+E/Dj+G7G6gknWcz3TzgqMbQxziofFfhafW7iy1DS737DqdgxMExXcpB6qw9DQBlXviHxH4U8OzTeIltL27eZIbM2+VEjNx8wPTFV/8AhIfFXhjUtPPiz7Hc2WozCANagq0Dt069RWhJ4Q1XXNBuLPxVqsc9w8iy2720e0QMvQjPWoYfBmtanqVnL4t1eK9trCQSwQwRlN7jozUAVh4h8U+Jta1FPC32O2sdNmMDNcgs07jqBjoK57w/4un8M+D9VvbmGNL+61d4VRm+RHPcn0FdVL4M1rTdavrrwrq8VnbajJ5txBPGX2v0LLVe2+GATwvcaZd6iZ7hrw3kN0UyUf3HegCtofju9j8UWOlajqFlqsd/kLLZoVMLgZwfb3r0muR0Pw5rNjqH2zWb2xmWFCEitLQJuPqT1z9KteC59ZvLG7u9e3I0t0/kQsuDHGDgUAUfFHiPVj4ktvDXhhYEvpYjPLcXAysSdOnc1mad4w17TvFN7pPihLZo7KwN0ZrcH97j+VT+N4rC28SWOoQa3Fo+siMpG865jlT+61YfhWxk134hancXd+NWgbT/ALPcXMa7Yst/Av4UAXv+El8atop8VpDYjSdvnCxOfMMPru9cc13tpfnV9BivtOIQ3MAkiLjoSOM1xn/CBeIBp/8AYMfiFBoH3dhi/feX/c3dMds13VjZw6dYQWdsu2KBAiD0AFAHmvgGXxHb634huNUvreSyt7p/tChTu3Bc/L6DFTweJvGWsaVL4m0mOxj0lNzxWkoPmSxr1O7seK3NO8J6npvijUp4r6CTSNScyT2zxneGIxwfSs1fAWvWNpNo2j69HBocxb928RaWJD1VTQB2GgaxFr+g2mpwKVS4jD7T1U9xXCHxJ4z1e610aL9hgg0m4ZFaZSTKAM7fb613+k6Zb6LpNtp1mMQ26BFz1471kaP4Xk0tdaDXKyf2ncPMuF+5uXGKAOYvvidI2gaGbYQ2l9qyFjLPkxwBeGPvz0qz4b8Yajqep3ugte2l7drbGa2vrdCEJ9GHrmnn4aNH4f0iG3vY11PSd3kzvFujYMeQyntWlp3hzXbWxvXm1CyF9PHshMFtsjh9/U0AYmi+PNW17WofD1vBFDqlm5/tN25RFHTb65qr4ZXxSfilrUc9/bPFH5ZmTaeUOcBfQ1sQ/Dgab/Z15o955Oq2z7ri5cE/ag33g39PSrn/AAi2rWnjuXXNM1CFLa8REu4JEJJ2/wB00ASfErn4e6n/ALg/9CFZkGtSW3iS2tI7aD5NE88TFPnyB0z6V0/ifRm8QeHLrTElELXCgByM45B/pWUfB0h1xL/7Uu1NMNjs29T/AHqAOTj8Y+Mz4Xg8UyJYjT0fEtsAd7puxuB7GtPxD49n/wCEgXR9NvbPTCluk81xdqW+8MhVArVbwTK3w4Phj7Yu/bt8/bx97PSq+q+Bbs6nFqmh3dtFeeQsE63cHmRyBRgH2NAFrwH4tl8TWt5DeCJrmxl8p5YM+XKOzLmutxWP4b0i50jTjHf3MdzcOxZ3ihEaj2AHatigAxRRRQAUUUUAFFFFABRRRQAUUUUAFFFFABRRQaACikooAWiiigAooooAKKKKACiiigAooooAKKKKACiiigAoopKAFopKKAFopKKAFopKKAFopKWgAooooAKKKKACiiigAooooAO9ee+A/wDkoHjT/r7T/wBBr0LvXn3gP/koHjT/AK+0/wDQaAPQaKSigBaKKKAKup/8gm7/AOuL/wAjXzJ8NfA1/rvg8XttdWkSNcyjbLKAeGr6b1P/AJBN3/1xf+Rr5B8Guw0AhXYD7RJwD/tV2YOMpVLRdjkxjiqXvLQ9R/4Vdqv/AD/af/3/ABR/wq7Vf+f/AE//AL/iuM81/wDno/8A30aPNf8A56P/AN9GvY9jW/n/AAPH5qH8r+87L/hV+q/8/wDp/wD3/FH/AAq/Vf8An/0//v8AiuN81/8Ano//AH0aPNf/AJ6P/wB9Gj2Nb+f8A5qH8r+87L/hV+q/8/8Ap/8A3/FH/Cr9V/5/9P8A+/4rjPNf/no//fRo8yT/AJ6P/wB9Gj2Nb+f8A5qH8r+87P8A4Vfqv/P/AKf/AN/xR/wq7VP+f/T/APv+K4zzJP8Ano//AH0aPMk/56P/AN9Gj2Nb+f8AAOah/K/vOz/4Vdqn/P8A6f8A9/xR/wAKu1T/AJ/9P/7/AIrjiZggfdJtJwDk4NN8yT/no/8A30aFSqv7f4BzUP5X952n/Cr9V/5/9P8A+/4o/wCFX6r/AM/+n/8Af8VxfmSf89H/AO+jR5kn/PR/++jR7Kt/P+Ac1D+V/edn/wAKu1T/AJ/9P/7/AIo/4Vdqn/P/AKf/AN/xXGeZJ/z0f/vo0okkOAHck/7Ro9lW/n/AOah/K/vOy/4Vfqv/AD/6f/3/ABR/wq/Vf+f/AE//AL/iuNZ5VOGdwfQk0nmSf89H/wC+jR7Kt/P+Ac1D+V/edp/wq/Vf+f8A0/8A7/ik/wCFXar/AM/+n/8Af8VxnmSf89H/AO+jR5kn/PR/++jR7Kt/P+Ac1D+V/edn/wAKv1X/AJ/9P/7/AIo/4Vfqv/P/AKf/AN/xXHKZnOEaRj1wCTSCSTH+sf8A76NL2VX+f8A5qH8r+87L/hV+q/8AP/p//f8AFH/Cr9V/5/8AT/8Av+K43zX/AOej/wDfRo81/wDno/8A30afsa38/wCAc1D+V/edl/wq/Vf+f/T/APv+KP8AhV+q/wDP/p//AH/Fcb5r/wDPR/8Avo0ea/8Az0f/AL6NHsa38/4BzUP5X952X/Cr9V/5/wDT/wDv+KD8LtVx/wAf+n/9/wAVxvmv/wA9H/76NIZJMH94/wD30aPZVv5/wDmofyv7zufAXiS3+G8WqaNq0M93N9q8zzLNDImCPUV13/C5NH/6Bup/+AzVkfAFFl8Mao0qhz9uPLDJ6V6v5EP/ADyj/wC+RXzs/idz6GPwqx5//wALk0f/AKBup/8AgM1H/C5NH/6Bup/+AzV6B9nh/wCeUf8A3yKPs8P/ADyj/wC+RUlHn/8AwuTR/wDoG6n/AOAzUf8AC5NH/wCgbqf/AIDNXoH2eH/nlH/3yKPs8P8Azyj/AO+RQB5//wALk0f/AKBup/8AgM1H/C5NH/6Bup/+AzV35it1xujiGemVHNL9nh/55R/98igDz/8A4XJo/wD0DdT/APAZqP8Ahcmj/wDQN1P/AMBmr0D7PD/zyj/75FH2eH/nlH/3yKAPP/8Ahcmj/wDQN1P/AMBmo/4XJo//AEDdT/8AAZq9A+zw/wDPKP8A75FH2eH/AJ5R/wDfIoA8/wD+FyaP/wBA3U//AAGaj/hcmj/9A3U//AZq9A+zw/8APKP/AL5FH2eH/nlH/wB8igDz/wD4XJo//QN1P/wGaj/hcmj/APQN1P8A8Bmr0D7PD/zyj/75FH2eH/nlH/3yKAPP/wDhcmj/APQN1P8A8Bmo/wCFyaP/ANA3U/8AwGavQPs8P/PKP/vkUfZ4f+eUf/fIoA8//wCFyaP/ANA3U/8AwGaj/hcmj/8AQN1P/wABmr0D7PD/AM8o/wDvkUhigDAGOIE9BtHNAHAf8Lk0f/oG6n/4DNR/wuTR/wDoG6n/AOAzV3/kQ/8APFP++BR5EP8AzxT/AL4FAHAf8Lk0f/oG6n/4DNR/wuTR/wDoG6n/AOAzV6B9nh/55R/98ij7PD/zyj/75FAHn/8AwuTR/wDoG6n/AOAzUf8AC5NH/wCgbqf/AIDNXc3EtjayRJceTG0zbIwwA3H0FT/Z4f8AnlH/AN8igDz/AP4XJo//AEDdT/8AAZqP+FyaP/0DdT/8Bmr0D7PD/wA8o/8AvkUfZ4f+eUf/AHyKAPP/APhcmj/9A3U//AZqP+FyaP8A9A3U/wDwGavQPs8P/PKP/vkUfZ4f+eUf/fIoA8//AOFyaP8A9A3U/wDwGaj/AIXJo/8A0DdT/wDAZq9A+zw/88o/++RR9nh/55R/98igDz//AIXJo/8A0DdT/wDAZqP+FyaP/wBA3U//AAGavQPs8P8Azyj/AO+RR9nh/wCeUf8A3yKAPNb34o+GNTjCajod7cKOglsi2P0p9p8VvDmnwCGx0a+gjH8MdmVH6CvR/s8P/PKP/vkUfZ4f+eUf/fIoA8//AOFyaP8A9A3U/wDwGaj/AIXJo/8A0DdT/wDAZq9A+zw/88o/++RR9nh/55R/98igDz//AIXJo/8A0DdT/wDAZqP+FyaP/wBA3U//AAGavQPs8P8Azyj/AO+RR9nh/wCeUf8A3yKAPP8A/hcmj/8AQN1P/wABmo/4XJo//QN1P/wGavQPs8P/ADyj/wC+RR9nh/55R/8AfIoA8/8A+FyaP/0DdT/8Bmo/4XJo/wD0DdT/APAZq7iefT7Xy/tDQJ5r7EyB8zegqx9nh/55R/8AfIoA8/8A+FyaP/0DdT/8Bmo/4XJo/wD0DdT/APAZq9A+zw/88o/++RR9nh/55R/98igDz/8A4XJo/wD0DdT/APAZqP8Ahcmj/wDQN1P/AMBmr0D7PD/zyj/75FH2eH/nlH/3yKAPP/8Ahcmj/wDQN1P/AMBmo/4XJo//AEDdT/8AAZq9A+zw/wDPKP8A75FQTTWFvcxW8xhSabPloQMtj0oA4b/hcmj/APQN1P8A8Bmo/wCFyaP/ANA3U/8AwGavQPs8P/PKP/vkUfZ4f+eUf/fIoA8//wCFyaP/ANA3U/8AwGaj/hcmj/8AQN1P/wABmr0D7PD/AM8o/wDvkUeRD/zyT/vkUAef/wDC5NH/AOgbqf8A4DNR/wALk0f/AKBup/8AgM1dzNLY280MM5hjknbbGrAAufQVP5EP/PJP++RQB5//AMLk0f8A6Bup/wDgM1H/AAuTR/8AoG6n/wCAzV6B5EP/ADyT/vkUeRD/AM8k/wC+RQB5/wD8Lk0f/oG6n/4DNR/wuTR/+gbqf/gM1d+YoFGWjjA9SooEMJGRFGR/uigDgP8Ahcmj/wDQN1P/AMBmo/4XJo//AEDdT/8AAZq9A8iH/nlH/wB8ijyIf+eSf98igDz/AP4XJo//AEDdT/8AAZqP+FyaP/0DdT/8Bmr0DyIf+eSf98ijyIf+eSf98igDz/8A4XJo/wD0DdT/APAZqP8Ahcmj/wDQN1P/AMBmr0DyIf8Ankn/AHyKPIh/55J/3yKAPP8A/hcmj/8AQN1T/wABmo/4XJo//QN1T/wGavQPIh/55J/3yKPIh/55J/3yKAPP/wDhcmj/APQN1P8A8Bmo/wCFyaP/ANA3U/8AwGavQPIh/wCeSf8AfIo8iH/nkn/fIoA8/wD+FyaP/wBA3U//AAGaj/hcmj/9A3U//AZq79ooEGWjjA9SoFHkwn/llH/3yKAOA/4XJo//AEDdT/8AAZqP+FyaP/0DdT/8Bmr0DyIf+eSf98ijyIf+eSf98igDz/8A4XJo/wD0DdT/APAZqP8Ahcmj/wDQN1P/AMBmr0DyIf8Ankn/AHyKPIh/55J/3yKAPP8A/hcmj/8AQN1P/wABmo/4XJo//QN1P/wGavQPIh/55J/3yKPIh/55J/3yKAPP/wDhcmj/APQN1P8A8Bmo/wCFyaP/ANA3U/8AwGavQPIh/wCeSf8AfIo8iH/nkn/fIoA8/wD+FyaP/wBA3U//AAGaj/hcmj/9A3U//AZq9A8iH/nkn/fIo8iH/nkn/fIoA8//AOFyaP8A9A3U/wDwGaj/AIXJo/8A0DdT/wDAZq7mKewmvJbWIwtPCAZIwBlc9M1P5EP/ADyT/vkUAef/APC5NH/6Buqf+AzUf8Lk0f8A6Buqf+AzV6B5EP8AzyT/AL5FUIdU0e41WTTYJ7eS8jGXhXBZfrQBx3/C5NH/AOgbqn/gM1H/AAuTR/8AoG6p/wCAzV6B5EP/ADyT/vkVAZbEXosyYftBTeIsDcV9cUAcN/wuTR/+gbqn/gM1H/C5NH/6Buqf+AzV6B5EP/PJP++RR5EP/PJP++RQB5//AMLk0f8A6Buqf+AzUf8AC5NH/wCgbqf/AIDNXoHkQ/8APJP++RR5EP8AzyT/AL5FAHn/APwuTR/+gbqf/gM1H/C5NH/6Bup/+AzV6B5EP/PJP++RR5EP/PJP++RQB5//AMLk0f8A6Bup/wDgM1H/AAuTR/8AoG6n/wCAzV6B5EP/ADyT/vkUeRD/AM8k/wC+RQB5/wD8Lk0f/oG6n/4DNR/wuTR/+gbqf/gM1egeRD/zyT/vkUeRD/zyT/vkUAef/wDC5NH/AOgbqf8A4DNR/wALk0f/AKBup/8AgM1egeRD/wA8k/75FHkQ/wDPJP8AvkUAef8A/C5NGz/yDtT/APAZqr/C7UYtX8U+KtQgSSOO4uEdVkXDAY7ivSPIh/55J/3yK4HwEAPH3jMKAB9rTgf7tAHoXSkoxS0AFFFFAFXU/wDkE3f/AFxf+Rr4/wDB3/IBP/XxJ/6FX2Bqf/IJu/8Ari/8jXx/4O/5AJ/6+JP/AEKvQy/+McOO/gm7SUtJXvnhhRRRQAUtJRQB1Vj4IabTYbzU9UtdNFyMwJMeXHrXN3EHkXj24kWXa+wOnRucZFdrLdeHvFelacdW1N9NurGHyWXZuEg9RXF3KxQ3ji1lMsSP8jkY3DPBrkoubcua9/wOirCEUuXY6/xPZuZtF8LaVEGkjgV3wOXkfnJNUdW8HxaVZyONZtLi7iIWS1jPzAnsPWtvVtSXTfEWheLIk863nt1WQDsyjaR9ay9ZtvDkTy6xpestNcvKJY7Vo+Qc5IJrCDn7qV7fr5m0oRd2/wCkPi+H0gWKG91a0tdRmUMlm5+b2BPrVLSvBV5qUuoxzTx2bacwWbzun1zXQXV74X1vWYPEt3qktrOoV5LLZliy9gapHxXaX1p4pknbyJdR2/Z48csBQpV2nv8A12B0qKf9alK+8FCxn0+U6rbS6feNtF2udqkdjW14k8MWWkeItOfRb22jmYxBbcgsST/GfasK71i0f4c6ZpqSbru3uWkePHRa2Na1HQ73VtJ12HUx5sPkpLbFDlQvU5ocat03fqNRp2fKuxUn8J6hr3iPWftN5bRS2TAyvt2ofcelZ+seDpNMgsbm2v4L20vJREs0XQMTjmtqbxLpb3Hit1uONQUC3+U/PWUmt2kXgDTbEPuu7a/89osfwg5pr2ys/wCtiZQpPfcgXwdcHxe3h/7SnmqpbzccdM0zTPCkl7b3F3eXkVjZQSmIzyAnc2egArtE1jwqPFK+JW1VxLNFtNt5Z+RsY5NZnhvxZax6PdaVNeJYP9paaG4kh8xWBPQil7Su46IaoUk9WZtnYz+DPFWnTSvFd2d3wsqj5ZEbg9e/NY3ibT10vxNfWkf+rSUlPoeRXT3058VeLtL0+1v/ALdb2xDvL5QjVQDlsD04rm/Fd8mpeKr+4hOYzJtQ+oHFa0eZzXNvbX9DOqoxg1Ha5jUUtJXacoUUUUAFKeh+lJSnofpSYdT1P9n7/kVdU/6/j/KvRfEXiCz8NaS19fbiNwSONBlpHPRQPU151+z7/wAitqn/AF/H+Vdh4+8P3uuaRay6Vta90+5S6ijc4WQr/D+NfJz+Nn1EPhQaZ4zmnS6k1rRLvR4beEzGa4wVKj3Hf2rPh+Ja7orm+0S+s9JmYLHqEgGw56EjqAaJH17xrouo6Rq2hvo0UtuVWaSUNmT6DtWPeWvizxB4cj8I3ehrZx7Vin1Aygx7Fxyo65OKko6LVfH62XiGbRdP0m61K8jgWcCDGCp9zWL4h+I91N4Bl1XQNPuUuElMMwbGbZweQwra0Xw/d6f8Qb6+eL/Q2sIbeKUnlitYsvhLV5PCPiqzW3AuL29ee2UsP3i5BH06UAXNQ1e31LTPD9x4h068tZ5L2NYUEu078cMcdR7VPe/EcxalqVhpuh3uoTaawE/lYAAxnOT/ACqleWWueIdK8PSTaQ9lNY38bTRO4JCKMFq1vDWi3thrXia4uodiX1wHgOc7xtxQBJB4+0+6t9Emt4pHTV5DHHngxsBzmtC48TWtr4kfSJ1ZWS0N00p+6FHWuBXwlr+neE9EubayE1/pV9JcNabwDIjMeh9cGr9vo3iDxJ4qvdQ1jTv7NtLrS2tEUyBmUn1xQBo/8LLiVBey6RdppDPtF+SNuM4DbeuK7Tz4/s/n7x5W3fuzxjGc141ZeBr6O3i0W98MTXHlsEe7a/PkOgP3tv8ASvXZNOjbRW06P93GYfJGP4RjFAHJt8S4isl5b6RdzaRG5Vr5SNuAcFgvUj3rTvfG1hpup2sF8rQ2l3B5sF6xHlscZ257HFec2XgTUNOt/wCxbnw5Nf4cqt4t8VhdCepXtx2rp/EXgy78VPa+HZ4PsWg2MKsJVbLSSAfKo7gCgDaXx3aDwyNantZ4oZZfLtYiPnuDnjA96NK8brdatHpur6dPpdxMheATMCJAOSAR3HpXMap4Y8Qa34Jg07ULUfbNHuVMOx9q3ca8Agj7pxT/AA34TN3rkd3eeHJ9NFvGwSa5vDKwYjB2j0oA1x8RjdXj/wBkaDf6hYRy+U17CBtznBwOpArd0vxLBqup6nZRROj6cyhy38WRmuP0A+LPB1qPD8Hh8ajBHMxhvUmCqUZs/MDzkZpzWvibw74v1efTdG/tG31dVdJFlC+S4GCGz2oAh8T/ABG1D+wbO90DTbgpLeeU8mQQNrYK/jWxeahaXuveG5tVsbu1v5Xk8mPzcCMgc7gOtYK+E9fh+FsVo1osmpwX32o24cYfD5wDW3cWOr65rvhnVpdNe0Fs8jXETuCYsrgUAQy/FJSl7LY6Df3cGnzNHdSx4wgXqfetXU/HthZ2Gny2EE2o3OpKHtbWEfO47k+gFUNA8PajZeEfEFncW+2e8nneJcj5gw4rFi8NazoMPhvV7O3juNR0+0NtNYNIFLqeSVJ7igDpdF8epqfiVNCu9KutPvzCZmSYDAA9x1qD4neJNU8NeG/P0e1lkkZ1BnTBEfPcH16Vh6Td6nqfxltrnVLFbF105sW4cOyDd1Yius+IOj3mueC7yz01BJckK8aE43kHOM/hQByni/XJpLHwnqmoadcW8y6gCbc4Z3+Xtj1rpdF8cxahqV3p+q6dcaRdW0Xn7Lgg7o/7wIrMubPWfENt4YubjSXspLG+DzwyOCUULjdVjWPDF7qnjqS52bLObSZLUzZ6Ox44oAYfiXEEF6dHuxpBfb9v424zjdt67feuzE6Pa/aIzvjKbwR3GM143ZeBr+G2j0W98MzXWxgjXZvyIXTP3tufTtXr/kJaaOYI12pFAVAHYBaAOJg+KRvbN73TvDuoXVnA7LPOgGE2nnA71f1b4k6bp9lpNzaW0+oLqxK2624yxIGcEVxngvUvE9p4LksNL0AX8VxLMIblZQqrlj94H0rb0/wNqGkT+EIlUXC6dJLJdSA4CFwen4mgDbvfHb2lvZQjRrqXV7uMyDTkILxqD1Y9BVjSvHVhe2l82oRS6Zc6em+6trj7yL2PuKzvEWnavpPjOLxNolj/AGmHtvs09qGCsADkMpNZkfhHU/Eza7q+vRrpMuo2gtYbcuGMajncx+tAFqX4qfZ9NbVLnw7qMemNjyrogYcE8HHUA1e1b4iJYatb6ZZ6Td6heXFqtzHHAB90+p7YrkPEmo+JV+G82kX+jw28UMSRNe+crJIAQBtA5ya6vRNFvk8cWmqvDi0/seKDzCf4+OMUAaOr+Kr7TTGIdBurn90JZGDKoT1GT1NUrv4ladBoumajBa3FyupSGKKKMfOH9DWF4k0PWrvxjeS3ulz6vYzRqtkI7ny44TjncP61Ho3g3WrPTfC8NxaKrWF9JLOocEIpBwfegDXj+Jk0lzNp48N6h/a0Q3mz4zs/vbumK6Xwz4jtvE+ji+tY3hIcxywyD5o3HUGs630e8j+Jl9qrQ4tJbFIkkz1YHkUzwHo19o1vqy6hF5RuNQkmjGc5U9DQBqR+IoJPF0ugCJxNHbicydiCcYrI1D4hWWn6dq15JbTMml3K28ir1Yk9RVDXrLXNH+IKeIdH0w6pBcWotpYkkCtGQcg89qxP+EU8R3nhzXRe2Kpd3+pxXKRK4I2BgTzQB09j4/NzrEVheaLeWLXUbPZvNjE+BnHsazPB/jDWdZ8QazZ6lpdyttHMVDkqBbjb90+9bGu6LfXniTw1dW8O6KxmZp2z9wFcCs/RLPWtG8a63byaW0thqkpnjvUcYT5cYIoA568k06XQfDjaQk6Qf23jE772zznmvU9Uv00vSbm/lUslvEZGUdSAM15xb+ENZi8PaJbNa/vbbVzcSruHyx5PNd74ltJr/wAK6jaWq75prZ0Rc9SRQBy9r8UI5zYXE2iX1vpl86xx3sgG0M3TI64z3rT1bxsLTV5NN0nTZ9UuYFDTiEgLGD0BJ7+1ZOq+G9Tufhvo2lw2+bu2kt2kj3D5dpBNY+u+Db6y8W3upR6RcavbX+1gLe6MTROBjBHcUAdW/j+0/wCEdTWYLO4lt1m8m6RR81sc4JYexpr+O473+0V8P2M2pLZxBjNCRtZiPug9yKx4/D2raf4OTSdF0iOym1SY/bGM3mC3Q9WJPU4qx4R8Maj4Mu7rQLWL7Roc0ZkguCQGicjlT6885oAs/DXxPqviPRA+rWM0bKWxcvjbJyeAB6VnfETUF0rxv4Wu2hknKvKEiiGWckcAVo/DqHWNKsZdE1bS3tktXZo7reCswZieBUXj3SNcuvEegapoNml0dPd3lR2C5BHT60AaGj+OBfas2l6rpdzpN6YzLFHPgiVR12kVV0b4jw6zLLJFpV1Dp9v5gnvpMCNCnb3qna2GveKPGFprOraWdJt9NidYonkDPK7DHboKs6J4Uu3+Gd3oF8Pss9z5y5643MSDQAsfxIjPk3NxpF3Bpc7hI71yNvPQkdQDWlr3iq60mfZaaLc30Sx+Y8yMqrj2z1NefaX4KvStppOo+F538llWW6e/JhZVP3guf0rV8Q+HtXuPFN59q0m41aykjVLHZc+XHAAMEMPX3oAsa9rtlrGreC9XhkEdq9zI5MhxswnOfpW4nj23m0PUtZisbg6dYglJ2wBPjqV9veuQX4d3+o+HfDWkapaFYbaeY3YST/Vq2cEHvVnVLXWtI+GevaFq8Cva2dqVtL5CMSp2BHYigDWT4nr5MF/caDfwaRPtxfMBtXd0JHUD3rV1zxpFpt7DYaXYT6vfSxiXyLfHyoejEnpXIBvFuu+CbTw1/YSRx3FvHHJqHmjyxHgHcB1z7VrXmj6z4U8SjWdDsDq8M1pHbTwBwroUGAwJ7GgCe+8WaV4g8F6uNRtrq2ezXbeWe7ZLH9CP506Xx1baRJp2j6fpl5e3E9ks0ESEElcdCT/Osd/Cet6ppXiXVr20W31HWIljislcHYq9MnpmtbSPD2o2/jXTNQnt9sEGkrbu+R8r8cUAVtT+IlzceCdUvNL0u6h1GyYxTwPjdbt/ePqK6HwTrd9rvh23udSsZrWXy1y0uP3vH3hjtWE/hbUp5PGa+UEGqH/RmLcP8tMtPE+reGvAER1PRHt7y2aO0hhZw3nMTjIx2oA9CJCqSeAOSa4qf4jR7p57DSbq8062crLeRkbeOpA6kCuvVXuLELMNryR4YDsSK8bh8B6ho/2jS5PD1xqiPKxiuo74xxsrHPzLnjGaAPRbzxvp1jcaa1wrLYajHuivif3anGdp9Kji8eWB8OXWuXMMsFhFIY4XYc3HOAVHuelYuueDbrXrPT/CgtRZ6BBCGuJFbJZscIvfg96rS+GPEF94Ll0C4ijWfSrhJLCckbLlUOVBHY9qAOg0rxtPdyyf2roN9pVusRmFxPjbtHrjoaqJ8SIwIru50i7g0qZwiXz428nAYjqAaYtx4j8V6deaNq2gNpUE1s0bXLTBvnxxgDtXJ6d4JvmS20jUfC80nlsqTXT35MLKp+8Fz7dKAOz1D4hrb+IrrRNM0i71K9t0STEONpVhnOT0qnqfxCluPBmp3mladcx6lZgxz2z4D2zYzuPqKxIbvVdH+LGvyaJpf9oxJbwRyQK4V1+XggmtSw8K6xqOneJtS1OBbO/1qIpFaB8+WAuBuPqaAGS68usfDa2vPFWnXkK+bAMpIFaViRhxjtntW7q/jRNMvk0rSNNudWvliWSSGAj90pHBYn1rn5NP8Qa38NYNIuNGe0vLKaBNrSAiRUIyw9uKt3ena54V8WXet6Pph1aDUoo1mhRwrxOoxnnqDQBpf8LE04eF7zV5LeaJ7FxHdWjjEkTZ6Go7D4hrca5ZWF/o95p8WoA/ZLibG2U4zj24rAufB+uah4c129urZU1LWZ4pPsaMCIkQjAJ6ZxXReKNDvtQ1DwxLaQ71sLrzJ+QNi7cUAdfWH4l8U2/hyO3QwS3l5dsUt7WAZeQ/0HvUfh3xK+v6trEMdvstdOufsyS5/wBYwGT/ADrO8ZaRqZ1vSvEOiW4vLjT9yPak48xG64PY0AWNH8cRX91cWOpafcaXqMMJnFtPjMiDupHWovCfjz/hLrofYdHvIrLa2byXATcDjaPWsu10nXPEviZvEOrad/ZYtbKS2trZnDPIXHJJHat/4f6TdaJ4JsbC/i8m4iDb0znGWJoAteI/Elt4ctoWlikuLi4fy7e3iHzSt6Cs3TvHMdxc3NnqWnz6ffQwNcLBIwPmIOpUiqXxI8K3evLpt/YQm6l06Uu1qJTGZVIwQG7GsrQPCkslxfX7eHpNOmWzkgt3ubsyyMWHI9AKALkPxWims7XUf7Dvl0qeQRtekDbGScdPTPetjXPGyabqkemaVptxq180YleK3wPLQ9CSfWsVvC+qf8KWg0EW3+nrGgMWRwQ4J5p13p2u+GfFkmu6Tph1WG+tYoZ4UkCvEyDAIz1FAFbwFqY1f4meKbv7PLbOYrdXhmGGRgDkGuu8S+Kbbw3FArwyXd5dPstrSEZeU98e3vXP+CNK16Pxpr+s69YpZrqCxGJFcNgKDwferXjTQtSk1zSfEmiQrd3Wmb1a0ZseajdcHsRQBJYeOmu2urK60i6stVihM0dlKRumX1U9DWB8H5murfUri40h4J3vJXa7fBLEn7uevFaOl6drXiLxlD4i1nTv7KhsrdoYLdnDPIW6k47Vp+ANIvdF0O5t9Ri8qR7yWRRnOVJ4NAGT488X6zoXiHRrTTdMuJoZrkK7oRicbT8gz0NUNX1uWw+KGm3n9m3E13PpLBLOPBbduyQT0GK3PiFp2qXC6NqOjWf26XTL0TvbhtpddpHBpbTTdRu/H9jrlxZG3h/ssxOrMCY5CwO2gCXTPiDp13oeo3+owzac+mSeXdW84+ZG7AY657VHY+PvN1C0g1TR7rTob5tltPKQVZj0Bx0JrC1bwJqWuL4wt3UW66jcRTWrk8OUA6+nTFVdD8Jz3WsWC3/he4tVtXDy3E98XUMvQoM0Aek63qseh6JdanOjPHaxmRlXqQK5BPigv2e31CfQNQg0ecL/AKc6jau7uR1x71tfEEZ+HusAf8+zCuLSTxdrvgW08NLoKRR3NrFE+omUGMR4HzAdc47UAdNrfxCj03Xl0fT9KutUu5LdbiNbfGCpPXJ6U7UfHhg1J9P0jRrvVbuBFa6SAgCDIztJPf2qPR/DV5pnxCe8Me6yTS4rZJierL1FUGtPEHg7xRq95pOkHWLPVpRP8kgV4nxgg56igDZHxB0f/hFJNccyIkUnkvbFf3olzjy8euazv+FlPbXVjBq/h++09r+dYbcyYIbce5HT6Vjy+BNTm8J3V3eSQQavcaouqLAW/dq4PEZP07+tVPFera9q974ch1TRl0xE1SEgNKHaVgf4cdqAOsX4gC58VT6Hp2j3l1NbXCxXEqY2RA/xE/0qTW/G8+iXU5m0O6extmAlugygY/vAdSKf4S0a803X/Edzdw+Wl7diSFsg71C4zXB6p4U8QagdYtr/AEafUL+eSQwXz3e2JUJ+UBfYdqAO51fx7DYapbadYabc6ldXdqLmBYMfMvuT0rMX4qLPZTT2fh/UJ2siRfxgAG2I6g+vrxVvRNB1C18Xabe3Fvthh0RLV2yPlkDZIpugeH9RsrfxetxbhDqN3LJbDI+dSgAP50AdbpWpW+saXbahZNuguIxIh9jXEeA/+SgeNP8Ar7T/ANBrovAum3Wj+CdMsNQj8q5gh2yJnODmud8B/wDJQfGn/X2n/oNAHoVJS0lAC0UUUAVdT/5BN3/1xf8Aka+UPAmg6rf+GPPstPnniNxKA6JkZ3V9X6n/AMgm7/64v/I18qeAPFGtaV4X+zaffywQi4lIRTxndXZguf2vubnHjOX2Xv7G/wD8Ipr/AP0Cbr/v2aP+EU17/oE3X/fs1Y/4TnxL/wBBaf8AOj/hOfEn/QWn/OvZtie6PIth+7K//CKa9/0Cbr/v2aP+EU17/oE3X/fs1Y/4TnxJ/wBBaf8AOj/hOfEn/QWn/OlbE90H+z92V/8AhFNf/wCgTdf9+zR/wimv/wDQIuv+/Zqx/wAJz4k/6C0/50f8Jz4k/wCgtP8AnRbE90H+z92V/wDhE9e/6BN1/wB+zR/wimvf9Am6/wC/Zqx/wnPiX/oLT/nR/wAJz4l/6C0/507Ynug/2fuyNvDfiRrdYG029MSHKoUOAaj/AOET17/oE3X/AH7NWP8AhOPEv/QWn/Oj/hOfEv8A0Fp/zpWxHdD/AHD3bK//AAievf8AQJuv+/Zo/wCET17/AKBN1/37NWP+E48S/wDQWn/Oj/hOPEv/AEFp/wA6dsT3QrYfuyv/AMInr3/QJuv+/Zo/4RPXv+gTdf8Afs1Y/wCE48S/9Baf86P+E58S/wDQWn/Oi2J7oLYfuyv/AMIpr3/QJuv+/Zo/4RTXv+gTdf8Afs1Y/wCE58S/9Baf86P+E58S/wDQWn/OlbE90FsP3ZX/AOET17/oE3X/AH7NH/CKa9/0Cbr/AL9mrH/Cc+Jf+gtP+dH/AAnHiX/oLT/nTtie6C2H7sjg8OeJLWTfb6bexPgjKoQcGo/+EU17/oE3X/fs1Y/4TnxL/wBBaf8AOj/hOfEv/QWn/OlbEd0P9x3ZX/4RTXv+gTdf9+zR/wAIpr3/AECbr/v2an/4TnxL/wBBaf8AOj/hOfEv/QWn/Oi2J7oLYfuyD/hFNe/6BN1/37NH/CKa9/0Cbr/v2asf8Jz4l/6C0/50f8Jx4l/6C0/50WxPdCth+7K//CKa9/0Cbr/v2aD4U1/af+JRdf8Afs1Y/wCE58S/9Baf86Q+OfEuD/xNp/zotiO6Hah3Z1fwb1Oy8MaLqlj4guotOuvthbybhtjYI64Nej/8Jt4Z/wCg3Zf9/hXmvwl0XT/Gel6pqXie2TUbz7YU86YZOAOlegf8K48Jf9AS2/75r52d+Zn0EfhViz/wm3hn/oOWX/f4Uf8ACb+Gf+g5Zf8Af4VV/wCFb+Ev+gJbf980f8K38Jf9AS2/75qCi3/wm3hr/oOWX/f4Uf8ACbeGv+g5Y/8Af4VU/wCFb+Ev+gJbf980f8K38Jf9AS2/75pgW/8AhNvDX/Qcsv8Av8KT/hNvDX/Qcsv+/wAKq/8ACt/CX/QEtv8Avmj/AIVv4S/6Alt/3zQBb/4Tbw1/0HLH/v8ACj/hNvDX/Qcsv+/wqp/wrfwl/wBAS2/75o/4Vv4S/wCgJbf980AW/wDhNvDX/Qbsv+/wo/4Tbwz/ANByy/7/AAqp/wAK38Jf9AS2/wC+aP8AhW/hL/oCW3/fNAFv/hNvDX/Qcsv+/wAKP+E28Nf9Byy/7/Cqn/Ct/CX/AEBLb/vmj/hW/hL/AKAlt/3zQBb/AOE28M/9Byy/7/Cj/hNvDX/Qbsv+/wAKqf8ACt/CX/QEtv8Avmj/AIVv4S/6Alt/3zQBb/4Tbw1/0HLL/v8ACj/hNvDX/Qbsv+/wqp/wrfwl/wBAS2/75o/4Vv4S/wCgJbf980AW/wDhNvDX/Qbsv+/wo/4Tbw1/0G7L/v8ACqn/AArfwl/0BLb/AL5o/wCFb+Ev+gJbf980AW/+E28Nf9Buy/7/AArD8Q3PgrxL5L3mvwwzwEmKaC72Mv61o/8ACt/CX/QEtv8Avmj/AIVv4S/6Alt/3zQBm+H7jwR4beWa11y3nupxiS5nuQ7sPTPpW7/wm/hn/oN2X/f4VU/4Vv4S/wCgJbf980f8K38Jf9AS2/75oAt/8Jv4Z/6Ddl/3+FH/AAm/hn/oN2X/AH+FVP8AhW/hL/oCW3/fNH/Ct/CX/QEtv++aALf/AAm/hn/oN2X/AH+FMl8Z+GZIXjOuWQ3KV/1w71X/AOFceEc4/sS1z/u0f8K38Jf9AS2/75oApeGNX8LeGtFTTovENnKquz7mlHc5rX/4Tbwz/wBBuy/7/Cqv/Ct/CX/QEtv++aP+Fb+Ev+gHbf8AfNAFv/hN/DP/AEHLL/v8KgvPFfhO/s5bW61myeGZSrr54GQaj/4Vv4S/6Alt/wB80f8ACt/CX/QEtv8AvmgDmLTRfh/a3MTyeIhdW8DBorWe+3RoR04712I8a+GQoA1uxAHAHnCqv/Ct/CX/AEBLb/vmj/hW/hL/AKAlt/3zQBb/AOE38M/9Buy/7/Cj/hN/DP8A0G7L/v8ACqn/AArfwl/0BLb/AL5pP+FceEc4/sS1z6baALf/AAm3hn/oN2X/AH+FH/CbeGf+g3Zf9/hVX/hW/hL/AKAlt/3zR/wrfwl/0BLb/vmgC3/wm/hn/oN2X/f4Uf8ACb+Gf+g5Zf8Af4VU/wCFceER10S2/wC+aB8N/CJ6aJa/980gLf8Awm/hn/oN2X/f4Uf8Jv4Z/wCg3Zf9/hVT/hW/hL/oCW3/AHzR/wAK38I/9AS2/wC+aYFv/hN/DP8A0G7L/v8ACj/hNvDP/Qbsv+/wqp/wrfwl/wBAS2/75o/4Vv4S/wCgJbf980AW/wDhN/DP/Qbsv+/wo/4Tfwz/ANBuy/7/AAqp/wAK38Jf9AS2/wC+aP8AhW/hL/oCW3/fNAFv/hN/DP8A0G7L/v8ACj/hN/DP/Qbsv+/wqp/wrfwl/wBAS2/75o/4Vv4S/wCgJbf980AW/wDhN/DP/Qbsv+/wo/4Tfwz/ANBuy/7/AAqp/wAK38Jf9AS2/wC+aP8AhW/hL/oCW3/fNAFv/hN/DP8A0HLL/v8ACk/4Tbwz/wBBuy/7/Cqv/Ct/CX/QEtv++aP+Fb+Ev+gJbf8AfNAFv/hN/DP/AEHLL/v8KT/hN/DP/Qcsv+/wqr/wrfwl/wBAS2/75o/4Vx4R/wCgJa/980AWv+E38M/9Byy/7/Cs3xDr/hfX/D95pcniCziW5jKFxKMirH/Ct/CP/QDtf++aP+Fb+Ev+gHa/980AO0/xZ4YsNNt7Rdes2EEaxhjMOcDFWP8AhN/DP/Qcsv8Av8Kq/wDCt/CP/QDtf++aP+Fb+Ef+gHa/980AW/8AhN/DP/Qcsv8Av8KT/hNvDP8A0G7L/v8ACqv/AArfwj/0A7X/AL5oHw48Inpolr/3zQBa/wCE38M/9Byy/wC/wqObxd4TuAon1fT5Ajbl3SKcH1qH/hXHhH/oCWv/AHzR/wAK38I/9AO1/wC+aALX/Cb+Gf8AoN2X/f4Uv/Cb+Gf+g3Zf9/hVT/hW/hH/AKAdr/3zS/8ACuPCX/QDtf8AvmgC1/wm/hn/AKDdl/3+FH/Cb+Gf+g3Zf9/hVX/hXHhL/oB2v/fNH/CuPCX/AEA7X/vmgC1/wm/hn/oN2X/f4Uf8Jv4Z/wCg3Zf9/hVX/hXHhH/oB2v/AHzR/wAK48Jf9AO1/wC+aAM3T9S8LWHizU9bXxFaM+oIitGZRhdoxW5/wm/hn/oN2X/f4VV/4Vx4S/6Adr/3zR/wrjwl/wBAO1/75oAtf8Jt4Z/6Ddl/3+FH/Cb+Gf8AoN2X/f4VV/4Vx4S/6Adr/wB80f8ACuPCX/QDtf8AvmgC1/wm/hn/AKDdl/3+FH/CbeGf+g3Zf9/hVX/hXHhL/oB2v/fNH/CuPCX/AEA7X/vmgCWDxb4StQwt9W0+IOxZtsijJ9al/wCE38M/9Buy/wC/wqr/AMK48I/9AO1/75o/4Vx4R/6Adr/3zQBa/wCE38M/9Buy/wC/wo/4Tfwz/wBBuy/7/Cqv/CuPCP8A0A7X/vmj/hXHhH/oB2v/AHzQBa/4Tbwz/wBBuy/7/Cj/AITbwz/0G7L/AL/Cqv8Awrjwl/0A7X/vmj/hXHhL/oB2v/fNAFr/AITbwz/0G7L/AL/Cj/hN/DP/AEG7L/v8Kq/8K48Jf9AO1/75o/4Vx4R/6Adr/wB80AWv+E38M/8AQbsv+/wo/wCE38M/9Buy/wC/wqp/wrjwjn/kB2v/AHzS/wDCuPCX/QDtf++aALX/AAm3hn/oN2X/AH+FH/Cb+Gf+g3Zf9/hVX/hXHhL/AKAdr/3zR/wrjwl/0A7X/vmgC1/wm/hn/oN2X/f4Uf8ACbeGf+g3Zf8Af4VV/wCFceEv+gHa/wDfNH/CuPCX/QDtf++aALX/AAm3hn/oN2X/AH+FH/CbeGf+g3Zf9/hVX/hXHhL/AKAdr/3zSH4c+ER10S1H/AaAIte8Q+F9c0K702TX7ONbmMoXEoyKn07xV4Y0/TLazXXrJhbxLGGMw5wMZpP+FceEv+gHa/8AfNH/AArjwl/0A7X/AL5oAtf8Jt4Z/wCg5Zf9/hR/wm3hn/oOWX/f4VV/4Vx4S/6Adr/3zR/wrjwl/wBAO1/75oAh1vW/BviDS5NP1HWbRoZCD8lwFII6EEGsfR7XwLpGpJfv4ijvrmIEQvd3Yfyv90f1re/4Vx4S/wCgHa/980f8K48Jf9AO1/75oAs/8Jr4a/6Dll/3+FH/AAm3hr/oOWX/AH+FVv8AhXHhL/oB2v8A3zR/wrjwl/0A7X/vmgC1/wAJt4Z/6Dll/wB/hR/wm3hn/oOWX/f4VV/4Vx4S/wCgHa/980f8K48Jf9AO1/75oAtf8Jt4Z/6Dll/3+Fcr8ObqC98b+MLi0lWaGS6Qo6HIYbeoroP+FceEv+gHa/8AfNc78NrK307xn4utLKJYoIbpFjReijFAHpNJS0lABS0lLQBV1P8A5BN3/wBcX/ka+P8Awh/yAj/13k/9Cr7A1P8A5BN3/wBcX/ka+P8Awf8A8gM/9fEn/oVehl/8Y4cd/BN2ig0le+eELRSUUDFopKcmd6kdcjrSewGxJ4T1mHS/7Qks2W327ySRkD1xWbZW7Xt9BbR/emkCD8TXqV7anWNFmm8QxpZtFZjy7y2uvlkwOFK5rzjw7cJa+JtPnl+4k65z9a5KVWc4SvujpqUVGUbbM2Ne0RLvxQdH8N2ZdrSMJKwP33A5Y+lRaV4K1O68Sw6XewNDnDSMCDtT1HrXQaeNT034ha7Ha28NwJtxeOaTYZEbkbT60+9gstE8a6BPb3Mlu8zD7RbtPvEI9M+lYe0nbki+hr7GDfM+5yniDwtfaNr509YXkEshW3I5MgHeq+peGdW0i2FxfWpSInBcEEA++Old5H/xJfijNca1KjQXvm/ZHMm4Lnpz/DUWtsdI8K6pG+lwwR3Z2nN55rOc8Mopxr1LxS1E8PDV7HIW3gvX7raYdPcq6B1YkAEGsi7tJ7G6e2u4miljOGVhgivUtf0bWdW07QTo+oJAsVqheMzbCD/e965P4i3dvdeIoUgmWeS3t1inlTo7jqauhXnOdn/wxFWhGEbozreBG8H3E39ls7iYKL3fwn+zinx+CPEEiO6ae5CoH6jkEZ49a1dOkQfCu9RnUN9ujIXPPUV0N9qsqfE7QYo7si2WGMMof5eRzmplUqRk1HzLVKDinJnLeGfA91r2m31yyvH5CHyhx87j+E+lZFt4a1e81KWwt7NnuITiQA8L9T0rtvD8zT+JPFdhb3IjedH8hTJtUtntUOi2t3L4X1bQILxLbWxcB3LS4Mq+gal7WpFybfb5D9hBpW8zkpNKuPD2tWo16xYRbwWRjw655wak8XaVHo/iGWG2/wCPaVRND/usM4rofE6SWPg7TtF1G5S81X7RvUI+8xqe2azfiC4XWbK0zmS1so45PrjOK0pzlKcW/MzqU1GLXocrRRRXacgUUUUwCg/dNFB+6aT2Gj1T9n//AJFfVP8Ar+P8q9Rvb6202ze6vpkggjGWdzgCvLv2f/8AkV9U/wCv4/yrc+LNlf3Xh2zmsS5itbxJbhUTedg77e+PSvlJ/Gz6iPwo6TSvFmja08iafdh5I13FCpVivqAeoo/4SvRTpLaj9uT7MsnlFu4fONuPWuB0Iwat4zstRXXJLv8As+F3cx2XlJsxyrHH6VjPazr4lbxuNOceHBeAtZBTliOPtGz61BR6zq3ijSNFWL+0LsRtKMpGASxHrgVNDr2mT6QdUivYjZAZM27gfWvL9anudP8AiNd6nc6i1jY39qhtLlrXzkIHVenymq1zoc7+Ari+0+S51G1k1RLu4hMHlb4wfmCp6HrQB6Vp/jnw9qYuDaagjfZ0MkgIIwo6n3FaEuuafBpsOoS3KrazlRHIejbulcdNrmgeJtF1Cx8N2m68awcArbbNvH3CcdfauVvfE9tqPgHQtFtILl72Ge3S5j8lh5O1uc8UAdvB8SdMl8cz6AzYWNBsk2n5pCcFa2dU8YaJo94LW+vVSbGWVQW2D1bHSuUnu7DRvjHK2owCJL6xSO3fychpN3TOOtcuGutE1/xDb6zqjWDXVw0ke6y87z4yONrY/SgD2q3uIrq3Se3kWSKQbldTkEVkaz4w0PQLhYNUvkimYZ8sDLAepA6Cq/gLTTpfg2zt/tE06nLq06bGAJzjHauQh1LTfC/jnxA3i20Ym9ZZLW5eAyK8YH3AcHH0oA9Btdf0y9uYILW7SWS4h86IKfvJ61HceJtItReme8RBYY+0k/8ALPPTNcJfa1Y6R440TX5LeW20i4sHhjYQECMk5AKgcZrm7+4fWtJ8eXcNpOsN1JCIg8ZBkXgZAoA9Vi8ceHprS4uo9RjNvbOqSy/wgt05p8PjHQp9Nnv47+P7LDJ5bSHgFvQetcp430e1i+GVjZWtkqxNNbB444+oyM5xUHxL0uezOgXmmoLbTrK4JuPJgDhARgMUHXFAHb6X4o0jWIZpLG7V/IXdIrAqyj1INUovH/hqa8gtotUiaS4OIz/CT6Z6Zri9FiTVdb1DVINWlv3h0+SJiloYo3ypwM9yKrXGkQw/Amz8mxAuRskyI/nDeZ19c0AdZdfEnTbXx2ugSthPKy0u08SZwF/+vXTa5I0fh++kiYqy27spHUcVwOq3Fno3xV0q91WDbbXGn+Usvk7gZSRjPHWu8135/Dd9sGd1s+AB/s0Acl4avrybSPCrya0ITMjebBIu5rrk8Z7YrauviB4as5Ck+pxhlkMbAAnYw9fSuJ0mGYN8P8xSDZ5m7Kn5eT19KseHtIt28F+KpZ7FWmmurrJeLLNjpigD0HUtf0zSrBLy+u0jhkx5bA5356YA60aPr2m67A0ul3KzBDh16Mp9x2ryG6h1Cys/B2qXE0ttYxWPlPMYTKIZD0LL/Wuq8AW0d14o1PWIdSlvPMjWJ2+y+TG5Hcep96AO51TVrHRrJrvU7hLeFf4nPU+grPsPGOianY3F1Y3qyJbLulGCGUeuOtc78RIXg1rQNWvLd7rSbKZjdRom/aSPlcr3ArOtJbbxN8S7XUfDVuV0+1tXS8n8rYk2ei4x82KAF+GOpWviLWdV1WbULi4vvtDqkbMwRIs4XC9K9A1bWtP0OyN1qtylvFnALHqfQDvXJ/C22EGkakWgEb/2jMMlNpI3fyqv8Qgtl4n8P6vqVs9zpFo7idVTeI2P3XK+goA6nTvFmi6rp817Z30bQW/+tZvl2fXNR6R400HXLw2um36STYyEIKlh6jPWuM8U3lh4p8J3MnhW0eWK2uopLtY4Nn2hAckDj5qg1bUNM8V6t4ftvB9oy3drdLNLMkBjEEQHzKxx+GKAO61XxloOjXws9Qv447g9UHJUepx0rC8B66jaTreoahfhrWPUJNk0j5UJ2x7Vg6TqGm+FfEniODxbaM11eXRmgmeAyCeMjhVOP0rnoLC+uvh3dzadaz2sEOtmeS3MRLCLP93uO+KAPYNI8WaNrk7w6deK8qjdsYFSR6gHqKuabrFjq6zHTrhZxBIYpNv8LDqK8z0NIfEPjTS7uHW5btrFWf8AdWPlKFIxtZsfpXfeHNT0nUftw0SFY0guGjmZY9oaQdT7/WgCvquoGw8UQST6wsFqls7vZeXlpMfxZ9q5b4c6nZeI/Eeq6nJqFxPercOkURdgiw54wvStbVoWk+LWkloi0f2KUMSuV+hpPhparDa6yxtxG39pShTswcZ/lQB0+ra3YaHaifU5xEjHavBJY+gApNH17Ttetmn0u5WdUba4HBU+hHauW+IWtXOnX+lWyulnaXDt5t+8Hm+SQOAPQn1rK+GQkPjDxHL51xcQymNkuJovL83jqBQBY+J/iO0gvNK0SW/ltVuLlTdGHIby/qK7LSLvTkVNKsLkyvbwq+12LNsPQkmuc8eWiS694ab7Osh+3AO2zPGO/tVG91i28KfFO8utVjlitb2yRIJEjLKWU/d470AdbL4r0W3tZrma+jSGCf7PI56K/oabpXi/Q9b1CSy06+SW4jGSmMEj1HqK8glSTVfBepO1pMqXPiJH8t4yCULjqK7vXdPSDx74YNhbLCfKmRniTGBt4yR70Ab99448Pabqf2C71GNLgHDKMkKfQkdKyYPiZpU3jabQw48tY12TAH5nJ+7XN+FtY0fwzZ3uk+KrF/7V+1uz77YyG4y3DA45rQku9P0f4vGW+thDBfWMa27eRwXz06cGgDp9DvWW91p7zWoruGCfhNu37KMZ2k96fpnjjw9q2ofY7HUY5J/4VORv+hPWvOr3SdS1DT/G0dhDKxbUUkMaggyoFBYD1yKs6vqmk+JrHRtM8K2LpqcVzE+VtzGbZV+9uOOKAO91Lxx4f0meaC+1BEmgYCSMAllz7CtixvrbUrKK7sZVmglXcjqcgiuF8PaXBN458XS3dosjMyKHkjzkbOcZq78K43h8F+U6NGEuplVWGMDecUAaMF80Hi7U/tWtxNbQwK5syuDAO7FvQ1Y0bxfoniC6kttKvlnljGSoBGR6j1FcTqdrBN438WjU4rg2Ummxq7QoSxHOcepqr4A1eaLxZa6Rpcq6ppa2pzdPZ+VJbY6IzY5oA9Uvb2206zkur2ZIIIxlnc4AFZOk+M9B1ppl0+/RzCu9wQVwvrz2rB+K1ldXWgWU0FvJdWtpexzXcEYyXiB547/SopfGOi3OkX83hXTRc31vZlgv2TaMf3Txz9KAOj07xnoWq6h9is75WnOdqspXf9Cetef3+q6gvhXxTIt3Mrw6sqRMHOUXeOB7VnC9k1LW/DFxHqUt84ulaWOK08uO2yOmcZH0q1ewTf8ACIeLB5MhLauCo2nkbxyKAPSb7xPpeh2dr/al2EkljBVACzNx1wKtRa9pc+jnVI72I2SjLTFsAfWvLdXW+0b4gT32oX7WFrd2kYtrhrbzlGByv+yaZNoszeAbu+snuNRtpdTS7nhNv5e+NT8wVPQ9aANrxb440/VI9HTw/qZMh1OJXVCVLpzn6ivSx0FeN+Lda0PxDeeGl8O6e7yQ6hGzypbFBCuPuk4r1G016yvNdu9It2ZrmzRWm4+Vdw4GfWgDk/it4ji0rR7Ww+2yWkt3cRrI0eQ3lZ+bBHStuDWfD/hbw3as9+VtGX9y0rF3k/Pk1m/E22WbT9KPkCVhqMOTs3EDd/Ks3xIYdC+JFlrGuWjS6ObQwwyCLelvJnJJUdMjvQB0WqeIbLV/A+p32h3gl8uB8MhwyHH5g1zelajevr/g1HuZWSfT2aVS3Dn1NUI8atd+K9Y0O2kh0maw8pP3ZQTygcsF/rVjTIZjrvgzbG6ldMcFtp+U+9AHZX/jjw9pupfYbvUo0nBwwHIQ+57VojWtPbUobBblDcTRebGgP319RXl2k6ro/h/w3qejeJNOkfV2kl3I1sXa5LE7SrY5qvf6ZrHhXwD4b194JJdQ0sskkK/M3lSZAU/TI/KgD1W18RaVetfLbXkch08lbnB/1ZAzzVuwvrfU7GK8spBLBKNyOO4rw/UNG1PwzZ2iWNtK8/im3EF4yjOyZmzuPp8pxXtem6emmaNb2NsNqwQiNfbAoAzr3xpoOn6gbK6v0WZTh8AkIf8AaPQVefXNOi1G3spLpFnukLwgnhx7GvFrIz6VY6ro2uaq9ncyXEm+A2HmtMGPBVsfNx+VdB4j0eW+8P6D4S0kzS6skYmj1CRSrWqAfeJ9T0xQB6NB4h0u4ju5IrtDFZsVnkJwqEdRmq+leL9E1m8NrYXqvNjKqwK7x6jPWvM7mG6ufhXc6HY2clvqWlXC/bolQkzANkuP72etWNK8rX/EuiiLW5biWzbzVWKw8sRgDBVmxwPagD0DU/G/h/SNQ+xX+opHOMblAJ2Z9cdK0rbWLC8vpbS2uFkniRZHUdlbofxrzLw7quk+FpNZ0/xfZsdQlvZJQ725k+0oxyu04547Vd/tm08M/Eu/vNSimgs9SsYTassRIJUfd46H2oA3fFPxD0zQdEkvbeVbmRJvJCDPLA4YZ9qfea9Hq1ro17pOtpZQT3QVlePP2jjlB6VwMUUt/wDCfXro2Mgc6m8yxvF84XeD0+lb+v39lrdl4RutEQvbjUlzsjK7cLzkY4oA7DWPGOh6Bcpb6nfLHMwzsALED1OOgqzc+I9JtNOhv576JbScgRzbvlYn3rz3Tr+w8JeJfES+MbZmmvblp7ad4DIJYSMBAcH8qyV0e4bwhpiXlnItpd+IFmgtnX/Vwk8AjsPagD1HR/Fui69dzW2l3qTTw8tHjBx6jPUU3xbNNb6IHt9VTSm85B9odNw5P3ce/Suc1SyS0+MWgPZWwiRrGZZGiTAIBGAcVc+KcbyeDAsaM5+1wHCjJ+/QBqah4y0PRpHt9R1FFuIY1Z0AJYgjg4FWG8U6MugjWTqEX2Buk2eCfT6+1clo2nRT/FrWri6tRJtsLZY2kjyB8vOM1ziWGnjwTqEWrNc2MMOuyPbyQwlhEQeCV/u0Ad9f+JLLWfCV1eaHrSWYjIBumQnyjkdVNXtQ8TaX4f0+2fWNQQPKg2kDLScdQBXmp1S+1fwB4mgkVLuCFoxb3sNr5RuPmGcrjkj1rTu5rbw/8QLfVfEdu76dcabFDbTNEXWFwPmBHYmgDS8M6+mr/E7XJLW/8/TlsoHQbvlQ8547GuitvG2gXepCxg1BDMzbVyCFc+gPQ15fbwya9r3jiTwxZy2q3enxC3PlmPzTzkj61FabNZ0nStHm1mZJ0li/0SLTsSQup5y2OBxye9AHs+qalb6Tps17dvsiiXJOM1wM/j2LxT8L9Yu9Pla3v4bZ2KpkGP5sAg16FcQiSwkikUSfuyMMM54ryPTLy0f4Oa7osMLR6pawTLPF5JDcucc454NAHbeGfG2i3Vtp2mvqSPfyQLw38bY5Ge5rU1bxbo2iXS2+oXgSYjJRQWKj1OOgritc0m3tPA/hM2tkqTQ3lqcpH8ygj5uetZN5JdaJ428QnVNTOnLeTeZA72fnCaPH3QcdumKAPX7S7gvrVLm0lWaGQbldDkEV5hqeu2Ov/GCDSbnUZ0s7SEGOKFmQNPnocdeK6r4c6YNL8IRIlxNPHNI8qedH5bKGOcbewrMhs0HxyuZPsw2f2WhD+Xxu3Hv60Adfb61p9xZ3FzBcq8NqzJK4/hK/e/Kqlz4v0O0t7aa51COOO6iMsJP8a+1ecW2vW/h/QvFWh38FwNSe4uXihSInzVfkEH0qbRtNW51nwGL213pFpjkrImQrbR1oA9G0bxLpOv2clzpd4kscJxITwUPuD0qhF8QPDM129vHqcbSICeAcNjrg964fWtGvbjXfHVloULQyXFhEYxGNod++Pcitnwp4k8LT2mlaTDppjv1URmBrQ7oWA5JOOPrQBc8M/EKz8WR6lbwSi2uIHkWJtpI2Do//ANatTStbttM8HW9/rWtQ3SYObzG0ScnoP0rkPBlxaWU3ijRp4DDqLXNxJGhixujI4IOOlZVvbyWXhPwXqepWctxpdi8pu4RGW2FmO1yvcA0Aen6N4q0fX45W0u8SUwjMiHhlHrg1RPxD8MCaGP8AtWLMzbFIzgHOME9q5WO6tPEnxCttR8LWzJaWdnKl5crEY1lLD5U9yKzdL0eAfAC+P2EfaWEshzF85bzOD60AewghlBByDyDS1Q0IsfD+n+Znd9mjznrnaKv0AHevPvAf/JQPGn/X4n/oNeg968+8B/8AJQPGn/X4n/oNAHoNJS0lABS0lLQBV1P/AJBN3/1xf+Rr4/8ACH/IBP8A13k7f7VfYGp/8gm7/wCuL/yNfMnw18Y/2N4PFp/ZFldbbmU+ZMuWOWrtwTkqvuK7OPGRUqVm7FfP+cUn5/lXa/8ACxv+pe03/vij/hYx/wChe03/AL4r2OfEfyr7zyPZ0v5zivz/ACo/P8q7X/hY3/Uvab/3xR/wsX/qXtN/74o56/8AL+I/Z0v5zivz/Kj8/wAq7X/hYv8A1L2m/wDfFH/Cxf8AqXtN/wC+KOav/KvvD2dP+c44zSGPYXcr/dycUwEggjII6V2n/Cxv+pe03/vij/hY3/Uvab/3xRzV/wCVfeHs6f8Az8Ob1TXLzVpoZbp/3kMQiV1GCQPX1qg0ju25izN6muz/AOFjf9S9pv8A3xR/wsb/AKl7TP8AviknXW0F943GD3qHGvLJIQZGZiOmSTihpXfG9mbHTJJrsv8AhYv/AFL2mf8AfFH/AAsb/qXtM/74p82I/lX3i5If8/DI8Q+JP7ZXTxDG8H2S2EDYb72O9YWfXJrtP+Fjf9S9pn/fFH/Cxv8AqXtM/wC+KmPtoqygvvKlGE3d1DjN7bdoLbfSjzHLBizFh0OTkV2f/Cxv+pe0z/vij/hYv/UvaZ/3xVc1f+VfeT7On/z8OMWR1ferMG9QTmlEsgfeGbd/eyc12f8AwsX/AKl7TP8Avij/AIWL/wBS9pn/AHxS5q/8q+8PZ0/+fhyVnfTWWoxXsfzyxMGUuN3NJfXs+oX013dMXlmbcxxXXf8ACxf+pe0z/vij/hYv/UvaZ/3xRzV735F94+SDVvaHFfgfyo/A12v/AAsX/qXtM/74o/4WL/1L2mf98U+fEfyr7xezpfznFfgaPwNdr/wsX/qXtM/74o/4WL/1L2mf98Uc+I/lX3h7Ol/OcV+B/KkP3Tx+ldt/wsX/AKl7TP8AvikPxG4P/FPaZ/3xS58R/KvvD2dP+c6D9n8geFtUycf6cf5V6uSpGCQQfWvEPAGgHx9Dqmrfb7jRcXXl/ZrA7Y+B1+tdf/wqk/8AQ1ax/wB/K+dn8TufQR+FHepFBGpEaRoG6hQBml2R+XswmzGNuBj8q4H/AIVSf+hq1j/v5R/wqk/9DVrH/fyoKO9eKGRAsiRso6BgCBTwEC7RtC4xjtXn/wDwqk/9DVrH/fyj/hVJ/wChq1j/AL+UwO9jhghJMUcabuu0AZoEFupJWOIFjkkKOa4L/hVJ/wChq1j/AL+Uf8KpP/Q1ax/38oA7544ZGVpEjZl6FgDikkiglYNIkblehYA4rgv+FUn/AKGrWP8Av5R/wqk/9DVrH/fygD0HcPUVHJFBNjzkjkx03AHFcF/wqk/9DVrH/fyj/hVJ/wChq1j/AL+UAd88UMqbJEjdR0DAECjy4dpGxMHqMDmuB/4VSf8AoatY/wC/lH/CqT/0NWsf9/KAO/YIy4baR6GlbYylW2sD1Brz/wD4VSf+hq1j/v5R/wAKpP8A0NWsf9/KAO+jjhiTZGiIvooAFLti2bNqbf7uBiuA/wCFUn/oatY/7+Uf8KpP/Q1ax/38oA76SKGXHmpG+DkbgDinZXGCRj0rz/8A4VSf+hq1j/v5R/wqk/8AQ1ax/wB/KAO/CxDbhU+XpwOKAsYUgBQD1HrXAf8ACqT/ANDVrH/fyj/hVJ/6GrWP+/lAHflImj8tlQp/dIGKESKJQsYVFHZQAK4D/hVJ/wChq1j/AL+Uf8KpP/Q1ax/38oA9AbY6lX2sD1BpsccUS7YlSNfRQBXA/wDCqT/0NWsf9/KP+FUn/oatY/7+UAd+oRfu7VBOTjilYRupVwrA9Qea8/8A+FUn/oatY/7+Uf8ACqT/ANDVrH/fygDvo44Yl2xKiL/dUACkjighYmJI0LdSoAzXBf8ACqT/ANDVrH/fyj/hVJ/6GrWP+/lAHfSRQSsDIkblehYA4pQsaghQoB6gd64D/hVJ/wChq1j/AL+Uf8KpP/Q1ax/38oA7xYIERliRIww52ADNVNF0ax0CwNppy7IjI0h3NklmOSc1x3/CqT/0NWsf9/KP+FUn/oatY/7+UAegEIWDHbuHQ96FCJnbtXJycV5//wAKpP8A0NWsf9/KP+FUn/oatY/7+UAd9JHDMu2VUcejAGlVY0+4EXtwAK4D/hVJ/wChq1j/AL+Uf8KpP/Q1ax/38oA9AIRsbtpI6Z7UySKGXHmrG+ORuAOK4L/hVJ/6GrWP+/lH/CqT/wBDVrH/AH8oA77y4sYKpjOcYHWlIQsCduR0PpXAf8KpP/Q1ax/38o/4VSf+hq1j/v5QB3rwwPIHeONnHRioJFK8UEjKZEjcr90sAcVwP/CqT/0NWsf9/KP+FUn/AKGrWP8Av5QB34CKSV2jPXHempFBG5eOONWbqVABNcF/wqk/9DVrH/fyj/hVJ/6GrWP+/lAHoACKSRtBbqR3oUIgwm1R6CvP/wDhVJ/6GrWP+/lH/CqT/wBDVrH/AH8oA7/bHuJwuTwT60kcUEJJiSNCeu0AZrgf+FUn/oatY/7+Uf8ACqT/ANDVrH/fygD0AlSCCQRTI4YIs+Ukabuu1QM1wX/CqT/0NWsf9/KP+FUn/oatY/7+UAd6kFvH/q4415zwoHNO2RYI2pgnJGBzXAf8KpP/AENWsf8Afyj/AIVSf+hq1j/v5QB30kcMq7ZVRwOzAGnAIF2jaF9B0rz/AP4VSf8AoatY/wC/lH/CqT/0NWsf9/KAO9WC3T7kcS854UDmqWm6JY6Xe3t3ag+deyeZM7Nkk/4Vx/8Awqk/9DVrH/fyj/hVJ/6GrWP+/lAHoDBHxv2tg5GaSRYpUKShHU9mAIrgP+FUn/oatY/7+Uf8KpP/AENWsf8AfygDv1SJI9iqgT+6AMUBYwQQFyvA4HFcB/wqk/8AQ1ax/wB/KP8AhVJ/6GrWP+/lAHetDA8gd442dejEAkU9gjrtfaw9DzXn/wDwqk/9DVrH/fyj/hVJ/wChq1j/AL+UAd+RG2NwU7eRntTtw9R+deff8KpP/Q1ax/38o/4VSf8AoatY/wC/lAHevDA8gd442dejEAkU7Ee/f8u7GN3euA/4VSf+hq1j/v5R/wAKpP8A0NWsf9/KAO/CxhiwCBm6nA5pqRQREmNI0J6lQBmuC/4VSf8AoatY/wC/lH/CqT/0NWsf9/KAO9khglYNJHG7L0LAEileOGXHmJG+3puAOK4H/hVJ/wChq1j/AL+Uf8KpP/Q1ax/38oA78LGFKgJtPUYHNNSGCNQqJGqg5AAHBrgv+FUn/oatY/7+Uf8ACqT/ANDVrH/fygDvZIoJiPNSN9vTcAcU4hGwCFIHTPauA/4VSf8AoatY/wC/lH/CqT/0NWsf9/KAO/IQsGO0sOh7ilYI4w+1h6GvP/8AhVJ/6GrWP+/lH/CqT/0NWsf9/KAPQAIwxYBQx6n1ppjhZSrKhVuSCBg1wP8Awqk/9DVrH/fyj/hVJ/6GrWP+/lAHfLHCkflokap/dAGKJI4ZV2yqjr/dYAiuB/4VSf8AoatY/wC/lH/CqT/0NWsf9/KAO/VIk+4qLxjgAcU0RQLIZFSMOerADJ/GuC/4VSf+hq1j/v5R/wAKpP8A0NWsf9/KAPQdy+o/OoxDAGZhHHl/vHaOfrXBf8KpP/Q1ax/38o/4VSf+hq1j/v5QB35WMqAQpA6A9qSSKCbHmpG+Om4A4rgf+FUn/oatY/7+Uf8ACqT/ANDVrH/fygD0EFQMAgCkxHv34XdjGe9ef/8ACqT/ANDVrH/fyj/hVJ/6GrWP+/lAHemGBpfMaOMvjG4gZ/OnBYwQQEBUYHHSuA/4VSf+hq1j/v5R/wAKpP8A0NWsf9/KAPQAEDFhtDHqe5piwwJKZEjjVz1YKMmuC/4VSf8AoatY/wC/lH/CqT/0NWsf9/KAO98qHzTJsj3kYLYGcfWnbY/L2YXb/d4xXAf8KpP/AENWsf8Afyj/AIVSf+hq1j/v5QB30ccMK7YURF9FAFLtjCbAE2/3ccVwH/CqT/0NWsf9/KP+FUn/AKGrWP8Av5QB6CCoGAQBRuHqPzrz7/hVJ/6GrWP+/lH/AAqk/wDQ1ax/38oA9B3D1H515/4D/wCR/wDGf/X4n/oNJ/wqk/8AQ1ax/wB/Kq/C6w/szxV4rsvPkuPIuUTzZTln46mgD0ykpaSgBaKKKAKup/8AIJu/+uL/AMjXx/4P/wCQEf8Ar4k/9Cr7A1P/AJBN3/1xf+Rr4/8AB/8AyAj/ANfEn/oVehl/8b5HDj/4Ju0UUle+eGLRSUUCFopKKAFopKKBi1ueDtJt9b8TQWN5u8qQMTtODwM1h11fw2/5Hm0/3X/9BrGu2qUmjSlFSqJM5m7jWG8njT7scjKM+gNdNZeFbZV0I6hK3napNzCO0XrXOagMapdZ/wCe7fzrvtV3Hx/4XK/6g20Hl46dOaxqylyxSfQ1pwi279zm9Q0bTLS81qJrqSGSzk228W3dv+prnxFIY94ifZ/e2nH516Lcxq9r44ZlUssg2kjpV62mbXNDhsNIkbTpY7L57Se1+STA5YNjrWMcRKKNJYdN6HnreH75PD66x5f+jNL5eAPmz649Ks65oMWn6Tpup2Uxmtr2Pkkco46iuuHiDVz8KlmtsSSx3Rt22RBsIOP8msGYN/wqeEz9TqBMWfTHNXGrNvV9bEypQSsu1zk6MUUtd5xiYoxS0UAJijFLRQAmKMUtFACYoPSlpD/SjoNbnqf7P/8AyK+q/wDX8f5V6wXVOXYL25NeT/s/f8ixqv8A1/H+VbPxik8rwnZ5uZLVG1CFZJo2wVUnnmvkp/Gz6iHwo71J4pWKxSo7L1CsDihp4gwUyoGJwBuGSfSvKtd0/TPC2seHbrwhdN9su7xIpoknMn2iJvvFhk/XNWfBvh+21fxt4i1TUZJp5LHUsWsZlIWPAznFSUd1omoahd29w+s2kdkyTskQWQNvQdD9T6VorPC+7ZKjbfvYYHFeM6hLcXfgW6jNzKhk8ReXvVyGCl+gNbk+g2WgfEjSLHTfNS21S1mju4mlZhLgZzyetAHdaN4i0/XWulsJdzWszQSA/wB4dce1ahIAyeB6mvMfhXoukWmqa7NAipdwajLEimUkhOO2f1rW+Kd5Pb6Np9us72tpd3qQ3c6HBSM9ee2fWgDtY54ps+TIkmOu1gcULcQtIY1lQuOqhhkV5/quk6T4U8N6te+DpSL77GSES4MmB/fxk81z2saZoui+BrLxBoWoyHWz5TxyrcF3uHYjcpXPOcnjFAHsUk0cIzNIsY9WbFc5oWvXWo+Mdc06Uobey8vyio/vDmuSaC28T/Ei8svF8zJBa2cT2lq0pjVyw+duoyQawYLhtCh8dnw1dPcC38pY5N+8oD1wfagD21Z4ZJCiSozDqoYEin14vaabfxyaLd6Lb2tlcNLGz3H9peY1wp+8CueSa9W8Qalb6T4dvL6+DmGGEtII+pGO1AF9J4ZHKRyozDqAwJFBnhVgplQMTgAsOTXjETNY614bv7Gyh01bu7VcremWSVGGcOM4rZ8MaBb6n4l8SateNNc3Flfv9ljMp2xkDsKAPTmnhSQRtKgc9FLDJ/CnFlDBSwBPQE9a8e0TTNF17wbfa74h1GRdZDzM8rXJRrdlJ2qFzxjAq7pusXk2oeBrvWLho2ngmWR5DtDn+HPuRQB6mXQEguoK8nnpTVnhaTYsqF8Z2hhmvK9Z1T7T4h8bfY7rzEh0pQCj5Ct7VSvdBt9C8JeGdfsprj+1GnthJcNMx8wPjII6YwaAPYpJoocebIiZ6bmAzXO+Fdeu9X1nXra62GOxuhFDtH8OM81yNrZ2Pij4ha7F4unb/QSi2ds8xjVUIzvHIzz3q38JEgivPE8VncNcwR6htjkZtxIA6Z70Adrf+ItP03VrLTrqULPekiIduBnn0rMi8Qzn4h3OkyvGtlHYpOrHj5icda5bx7oGkT/Efw1LfRAC7lkWZmlKhsLkDrxTrrw7Ya58WpbW8DtZw6VHiJJCA/OBkjrQB6Yrq6B0YMp7g8U2OaKYkRSo5HXawOK8XuL/AFDRfA+vafps0pgttXFupaQ5jhbGRu7D3rQ0rS7+y8V6PLo9raadGWIuFTUPNNxHj+7k8980Aet1GlxDIxVJUZl6gMCRXM/ErUL7TPAV/c6YzJMAqmRBkopIDMPoKytI8M+GrHTYb/SbovfPaOQ4uixmJXkkZ5oA73zE2b967f72eKRp4o/vyIvGeWAryQ63CnwGTffqLriM/vPn3b+nrV1tCg8SfEtLbVJZ3tYtJikMCylVduOTigD01p4U+9Ki/VhQ88UbBZJUVm6AsATXmWneHbTXfitrw1F5pLfTxD9ntxKwRTt64FYMCXevXetz6jYQ3FxFcvEss1/5LW6j7uFzx65oA9taRE++6r6ZOKilvraGzkummQxRqWZgwI4ryWexv9U1DwTpuu3ru0iS+e0EpxKoHGSOtXIvD1ja+IvEvh6MStphsluUt2kYhHx1BzmgD0fRtas9d02K+0+TfDKMrnqOccisbW9fvLHxxoulW+0wXqStICOSVAxisv4TaZpln4PtriwCi4mU+diQseGPbPFJ4p/5Kl4Z/wCuU/8AIUAdNoWoahd2csmtWkdlIszIirIGDKDwfxrUjnilJEUiOVOCFYHFeIXD3F34EWE3UyGXxE0ZdXIYL5h4zXTSaRB4S+ImmJoZljW+s5jPG0hYSMoyDg96APSDPCsgjaVA56KWGakrwaxjv9b8O3Woz2sLak8r5vptR8t4XB4GzPGPSvadA+2/8I/Zf2oytd+SvmshyGbHWgDQooooAKKKKACiiigAooooAKKKKACiiigAooooAKKKKACiiigAooooAKKKKACiikoAWikpaACiiigAooooAKKKKACiiigAooooAKKKKACiiigAooooAKM0UUAGaM0YoxQAZozRiigAooooAKKKKACiiigAooooAKKKKACiiigA71574C/5H/xp/wBfif8AoNehd6898Bf8lA8af9fif+g0AehUd6KSgBaKKKAKup/8gm7/AOuL/wAjXx/4P/5AJ/6+JP8A0KvsDU/+QTd/9cX/AJGvmT4a3PhGPweF1y1u5Lv7TLuaJsDG7iuzBycat0rnJjI89O17Fejiu1+2fD3/AJ8dR/76o+2/D3/nx1H/AL6r2PbVP5GeR9X/ALy+84rijiu1+2/D3/nx1H/vqj7b8Pf+fHUf++qPb1P+fbF9X/vL7ziuKOK7X7b8Pf8Anx1H/vqj7b8Pf+fHUf8Avqj29T/n2w+r/wB5fecVxRXa/bfh7/z46j/31R9t+Hv/AD46h/31R7ep/wA+2P6v/eX3nFVYsb+5026W5sZWhmXIDr1Ga637b8Pf+fHUP++qPtvw9/58dR/76odabVvZsFQad1JfecW7tI7PIcsxyT6mt248TyT6LptuEK3unMfKuQeQnpWv9t+Hv/PjqP8A31R9t+Hn/PjqH/fVTKpKVr03oVGnKN7SWvmcwdZv2S6U3LYvDmf/AKaH3q1/wlmt/YPsYv5BDt2YHXb6Zrd+2/D3/nx1H/vqj7b8Pf8Anx1H/vqj2kn/AMu2P2c/5195zmneINU0q1ltrC7aKCXO9OoOetWdc8QLqen6fYWsH2e2s48bc53OerVtfbfh7/z46h/31R9t+Hv/AD46h/31S53fm9m7hyTtbnX3nFUV2v234e/8+Oof99Ufbfh7/wA+Oof99Vft6n/Ptkewf8y+84qiu1+2/D3/AJ8dQ/76o+2/D3/nx1D/AL6o9vU/59sPYP8AmX3nFUV2v234e/8APjqH/fVH234e/wDPjqH/AH1R7ep/z7Yewf8AMvvOKortftvw9/58dQ/76o+2/D3/AJ8dQ/76o9vU/wCfbD2D/mX3nFUHoa7X7b8Pf+fHUP8Avqg3nw9x/wAeOof99Ue3qfyMPYf3l95vfs//APIsar/1/H+VdN8TNPl1LR9NgitmuF/tKEyIFz8ueSfauB8Axa5dxapJ8OZ4LPSvtWPLvV3Pvxyc+ldd9g+KH/QT0r/v0a+dl8TPoI6RR1Gl+DdB0e+N7YadHFcEcP1K/TPStCy0qy06W5ks4Fie6k8yYj+NvU1w/wBg+KP/AEFNK/79Gj7D8Uf+gppX/fo1JR2B8NaQbY25so/KM/2grjjzM53fWrE2lWVxqNvfywK1zbAiKQ9UB61w/wBh+KP/AEFNK/79Gj7D8Uf+gppX/fo0Adbb+F9Htdek1i3s0jvpRh5F43e5FX7/AE+11OzktL+BJ4JBho3GQa4P7D8Uf+gppX/fo0fYfij/ANBTSv8Av0aAOq0jwhoehPK2mWKRNMuxySTlfTntUFp4F8OWWpi/ttLhSdW3KcZCn1A6Cuc+w/FH/oKaV/36NH2H4o/9BTSv+/RoA63WvCujeIGjfVrJJ3j4R+jAemRTtO8M6PpUc8en2EMKXACyqq8OPeuQ+w/FH/oKaV/36NH2H4o/9BTSv+/RoA6Ww8EeHtM1AXtlpsUc6nKNydh9h2raubaG8tpLe5jWWKRSrowyGFcB9h+KP/QU0r/v0aPsPxR/6Cmlf9+jQB0ll4G8O2EscltpsavE++NjklD7elatnplpp8k72cCxNcSeZKV/jb1NcN9h+KP/AEFNK/79Gj7D8Uf+gppX/fo0AdHeeBPDd/qRvrrS4XnZtzHGAx9SOhq9q3hzStcsY7TU7OOaGIgxrjGw+2Olcd9h+KP/AEFNK/79Gj7D8Uf+gppX/fo0AdVa+D9CsobiK106KNLmPy5gB99fQ1an0PTrmwgsp7VHt7cq0UZ6IV+7j6Vxf2H4o/8AQU0r/v0aPsPxR/6Cmlf9+jQB1Wr+EdE124SfU7COaaMYEnQ49MirWlaHpuiRyJpVpHbLIQXEYxk1xf2H4o/9BTSv+/Ro+w/FH/oKaV/36NAHYa14c0vxDBHFq9otwsTboyeqn1Bqe30extbwXcFuqziEQ+Z32DoK4j7D8Uf+gppX/fo0fYfij/0FNK/79GgDtF0LTEhu4hZxGO8YvcKRkSE9zVPSvB2haLd/adN0+OKbGA/JKj0Gelcv9h+KP/QU0r/v0aPsPxR/6Cmlf9+jQB6DNDHcQvDOiyRuNrKwyCKxNM8E+H9H1D7bp+nxxT8gMCflz1wO1cz9h+KP/QU0r/v0aPsPxR/6Cmlf9+jQB0LfD/ww9zLO2kwl5m3OO2eucVrxaVZQagb2KBVuDEIjIOuwdBXD/Yfij/0FNK/79Gj7D8Uf+gppX/fo0Adzb6XZ2uoXF7BAqXNzjzpB1fHTNZmo+CvD+q35vL7TYpJ2+83Tf9cda5n7D8Uf+gppX/fo0fYfij/0FNK/79GgDtTomnG5tLj7LGJLNStuwGPLB4wKkXS7NdQmvhbr9pmQRySd2X0rhvsPxR/6Cmlf9+jR9h+KP/QU0r/v0aAOu0fwxpOgz3Euk2i27XBzJtJwfwq1caVZXWoQXtxAr3FuCIpD1QHrXD/Yfij/ANBTSv8Av0aPsPxR/wCgppX/AH6NAHXDwxo4thbixj8pZ/tAXHAkznd9c1bm0y0n1CC9mgV7i3BWKQ9VB61w32H4o/8AQU0r/v0aPsPxR/6Cmlf9+jQB0lz4G8OXepG+n0yFp2bcx6Bj6kdK31UIoVQAAMADtXnn2H4o/wDQU0r/AL9Gj7D8Uf8AoKaV/wB+jQB6JRXnf2H4o/8AQU0r/v0aPsPxR/6Cmlf9+jQB6JRXnf2H4o/9BPSv+/Ro+w/FH/oJ6V/36NAHolFed/Yfij/0E9K/79Gj7D8Uf+gnpX/fo0AeiUV539h+KP8A0E9K/wC/Ro+w/FH/AKCelf8Afo0AeiUV539h+KP/AEE9K/79Gj7D8Uf+gnpX/fo0AeiUV539h+KP/QT0r/v0aPsPxR/6Celf9+jQB6JRXnf2H4o/9BPSv+/Ro+w/FH/oJ6V/36NAHolFed/Yfij/ANBPSv8Av0aPsPxR/wCgnpX/AH6NAHolFed/Yfij/wBBPSv+/Ro+w/FH/oJ6V/36NAHolFed/Yfij/0E9K/79Gj7D8Uf+gnpX/fo0AeiUV539h+KP/QT0r/v0aPsPxR/6Celf9+jQB6JRXnf2H4o/wDQT0r/AL9Gj7D8Uf8AoJ6V/wB+jQB6JRXnf2H4o/8AQT0r/v0aPsPxR/6Celf9+jQB6JRXnf2H4o/9BPSv+/Ro+w/FH/oJ6V/36NAHolFed/Yfij/0E9K/79Gj7D8Uf+gnpX/fo0AeiUV539h+KP8A0E9K/wC/Ro+w/FH/AKCelf8Afo0AeiUV539h+KP/AEE9K/79Gj7D8Uf+gnpX/fo0AeiUV539h+KP/QT0r/v0aPsPxR/6Celf9+jQB6JRXnf2H4o/9BPSv+/Zo+w/FH/oJ6V/36NAHolFed/Yfij/ANBPSv8Av0aPsPxR/wCgnpX/AH6NAHolFed/Yfij/wBBPSv+/Ro+w/FH/oJ6V/36NAHolFed/Yfij/0E9K/79Gj7D8Uf+gnpX/fo0AeiUV539h+KP/QT0r/v0aPsPxR/6Celf9+jQB6JRXnf2H4o/wDQT0r/AL9Gj7D8Uf8AoJ6V/wB+jQB6JRXnf2H4o/8AQT0r/v0aPsPxR/6Celf9+jQB6JRXnf2H4o/9BPSv+/Ro+w/FH/oJ6V/36NAHolFed/Yfij/0E9K/79Gj7D8Uf+gnpX/fo0AeiUV539h+KP8A0E9K/wC/Ro+w/FH/AKCelf8Afo0AeiUV539h+KP/AEE9K/79Gj7D8Uf+gnpX/fo0AeiUV539h+KP/QT0r/v0aPsPxR/6Celf9+jQB6J3rz3wF/yP/jT/AK/E/wDQaaLH4o5/5Celf9+jVb4WpfJ4p8VrqzpJei5QTNGMKWx2oA9NpKWjFABRRRQBV1P/AJBN3/1xf+Rr4/8AB/8AyAj/ANd5P/Qq+wNT/wCQTd/9cX/ka+P/AAf/AMgI/wDXeT/0KvQy/wDjfI4Mf/B+Zu0UUle+eHYWikooCwtFJRQFhaKM4r0e18MaZqlzoWqQwCPTZLdmvQDwGQc5+prCrWVK1zWnSlU+E84oClmAAyT0Fek3nhfStO1DVdWeASaStks1qpPBZuAPzrjfCsEd14s06KYAo865H41MK6nFyS2HKjKElGXUh1nRbnQ7iKG92iWSISbVOSoPY+9ZtehJBbeI/FPiazv4Q16wdrRj1Up2qa78F2jeDYYLWL/idxLHNMB12ucYrJYpQSU9zR4eT1hschoWgNrcN86SrH9jgMxyPvY7Vj9a9W0qHS9O8Q65ZQw/6NZ6YFnCHmRurVhapp2ka14Oh1bSLH+z5Vu1tmXdkMD3NKOIfPdrQcsP7qtucNRXrTeENJ0+6j0uaxtXt2jHm3ctztlDEdQvpWFpOkaHp+g61earbfbhY3gjiKNjeO3PpTWLTWiJ+qzT1OCxV/RtHuNbvTa2ZTzQhcB2xux2HvXc6RoGn3eiy+II9Pt5GuZysNrPNsjiUdee5qjq9ha6D4v0S80jy42uHUyQRSbxG2cEA+lP6zzNxS1D6u0lKWxwzoUdlcEMpIIPY02tvxjDHb+MdTjiwFExIA7Z5rErqhLmimYSjyyaFopKKsmwtFJRQFhaQ/dNFB+6aTA9U/Z+/wCRW1T/AK/j/KvWhXkv7Pv/ACK2qf8AX8f5V1/xDvtasPDayeH0kMjTKs0kMe944+7Kvc18nP42fUx+FGn4o15PDWgy6nJCZljZQUBxnJA/rWrC/mwJJjG9Q2PqK8g1bVG1H4TaxGutNq00M0YBmh8uSIlhgMPrWzBL4i8N+ItAN/q/2621VxBLbmPAibbkFako9JxRXm1pN4k8a3OpX+na1/ZVrZXD29vAkYbeU6lz7+lUoPHmrSWehatcuscC372Goqo+VjyA4PYcUAerYoryjTvH+qQ+INUu9TkX+x7iOY6dxjmLjr3ya7nwXNqF14SsrrWJDJdXCea2RjaDyB+VAG9iivLPFviC8jvtTn0nW76SSxGVgtLXdFGR1V27132hX8us+FrK9fEU11bhyV/hYjrQBfiuoJ5ZI4Zkd4jh1U5Kn3qavKfAek6lB448SSS6zLKtvcDzEKD96dvGfTFXfAlx4i1hJde1jWwljbzTxrbCMAFQSAzH2oA9JxRivHbnxbqVjfWepWOsX2pQS3ixSb7XZbMjNj5T7etbj3uveM/FWq2Olar/AGRZ6SyxfIgZ5ZCM5Oe1AHo2KMV5f4i8Tarp+s6f4ZudSljkFsZrq9trfc8mDgBR2+tbPgDXtR1C81HT783FxBbFWt7yeHyzIp7EeooA7fFISFUk9BXHeLdV1WbxHpvhrRLlbGW9R5Zbpl3FEXqFHrWTFc6/p3iCfwlqGrm5+12bXFrfCMCSLHUMO9AHR+GvFNx4lvLpoNOaLTYXaKO6ZxmRlOD8vYV0ElzBDLHFLKiSSnEascFj7VwHwesLu18OTyz6g9xE1xIqxsuApDcn8ap/EHStRufH/hxrbV5LYTTMsaqoPlELyR65oA7X/hIo/wDhM/8AhH/IbzPs32jzc8YzjFbeK8v1bTtVu/ixDZWGpfZZP7JAmutmWI3dh2NMHjTWdA8I64l/Ot5e6ZeraRXJT7wboxHqKAPU8VXv7yLT9PnvJ+I4IzI2PQDNeX6Z4n1aw1/TEivdQ1aG8kEd2k9oUEWf4lPYe1dj8Q7O5vPA+pLaXjWhSFnZlGdygcr+NAE/hPX7zxHp5vrjTTZW0nzW5aQMZF9SO1dBivKtKutU8P8Agbwt5eotMLy6iQ7lA2xkfdro9c1y+tPiDZadBNttpLGWV0x1YdDQB2WKMV45BqPjC48Ct4rbXQhtZHZbXyhtkRXwQx9cVvXmu6z4o8S2ug6PejS0Fil5czhdzNu6KtAHoE9zBbBTcSpEHbapc4yfSqF7r9rYa3ZaXMkxnvc+WyRkqMep7V5v490HX4dJ0hL/AMQtOw1BEVliC9Twx9xXR39/qOi+KPDemy3hukmWXz3ZBmTC5H0oA7mjFeZWEvinxhZ3ev2OtrpsEUsi2tosQYEIcfOffFQT+MNe1ux8L/2XcR2NxqM8kNw23cvy8EgUAeqYoxXC+FrvWdN8bX3h3V9ROpRC3W4hmZNrLk8g1b8ea9qOnLpumaK8cN5qlwIVnkGREO5x60AdfikPCk1xsVnrPhjSdQuNZ8TrNbiLMc00PMTevHX6Vzej+J9TtPF2m2f26+v7LUVYO17b+WAwGQyH09qAOj/4WHB/Ybaj9ifA1D7Ds3d923dXZBsqG6DGa8RP/IhMf+pjP/o2vX9Wtp7zQ5oLS6a1laP5ZVGSvFAEeq67b6d4eutWhK3MVuhYiNs5x2zVnSb9dU0i1v1QoLiJZAp7ZGa8k8OadfW3wh1q5udSkuYWjmVYGXAUhjzn3qzbT+JfDXh/w3rD6ss1tcNDBLY+XhVRhxg+ooA9eqKa5gt2jWeVIzI21AxxuPoK888W61cHVrpNO1u9WW1jyLaxtt4jbGfnNc/r0mreJ9O8Iao2pvavc3AQoicK4/j/APrUAezmsTw34jj8Rfb/AC4Gi+x3LW5yfvFe9adhbzWthFDczm4lRcNKwwWPrXklt4ln8LeGdfuLID7RPrb26OV3bCx+9jvQB7JTJX8uF3xnapNeYaH4k1O08TafbpeX+qWt2Stz9otSnknGdwPp7VJp8vifxhaX+t2mtLYQRSyx29msYZSFyPnPvQB2nhbxCnibRRqEULQqZGTaxz904rU+1Qfavs3mp5+3d5efmx64rivg+zv8PoGl2+YZpd23pncaxV0TVT8apsa5KP8ARFl+4PubvufSgD1WivOkm8ReM9d1VNN1j+ybPS5vs8apHuaRwMktnt7VueA/EF5rml3UWqbGvNPuXtZpIxhZCv8AEPrQB0huYRdC3MqCZl3CPPJHrisjTPEkepeJNU0hYGRtPK7nJ4fcM8VxOq6Jqs3xltBFrksXmWbyphAdihuU/GooNL1fVfiV4nt9K1Q6aiLEXlRNzO23j6CgD1ejFeUTePtWtvAtj58o/tG4vnsXukjzjaeXC+uO1XPC/iLUovGFvpgub7U9PuYmLTXNsUMLj39DQB6XijFct4/8Q3nh/QojpgT7ZeXCW0LyDKoWONx+lZVxp/ifw3oWpahdeIjfqlmzhHhAKSY6g+ntQB31GK4HWfEWoW3w20XU4bjbdXMlssj4+9uPzVUin8Sa/wDEbVNOtdY+xabp5hkKrGCz5GSuewNAHpNGK810W78Saz4n1mWbV/I0vSbwhYEjBaUAZKk+lYKeN9V1Wxn1m31C+iuFdjb2MNoWiKg42k9yfWgD2jFMlljghaWZ1SNBlmY4AFecXWs+Ite8T6Rp1hdnSo73TPtFwGjy8beg96y7yfXb7wn4r0TUNXLzaQT/AKSqYM0ZXO1v8aAPW4pY5olkiYOjDKspyCKxbnxPFa+Kv7GeByRaNdGQc8A9MVR+HNjd2Xg2xN3fveCWFGTcuPLGOlZWqO0Xxd8xOGXR5CD+NAHYaJrNvr+lR39mkqRSEgCVCjcHHQ1oYryc+JfENz4d8KiwvUhutSunillaMY2jPar1trus+EfEmqaZrF+dWt49ON/E7JtZSDgr9KAPSsUYrxaHxnrc2lxa5BqF9PeSMJP7PSzJhKE/dB9cd69ktZjcWcMzIUMiBip6gkdKAJcUYoooAKKKKACkpaKAEpaKKAEopaKACiiigApKWigApKWigApKWigAooooASloooASloooAKKKKACiiigAooooAMUYoooAK8+8B/8AI/8AjP8A6/E/9Br0GvPvAf8AyP8A4z/6+0/9BoA9BooooAKKKKAKup/8gm7/AOuL/wAjXx/4P/5AR/67yf8AoVfYGp/8gm7/AOuL/wAjXzN8M/C2nar4OF1da/bWUjXMoMUnUYauzBzVOrdnHjISnStEq4oxXcf8IJo//Q22VH/CCaP/ANDZZV7P1qHZ/ceR9Wq9vyOHoruP+EE0b/obLKj/AIQTRv8AobLKl9ah2f3B9Wq9vyOHoruP+EE0b/obLKj/AIQTRv8AobLKj61Ds/uD6tV7fkcPXQWHjC+0/wAL3WhxKhhuM/OT8yA9QK2P+EE0b/obLKj/AIQTR/8AobLKpliKUlaSf3FRo14O8V+RjXni++vPCdtoMiqIID9/PzMB0BrHsbt7C/guoT88Lhx+Brsf+EE0f/obLKj/AIQPR/8AobLKhV6STST+4bpV5NNrb0KWsa/bWnjeLxBobbjIBM8bDG1yPmWkt/H+pW/iq41sRxtJcR+W0RPyhe35Ve/4QPR/+hssqP8AhA9H/wChssqzVShazi302L5cTfRW+4wbLxNc2Vxqc/lpJJqUbJKWPQH0pkXiGePww+irGoiacTeZn5gRXQ/8IJo//Q2WVH/CCaP/ANDZZVftqP8AK/uJ9niP6sUP+E4eaNXv9Ls7u9RPLW5kB3Y6cjuazItfmi8P3mlCJPKu5RKzd1I7Cui/4QPR/wDobLKj/hBNH/6GyypKrQW0X9w3DEvf9DE0jxRLpunNp11aw39iz7xDN/C3qKuaZrNjfeLINR1OKGxt7RdyQwrwxA4FX/8AhA9G/wChssqP+EE0f/obLKlKpRd3Z3fkNQxCSTW3ochqV62papc3kn3p5C5/E1WruP8AhBNG/wChssqP+EE0b/obLKtFiaaVkn9xk8PWbu1+Rw9Fdx/wgmjf9DZZUf8ACCaN/wBDZZU/rUOz+4X1ar2/I4eiu4/4QTRv+hssqP8AhBNG/wChssqPrUOz+4Pq1Xt+Rw9Ifumu5/4QTRv+hssqQ+BNGwf+KssqPrUOz+4Pq1Xt+Rufs+/8irqn/X8f5V6Jr+jS61ZJDb6jcafLG4dZYDzn0I7ivIvAutXfgqPVNM0TTJ/EVv8Aat/2u0HyZI6V1n/Cydf/AOhI1L8hXzsneTZ9DHSKNKL4bWn9kalbXd/PcXOpSI9zdMAGYqQRgdO1bmpeG4NSvNJuJZXVtMmE0YH8RxjmuR/4WTr/AP0JGpfkKP8AhZOv/wDQkal+QqSjWvfAG7ULm40bWLvSorxt1zBBja57kehNW7rwHpNx4JfwzGrQ2rL/AKxfvhs53Z9c1z3/AAsnX/8AoSNS/IUf8LJ1/wD6EjUvyFAGtqnw10rVfDOl6LLJLHFpro0cifebackH69666KJYYUijGERQoA7CvO/+Fk6//wBCRqX5Cj/hZOv/APQkal+QoA0Zvh0Gk1CK21i6ttP1F2kntYwOWbrhutdTpGmx6Po9rp8DM8dtGI1ZupArhf8AhZOv/wDQkal+Qo/4WTr/AP0JGpfkKAN+HwZ9j8XXOtWWpTwx3mDc2oAKSEDAPtVvSfCtppXh2fRld5bedpC5bg/OST/OuV/4WTr/AP0JGpfkKP8AhZOv/wDQkal+QoAuJ8M1NjbWF1rd3NZWcqyW0G0AJtOQDjrV3VPAguNYl1TRdUudJurhQtwYACJcdyD396xv+Fk6/wD9CRqX5Cj/AIWTr/8A0JGpfkKANu+8Cx3KWU9vqd1b6lZxmNb4EF3U9Q2eorW0DRJNGt5RcajcahNM255Zz+gA6CuO/wCFk6//ANCRqX5Cj/hZOv8A/Qkal+QoA6nxJ4Vt/EDW84uJrK+tSTBdQH5kz1HuKg0PwbFpV9PqN9ezalqU0flm5n6qn91R2Fc7/wALJ1//AKEjUvyFH/Cydf8A+hI1L8hQB2PhzQIfDelmytpXlQytJufrljmqfivwmviUWcsV7LY3djL5kE8QyVPfiua/4WTr/wD0JGpfkKP+Fk6//wBCRqX5CgDrLXw1HB4ij1ma6kmultBasWAAYA53fWqj+BdNnh1iK5eSVNVnE7jp5bAcFa57/hZOv/8AQkal+Qo/4WTr/wD0JGpfkKAN/SfCN3YahDc3niC+vktxiKGTAX8cda3dUsE1TSrmxlYolzE0bMvUAjFcH/wsnX/+hI1L8hR/wsnX/wDoSNS/IUAdDf8Agm0vvCNpoZuJYxZ7TBcLw6MvRqqWHgBbfXI9X1DVrq/vVgaAvKBgqfQdqyf+Fk6//wBCRqX5Cj/hZOv/APQkal+QoA6KLwXaxeCpfDYuJTBIGBkx8w3HNQan4Egu3srnTr+fTtQs4RAt1DjLoB0Yd6xP+Fk6/wD9CRqX5Cj/AIWTr/8A0JGpfkKANu98DDUfDK6XfardzTpMJ0vGI3q46ED09qsR+Et9/pN7qF/Ld3OmqwEjKB5hYY5rnP8AhZOv/wDQkal+Qo/4WTr/AP0JGpfkKANG6+HWLm4/sfWbvTbO7cvcWkR+VieuPTNaQ8E6dFJoxtS8EekEmGNejZHOa5z/AIWTr/8A0JGpfkKP+Fk6/wD9CRqX5CgDsE8PQR+LJNeErmeS3EBj/hABzmmeJvDFl4nsEt7tnikhcSwzxHDxOOhBrkv+Fk6//wBCRqX5Cj/hZOv/APQkal+QoA1T4Be80u8s9b1y81D7SqqrPgeXjkED1p1t4Cb+1LDUNT1m6vriwJ8ncAqgEYxgVkf8LJ1//oSNS/IUf8LJ1/8A6EjUvyFAGz/wr2x/sU6d9qm8s3323dgZ3bt2PpXWbAY9h6FcV51/wsnX/wDoSNS/IUf8LJ1//oSNS/IUAatl8PlsrDUtNXVbh9OvgwW3YD90WOSQa0dQ8IWuoeH9P0mSaRYrF43Rx1bZ0zXM/wDCydf/AOhI1L8hR/wsnX/+hI1L8hQBr3PgItql/c2Gr3VnDqJzdQRgYc4xkHqOKS6+HttN4VsNHgvp7d9Pk823uVwXVs/rWT/wsnX/APoSNS/IUf8ACydf/wChI1L8hQB32n28trYRQXNy11Ki4aZxgufWudHgDTG0rULC4eSRL26N1v6NE+cgqfasP/hZOv8A/Qkal+Qo/wCFk6//ANCRqX5CgDotH8K3enX6XN9rt5qAiUrHFJhVA9wOprPm+HYS7uf7L1m80+yvGLz2kONpJ64PbNZv/Cydf/6EjUvyFH/Cydf/AOhI1L8hQB1nhTw1b+EtBj0u0leWGNmZWfryc1U1bwgb/wAUW2u2Woz2NzEgikEYBWVM5wa57/hZOv8A/Qkal+Qo/wCFk6//ANCRqX5CgDZ1LwJ52qXF/o2r3eky3ePtQgwVlPrg9D71teH/AA/Z+G9LFlYBiu4vJI5y0jHqxPqa4z/hZOv/APQkal+Qo/4WTr//AEJGpfkKAOj8QeEjrGtWerWepT6feWqlA8QBDoTypBq3pnhyDTNd1HVEmd5tQCeYGHA2jHFcj/wsnX/+hI1L8hR/wsnX/wDoSNS/IUAbZ+H2nnQX04zzZ+1NdxXA4eKQnORVvQ/DV1pl813f61d6lLs2KsmFVR9B3rmf+Fk6/wD9CRqX5Cj/AIWTr/8A0JGpfkKAOz8Q+H7LxLpD6fqKt5bEMrqcMjDowPqKyNN8Fzweemra5eapBLCYBDNgKFP06n3rD/4WTr//AEJGpfkKP+Fk6/8A9CRqX5CgCdfhXE1pb2d1rl9PZ2cqyWsDYxHtOQPeun03w5BpniDUdVild5b8IHQ9F2jHFcj/AMLJ1/8A6EjUvyFH/Cydf/6EjUvyFAHXaL4ct9FuNSlileX+0JzNIrjhSRjArFX4fNayvFpeuXtjp8khka0ixgEnJCnqAay/+Fk6/wD9CRqX5Cj/AIWTr/8A0JGpfkKAOuHhu3XxNBrXnSGaC2NsFPII9T71WTwdZC41ySSSRxrQxMp/hG3bxXNf8LJ1/wD6EjUvyFH/AAsnX/8AoSNS/IUAdX4V8PTeG9L+wyalNfRIcQ+aADGo6LxRdeGLe78SHWXmkEv2VrXYOm0965T/AIWTr/8A0JGpfkKP+Fk6/wD9CRqX5CgDdtvAlnbWuiwrcykaTM0sRIHzk56/nV268KWd54nbWbhmkZ7M2jQkfKVJya5X/hZOv/8AQkal+Qo/4WTr/wD0JGpfkKANW08ASWMiQWuv30Wmxvujs1xhec7d3XHtXYgYUD0rzn/hZOv/APQkal+Qo/4WTr//AEJGpfkKAPRqWvOP+Fk6/wD9CRqX5Cj/AIWTr/8A0JGpfkKAPR6K84/4WTr/AP0JGpfkKP8AhZOv/wDQkal+QoA9HpK85/4WTr//AEJGpfkKP+Fk6/8A9CRqX5CgD0aivOf+Fk6//wBCRqX5Cj/hZOv/APQkal+QoA9Gpa84/wCFk6//ANCRqX5Cj/hZOv8A/Qkal+QoA9Horzj/AIWTr/8A0JGpfkKP+Fk6/wD9CRqX5CgD0eivOP8AhZOv/wDQkal+Qo/4WTr/AP0JGpfkKAPR6K84/wCFk6//ANCRqX5Cj/hZOv8A/Qkal+QoA9Gpfwrzj/hZOv8A/Qkal+Qo/wCFk6//ANCRqX5CgD0ekrzn/hZOv/8AQkal+Qo/4WTr/wD0JGpfkKAPR6K84/4WTr//AEJGpfkKP+Fk6/8A9CRqX5CgD0ekrzn/AIWTr/8A0JGpfkKP+Fk6/wD9CRqX5CgD0alrzj/hZOv/APQkal+Qo/4WTr//AEJGpfkKAPR6SvOf+Fk6/wD9CRqX5Cj/AIWTr/8A0JGpfkKAPR6K84/4WTr/AP0JGpfkKP8AhZOv/wDQkal+QoA9Horzj/hZOv8A/Qkal+Qo/wCFk6//ANCRqX5CgD0evPvAf/I/+M/+vtP/AEGof+Fk6/8A9CRqX5CoPhZey6j4p8V3dzavaSzXCM0En3ozjoaAPTqKKKACiiigCrqf/IJu/wDri/8AI18f+EP+QCf+u8n/AKFX2Bqf/IJu/wDri/8AI18f+Dv+QCf+u8n8678v/jHDjv4PzN3ijiikr6A8LUXijj0pKKA1F4o4pKKA1F4owKSloDUOKK7O28I6ND4asNZ1rVZLaO6BzGiZbIOOKyvE/hxdCktprS4+1WN4m+CbGCfUGueNeMpcprKlUjHmZjW1rNeTiG1iaWUgkKgyajK7WIIwQcGuv8JuNN8L69rKD/SIohBE390t1NLZeFNHHhmz1rW9Vlto7lmBRE3MTntSlX5ZNP0KVGTS5TjuKkt7aa7mWG1iaWVuiIMk11svgeL/AISDS4La9M+nannybgDBGOox61bs/D2n6f4vtNP0jWpmvxI6yuicRgDtUvEwtoNUKl9ThGQo5R1KspwQeoNJxXYWHhayvrDUdV1jUpII7W7aORtuSwz1+tWJPCmk6X4g0mSW/kl0y+AeGTZyTn7pFP6zHYPYVN+hxltaT3kpjtYmlcKWKoMnA71FXoviF9M8O/EOCfSJnE/nqk9sEwiqeMCuU8Y2Mem+MNRtoV2xiXcoHYHnH606dZza03VxVKTgnrsYvFJxS0V0mGonFHFLRQGonFHFLRQGonFBA2mlo7GkPU9U/Z+/5FbVP+v4/wAq9Zryb9n7/kV9U/6/j/Ku08b+KZfCWiw3sFmbx5blIBEDgncccV8nP42fUR+FHS0VwkfjTXNK1ayi8WaRDZ2eoSiG3ngl37HP3Vce9Lp3jPW9a8W3ml6bo8Rs9PuvJurqSXGF/wBkdzUlHZ2t7bXqu1nPHMqMUYo2cMOoqevNU8XweHvC97qGk6PGpOrG2MEbY8xi2N31NaNp4w1+PxCNH1rSLe2nvIHlsTHMWDFedrelAHc0V5v8M9W8S6hqWrrq0UTWsd7IrSeaWaNhj5FHpV34ranrumeHY5NESMIZUEkpkKsvzDAH1oA6y/1my028tLW8mEct4+yFcfeNX68q8ZXurx3HhC6v7CM6l9sYLbwyZVjt45rodI8Z6gmq6hp3iuwisZ7S2+1q8Mm9Xj/xoA7SivND8ULyK2XVp7KzGkO4wFuQZwhOA23+ld/c3b/2PJeWCLO/kmSJScB+MgUAXKK4UfEdJPA9nq8FsGv7qdbUWe7pLuwV/CpvEvirWtGmPk2unCJIhI32i62tIcZIUUAdPeavZ2N/aWdzKEnvGKwr/eI61drzTUdZj8Q634H1aFDGtxJI2w9vl5FdHpPi19S0DVtRa2CHT5pYwmfvbO9AHUUVwdz8Q5P7I0g2VtAdR1SHzlSeXZHGoPJJq94T8aNreqXekahFBFqFqokP2eXzI5EPcGgDrqK5zxX4pbQWs7Owtftmp37lLaDdgHHJJPYCsuy8Xa4moS6NrmlwWuqywNLZ+XKWimwORnsaAN2z8V6VqGvTaTZTNNcwZ80qp2qfTPTNbVeZ/CF9Ve31Q39nbxxNeyM0qPlt+eR9K7LxPql/pVgkumxWruzYZ7qby0QeuaANqiuW8GeLpPEbX1rdxQx3di4Vzbyb43B6EGptQ8TSab41sNHurdVtb+NvKuN3/LQfw4oA6OiuStfFt7qTa4+nWMUkGnSeTDJJJtErj72T2Aqhovj66uNdfSdVhszM1u08UllN5inb1U+hoA7mSVIYmklYIiDLMxwAKbbXMN3bpPayrLE4yrocg1wOieMdX8T6Xd3l3ocMWirDMru8uWlZcjAHocVctdcuLTwHpl3oGn2dvHKn3J5vLjhGfXvQB1mp6la6Rp8l7fyiKCPG5j2qxFIs0KSRnKuAyn1BryvXvF7eIvh3r8F5DEl3YMgk+zPvRwTkFTWhF418Q6Nptlf6zoMcOiusaGWOXMsYOAGZfSgDuYtYs5tYm0uOUG7hQSPH6Kehq9XnMWqWum/EvX9WuHxbRaZFKWA/h60xfibeQLBqN/aWSaXPIqgJchpkVjgMV/pQB6TRSI4kRXU5VhkGloAKKKKACiiigAooooAKKKKACiiigAooooAKKKKACiiigAooooAKKKKACiiigAooooAKKKKACiiigAooooAKKKKACiiigAooooAKKKKACiiigAooooAKKKKACiiigAooooAKKKKACiiigAooooAKKKKACiiigAooooAKKKKACiiigAooooAK8+8B/wDI/wDjP/r8T/0GvQa8+8B/8j/4z/6/E/8AQaAPQaKKKACiiigCrqf/ACCbv/ri/wDI18f+Dv8AkAn/AK+JP519gan/AMgm7/64v/I18u/DnwVreteE/tmn2yyQtcygMXA6NXbgpxp1byZxY2LlStFXEorrP+Fa+Jv+fJf+/go/4Vp4m/58V/7+CvZ+tUf5jxlRq/ys5Oius/4Vp4m/58V/7+Cj/hWnib/nxX/v4KPrVHuP2NX+VnJ0V1n/AArTxN/z4r/38FH/AArTxN/z4r/38FH1qj3D2NX+VnJ0h6V1v/CtPE3/AD4r/wB/BR/wrTxN/wA+S/8AfwUfWqP8wexq/wArN65OiH4c+Ho/EC3AjYOUkg6qcmuX8VeILbVhZWWlwtFp9hHsiD/ebPUmtSfwP4yurGCyng329tnykMq4XNVf+Fa+Jv8AnyX/AL+iuanLDwfM5anTU9rJWjEPCEsV7pOsaFPIsbXkO+FmOBvXnFbbnRl+G+iQ+Ikn8tpJNkkB5QgmsQfDbxQDlbMA+olFWZvA3jG40+Gxmg3W9uSY0Mq4XPWipKjOV+YKftIxs4Me3jPT4te0YWUEkelaVnYG5dyeprJ0rXrWy8etrMiubczO+0fewc4q1/wrTxN/z4r/AN/BR/wrXxN/z5L/AN/RVKWFSsmQ3iG78pDL4htX8J6ppoR/Ou7wzoewXPel1TxJb3Ol+HoLdH8zTP8AWbuh5zxUv/CtfE3/AD5L/wB/BR/wrXxN/wA+S/8Af0U1Uwy6h/tH8ppXEmieK/GlpfWUk0UruJbsT4CIqjPFct4n1NdY8TX18n3JJTs91HArYHw28UL92zCn1EopP+Fa+J/+fJf+/opU6lCDupBNVZK3KcnRXWf8K08Tf8+S/wDfwUf8K08Tf8+S/wDfwVv9ao/zGPsKv8rOTorrP+FaeJv+fJf+/go/4Vp4m/58l/7+Cj61R/mD2FX+VnJ0V1n/AArTxN/z5L/38FH/AArTxN/z5L/38FH1qj/MHsKv8rOToPQ11n/CtPE3/Pkv/fwUh+GvifBxYr/39FH1qj/MHsav8rOp/Z+/5FfVP+v4/wAq2/i4ksvhzTo7aQRTtqcAjcjIVs8GuQ+GviLTfh5Z6po/iqY2l79r8zYqFxtI9RXR638QPAevwW8N7qMu23nS4TbEw+ZTx2r5ubvJs+jj8KLcvhzxP4m1OwXxQ1lBYafOtwotiS07r93Oegra8K+HrrRL/XJ7p42XULwzx7TyBjHNZv8Awt/wd/0EX/78t/hR/wALf8Hf9BJ/+/Lf4VJRSbwHqTaC9l5sPmNrAvgcnGzdnH1re1Tw7dXvjjRdXjeMQWKSrIp6ncMDFZ3/AAt/wd/0EX/78t/hR/wt/wAHf9BF/wDvy3+FAD/C+g674f8AEupxsLaXSL24a6WUMfMVj/DitPxvoNz4i8Lz2NjIkdwWWSMyfd3KcgGsn/hb/g3/AKCL/wDflv8ACj/hb/g7/oIv/wB+W/woAJtA17Wrjw7fasttBcadcGSdImJBXbgYq5qXhObU/F11fTSILK501rNlB+bJPWqX/C3/AAb/ANBF/wDvy3+FL/wt/wAHf9BF/wDvy3+FAGFp/wAPNVsvJ05tM0OW2hYD7a8ZMjID3X1r1GOJIoVjRQqKoUKBwBXF/wDC3/B3/QRf/vy3+FJ/wt/wd/0EX/78t/hQBTsPhzcWvxHk1V54zoqytdwWvdZ2GCf61DqPgjWX8TardR2+nX8Oof6ue8yzWwxjaB6Vp/8AC3/B3/QRf/vy3+FH/C3/AAb/ANBF/wDvy3+FAFfTfA2o2cPhaOWaFv7IZzOV/iz0xVV/CfiywXWdK0eWy/s7UpJJVnlJ3xl+ox3rR/4W94N/6CL/APflv8KP+Fv+Df8AoIv/AN+W/wAKAM29+HN5/ZOhSwJZ3l/pdt9nkhugTFKp/ka3vBvhy50qa4u9QsNNs5ZQFSOyTG1fc96p/wDC3vBv/QRf/vy3+FH/AAt/wb/0EX/78t/hQBf8X+GbvVbzT9W0WWOLU9NctEJR8kgIwVNU9K8Pa5qXieHXvFRtopLSJo7W3tiSBu6sSab/AMLf8Hf9BF/+/Lf4Uf8AC3/B3/QRf/vy3+FAGn4L0C68P2F7DeOjNPeSTrsPRWPFZ/jnwxqWtalpt9p6W95HZlt9ldEiN89G+opn/C3/AAd/0EX/AO/Lf4Uf8Lf8Hf8AQRf/AL8t/hQBN4M8LX+havql7fLaRrfbCkNquFjwOlWPH/hi68TaCiaVMtvqVrKJrWZuiuKof8Lf8G/9BF/+/Lf4Uv8Awt/wd/0EX/78t/hQBBdeBL7/AIVvBolpcR/bVkE05YkJcPnLA+xqrpngjVh4kttVntNN06KK2khNvag5yw6k960f+Fv+Dv8AoIv/AN+W/wAKT/hb3g3/AKCL/wDflv8ACgC9oHhq70vwBJok7xtcMkqhlPy/MTj+dc9feBdYXS/D6wraXx02Jo5rS4Y+XISeG+orT/4W94N/6CL/APflv8KP+Fv+Df8AoIv/AN+W/wAKAMgfDvV5NH8QwM1lbzaoI/KS3BCRFfarN34a8Y61psGgavNYJpqbBNcRZ8yVVxxjt0q//wALf8Hf9BF/+/Lf4Un/AAt/wb/0EX/78t/hQA658CNe61q5nkVbC+09LRAp+ZdvesTSfAGqWs1tZ3Wk6G1tbsN135ZMkij29a2v+Fv+Dv8AoIv/AN+W/wAKP+Fv+Df+gi//AH5b/CgDtlUKoVRgAYA9KWuI/wCFv+Dv+gi//flv8KP+Fv8Ag7/oIv8A9+W/woA7eiuI/wCFv+Dv+gi//flv8KP+Fv8Ag7/oIv8A9+W/woA7eiuI/wCFv+Dv+gi//flv8KP+Fv8Ag7/oIv8A9+W/woA7eiuI/wCFv+Dv+gi//flv8KP+Fv8Ag7/oIv8A9+W/woA7eiuI/wCFv+Dv+gi//flv8KP+Fv8Ag7/oIv8A9+W/woA7eiuI/wCFv+Dv+gi//flv8KP+Fv8Ag7/oIv8A9+W/woA7eiuI/wCFv+Dv+gi//flv8KP+Fv8Ag7/oIv8A9+W/woA7eiuI/wCFv+Dv+gi//flv8KP+Fv8Ag7/oIv8A9+W/woA7eiuI/wCFv+Dv+gi//flv8KP+Fv8Ag7/oIv8A9+W/woA7eiuI/wCFv+Dv+gi//flv8KP+Fv8Ag7/oIv8A9+W/woA7eiuI/wCFv+Dv+gi//flv8KP+Fv8Ag7/oIv8A9+W/woA7eiuI/wCFv+Dv+gi//flv8KP+Fv8Ag7/oIv8A9+W/woA7eiuI/wCFv+Dv+gi//flv8KP+Fv8Ag7/oIv8A9+W/woA7eiuI/wCFv+Dv+gi//flv8KP+Fv8Ag7/oIv8A9+W/woA7eiuI/wCFv+Dv+gi//flv8KP+Fv8Ag7/oIv8A9+W/woA7eiuI/wCFv+Dv+gi//flv8KP+Fv8Ag7/oIv8A9+W/woA7eiuI/wCFv+Dv+gi//flv8KP+Fv8Ag7/oIv8A9+W/woA7eiuI/wCFv+Dv+gi//flv8KP+Fv8Ag7/oIv8A9+W/woA7eiuI/wCFv+Dv+gi//flv8KP+Fv8Ag7/oIv8A9+W/woA7eiuI/wCFv+Dv+gi//flv8KP+Fv8Ag7/oIv8A9+W/woA7eiuI/wCFv+Dv+gi//flv8KP+Fv8Ag7/oIv8A9+W/woA7eiuI/wCFv+Dv+gi//flv8KP+Fv8Ag7/oIv8A9+W/woA7eiuI/wCFv+Dv+gi//flv8KP+Fv8Ag7/oIv8A9+W/woA7eiuI/wCFv+Dv+gi//flv8KP+Fv8Ag7/oIv8A9+W/woA7eiuI/wCFv+Dv+gi//flv8KP+Fv8Ag7/oIv8A9+W/woA7eiuI/wCFv+Dv+gi//flv8KP+Fv8Ag7/oIv8A9+W/woA7eiuI/wCFv+Dv+gi//flv8KP+Fv8Ag7/oIv8A9+W/woA7eiuI/wCFv+Dv+gi//flv8KP+Fv8Ag7/oIv8A9+W/woA7eiuI/wCFv+Dv+gi//flv8KP+Fv8Ag7/oIv8A9+W/woA7eiuI/wCFv+Dv+gi//flv8KP+Fv8Ag7/oIv8A9+W/woA7eiuI/wCFv+Dv+gi//flv8KP+Fv8Ag7/oIv8A9+W/woA7eiuI/wCFv+Dv+gi//flv8KP+Fv8Ag7/oIv8A9+W/woA7eiuI/wCFv+Dv+gi//flv8KP+Fv8Ag7/oIv8A9+W/woA7eiuI/wCFv+Dv+gi//flv8KP+Fv8Ag7/oIv8A9+W/woA7evPvAf8AyP8A4z/6/E/9Bq1/wt7wcT/yEX/78t/hWX8MdRt9W8XeLL6ycvbz3KPGxGMjFAHpdFFFABRRRQBV1P8A5BN3/wBcX/ka+SPBOo3tt4dMdvdzRILiTCo5A+9X1vqf/IJu/wDri/8AI18f+D/+QC3/AF8Sf+hV35ek62pxY5tUro6n+2NT/wCf+4/7+Gj+2NT/AOf+4/7+GqdGa97lj2PF9pPuXP7Y1P8A5/7j/v4aP7Y1P/n/ALj/AL+GqeaM0csewe0n3Zc/tjU/+f8AuP8Av4aP7Y1P/n/uP+/hqnmjNHLHsHtJ92XP7Y1P/n/uP+/ho/tjU/8An/uP+/hqnmjNHLHsHtJ92XP7Y1P/AJ/7j/v4aP7Y1P8A5/7j/v4abpum3WrX8dnYRGSaQ4AH866GX4daygkaOS1mWJC8hjlzsx2PvWU6lKDsy17WSurmB/bGpf8AP/cf9/DR/bGp/wDP/cf9/DVaCJp7iOJPvOwUfia67xTpon12w8OaLaq0ttCquyjl3IySTRKUYySsKPtGm7nNf2xqf/P/AHH/AH8NH9san/z/ANx/38NdBL8OdYTeY5LWYRIWl8uXOzA6GsSfRLu20W21STb9nuJDGmDzkUo1aUtgfto73I/7Y1L/AJ/7j/v4aT+2NS/6CFx/38NdDpPh/UtK8RxW5tLW7mmtDMscxyoUjOfrV7S/Ag1Pwpeag81ul0z5h/e4VBnkN6VEq1OL8jSMK0lo2ch/bGpf8/8Ac/8Afw0f2xqX/P8A3H/fw10VzZQX3w/aVIo1vNJufKleMf6xD0PvXI1rTkp302M5upF/EXP7Y1L/AJ/7n/v4aP7Y1L/n/uf+/hqnRWvLHsRzz7suf2xqX/P/AHP/AH8NH9sal/z/ANz/AN/DVOijlj2Dnn3Zc/tjUv8An/uf+/ho/tjUv+f+5/7+GqdFHLHsHPPuy5/bGpf8/wDc/wDfw0HWNT2n/T7j/v4ap0H7ppOMew/aT7s9P+B1pBqvh7VZ9ThS7m+2keZMoZsY9TXpkmjaNGAZLG0QE4BaNRzXnH7P3/Ir6r/1/H+VdH8UGZdD04oxX/iZwZwcfxV8pP4mfSw+FHTf2DpP/QOtf+/Qo/sHSf8AoHW3/foVm6t4ysNJvRZCG5vblVDyR2se8xr6t6VMfFumN4fXWLYy3Nux2hIoyz7v7u3sakouf2DpP/QOtv8Av0KP7B0n/oHW3/foVjQ+P9Lks76WeK6tprGPzZ7aaPbIE/vAdxV698WaXZaVY37yl4r90S3CDJct0oAt/wBg6T/0Drb/AL9Cj+wdJ/6B1t/36FZGoePdLsb6W2jiurs25xcPbRF1h+prfsr+31HT472ykEsEq7kYdxQBX/sHSf8AoHW3/foUxNG0aTPl2No+Dg7Y1ODXJaR8RX1Dx5qGjSWV0II9qxHyTlT3LegrF8LeNrDw3/bsV8l1cFdUlMjQxlxEuepPYUAelf2DpP8A0Drb/v0KP7B0n/oHW3/foVS1Dxfpen6ba3nmPcC8ANtFAu55c+gqTQvE9jr5mit1lguYMebbTptdM9Dj0oAs/wBg6T/0Drb/AL9CmtoujLIqNY2gZvuqY1yaj8QeJdO8M2K3Opyld7bI40Xc8jegHeuHl8UW2v8AxK8OC2S5tpI1l8yC4QowGOD70Ad9/YOlf9A62/79CmnRdGEgjNjaByMhfLXJFY118Q9ItbuWMRXU0EDbJrqKEtFGfc1z3iHxHZab8UNH1B5XltptOcxLCCxkJPGAKAO8/sHSf+gdbf8AfoUf2DpP/QOtv+/QrM0bxxpWsxXXlia3ntEMk1tPGUkVcZzjuKml8XaZD4Xj152cWUgBU7eeTgcUAXf7B0n/AKB1t/36FH9g6T/0Drb/AL9CsvXPHOlaHdQ2jrPdXcyeYLe2jLsF9T6UaT470TWFvmtp2jWwQNcmVCvl+xzQBqf2DpP/AEDrb/v0KP7B0n/oHW3/AH6Fcu/xX0CKJpp472K3yBFO8BCS84+U1sat4y07SpobcJcXd3NGJFt7aPe4X1PpQBof2DpP/QOtv+/Qo/sHSf8AoHW3/foVlTePtDg8OtrUk0gto5RFIChDxsTjBFXvD/iK28SWclzZQ3EUSOUUzxlN/uAe1AE/9g6T/wBA62/79Cj+wdJ/6B1t/wB+hWhRQBn/ANg6T/0Drb/v0KP7B0n/AKB1r/36FaFFAGf/AGDpP/QOtv8Av0KP7B0n/oHW3/foVoUUAZ/9g6T/ANA62/79Cj+wdJ/6B1t/36FaFFAGf/YOk/8AQOtv+/Qo/sHSf+gdbf8AfoVoUUAZ/wDYOk/9A62/79Cj+wdJ/wCgdbf9+hWhRQBn/wBg6T/0Drb/AL9Cj+wdJ/6B1t/36FaFFAGf/YOk/wDQOtv+/Qo/sHSf+gdbf9+hWhRQBn/2DpP/AEDrX/v0KP7B0n/oHWv/AH6FaFFAGf8A2DpP/QOtf+/Qo/sHSf8AoHWv/foVoUUAZ/8AYOk/9A61/wC/Qo/sHSf+gda/9+hWhRQBn/2DpP8A0DrX/v0KP7B0n/oHWv8A36FaFFAGf/YOk/8AQOtf+/Qo/sHSf+gda/8AfoVoUUAZ/wDYOk/9A61/79Cj+wdJ/wCgda/9+hWhRQBn/wBg6T/0DrX/AL9Cj+wdJ/6B1r/36FaFFAGf/YOk/wDQOtf+/Qo/sHSf+gda/wDfoVoUUAZ/9g6T/wBA61/79Cj+wdJ/6B1r/wB+hWhRQBn/ANg6T/0DrX/v0KP7B0n/AKB1r/36FaFFAGf/AGDpP/QOtf8Av0KP7B0n/oHWv/foVoUUAZ/9g6T/ANA61/79Cj+wdJ/6B1r/AN+hWhRQBn/2DpP/AEDrX/v0KP7B0n/oHWv/AH6FaFFAGf8A2DpP/QOtf+/Qo/sHSf8AoHWv/foVoUUAZ/8AYOk/9A61/wC/Qo/sHSf+gda/9+hWhRQBn/2DpP8A0DrX/v0KP7B0n/oHWv8A36FaFFAGf/YOk/8AQOtf+/Qo/sHSf+gda/8AfoVoUUAZ/wDYOk/9A61/79Cj+wdJ/wCgda/9+hWhRQBn/wBg6T/0DrX/AL9Cj+wdJ/6B1r/36FaFFAGf/YOk/wDQOtf+/Qo/sHSf+gda/wDfoVoUUAZ/9g6T/wBA61/79Cj+wdJ/6B1r/wB+hWhRQBn/ANg6T/0DrX/v0KP7B0n/AKB1r/36FaFFAGf/AGDpP/QOtf8Av0KP7B0n/oHWv/foVoUUAZ/9g6T/ANA61/79Cj+wdJ/6B1r/AN+hWhRQBn/2DpP/AEDrX/v0KP7B0n/oHWv/AH6FaFFAGf8A2DpP/QOtf+/Qo/sHSf8AoHWv/foVoUUAZ/8AYOk/9A61/wC/Qo/sHSf+gda/9+hWhRQBn/2DpP8A0DrX/v0KP7B0n/oHWv8A36FaFFAGf/YOk/8AQOtf+/Qo/sHSf+gda/8AfoVoUUAZ/wDYOk/9A61/79Cj+wdJ/wCgda/9+hWhRQBn/wBg6T/0Drb/AL9CuL+H0UcHjvxjHCioi3aBVUYA+WvRK8+8B/8AJQPGf/X2n/oNAHoNFFFABRRRQBV1P/kE3f8A1xf+Rr4/8H/8gFv+viT/ANCr7A1P/kE3f/XF/wCRr5D8F21xL4fLRQSOv2iTlUJH3q78BJRrXZw47WibNFT/AGG7/wCfWb/v2aPsN3/z6zf9+zXue0h3PDsyCip/sN3/AM+s3/fs0fYbv/n1m/79mj2kO4WZBRU/2G7/AOfWb/v2aPsN3/z6zf8Afs0e0h3CzIKKn+w3f/PrN/37NH2G7/59Zv8Av2aPaQ7hZm/4C1e10jxGHv28uKaNojLj/VkjrXXeF9Ct9Hn1aSPW4b95rSQrFCxPy/3mrzL7Dd/8+s3/AH7Naeh6jqOgTXEsFhJKZ4WhIZDwD3rkrQhO7jLU66NblspIzLKYW99BOekcqsfwNeiTX1voXxOXU7wkWWpW4ZJwM7dy4z+Brzr7Fd/8+s//AH7NWrhtUu7a3t7mK5kjtwViVkPyj0rSahNr3ltZmdOo4X063PRvDGg2+k3+qTRa5DfNNayFIomySOuWrGsI9P8AEXgK30+TU4bGexuWdhMcblJ6j1rndC1HUdAupp7ewkkM0LQkOh4BrK+xXe4n7LPz/sGsfZRu7z+Zs665VZHqEmr6WvxAtJor6F7aPSzF5u7jO3GPrWD4Xe21Dw5rukyX8NpPcSh4mmbCsAa437Fd/wDPrN/37NL9iux/y6z/APfs1SpUkrKRDxEm78p1cFv/AGN8ONUNwwJvrpYoSOjhOrD2rjRWhcPqt1awW06XLw24IiQocLmqv2K7/wCfWb/v2a2puME7y3MqkuZqy0RDRU32K7/59Zv+/Zo+xXf/AD6zf9+zWvtYdzOzIaKm+xXf/PrN/wB+zR9iu/8An1m/79mj2sO4WZDRU32K7/59Zv8Av2aPsV3/AM+s3/fs0e1h3CzIaD901N9iu/8An1m/79mg2V3tP+iz/wDfs0e1h3CzPTv2fv8AkV9U/wCv4/yrqviNZXN9o1hHZwPO66jC7BBnChuTXI/AaaOz8N6rHdyLBJ9uJ2ynaenoa9U/tCy/5+4P+/gr5afxM+nh8KPKNY0e90Lxrql7df2w1pqJWSGXTRu5AxtYfyqy2m6n4f8ABFr/AGTBqdvb3d6Zr8ZD3KRt1I9zXp39oWR63cH/AH8FH9oWX/P3B/38FSUeZeENFM/jy+nFjqA0y507ylm1AlmkOeRz0+lQ+D/C+s/8JfHpmsW7jSvDzyPZyt92Yv8Ad/75zXqf9oWX/P3B/wB/BR/aFl/z9wf9/BQB442j3/h7VNXtL+PXXF3cvNbtp3McobsfQ/WvT/BmjpofhSzso45ogq7jHO+5kJ5wTWp/aFl/z9wf9/BR/aFn/wA/cH/fwUAcNFPc6H8WtQa4066lt9UhjSCeKPcikddx7UnhfR7m38PeKkns3SS5vLhkVl5kBBwR613X9oWX/P3B/wB/BR/aFl/z9wf9/BQB5BdeG9VtdJ8Las8OoCOxtWguYrP/AF0W4/eArp/AOjxtr17rnlasrvEIVl1FsGRc54Xtiu4/tCy/5+4P+/go/tCy/wCfuD/v4KAOO+IGnX6a1ofiGysm1CLS5WM1qnLFWGNwHcislry+8VfEPRb+20O7s7GCGaNrm4j2tlhjp2Fej/2hZf8AP3B/38FH9oWQ6XcH/fwUAeKwaHeaTa3Wg6jDr8sryuEWz/1M6seue3vmtq+0298M+LPDd3ZaLdX1jp2mtFIB87x59+5Feof2hZf8/cH/AH8FH9oWX/P3B/38FAHn1hbX3i7xhd67Fp02nWaae9pH9pXY87MDzj0Fc5d3esXHw5j8KR+H7/7daukc0hj+TaH+8D3r2T+0LIf8vcH/AH8FH9oWX/P1B/38FAHn8yX3hDxvdazJpVxqVnqFrHHvt13PAyjoR6GsK00+98VX3jiCO0+wXF3HEUhY88DIDY9a7bXfD6arqv8AaGneKbjTZSmxkimUoR9D3qTTPDWj6Zot5YrqjSXF9k3F404812PfPagDhPGXiC7vfh22kyeHbi1ltxGk0kygJHggZU9/wqbW9FvtL8Xf2zKNUawvbOJBLpvLRsoHDDrg10MHgi2kmgGteKbjU7O3cOltNMu0kdN2OtdsL+xChRdQADoPMFAHlFz4YnbwRPJaWGoNLfanDNJHdndIyhh8xA6cV69CgSFFUBQFAwB0qH+0LL/n7g/7+Cl/tCy/5+4P+/goAsUZqt/aNl/z9wf9/BR/aFl/z9wf9/BQBZzRVb+0LL/n7g/7+Cj+0bL/AJ+4P+/goAs0VW/tGy/5+4P+/go/tGy/5+4P+/goAs0VW/tGy/5+4P8Av4KP7Rsv+fuD/v4KALNFVv7Rsv8An7g/7+Cj+0bL/n7g/wC/goAs0VW/tGy/5+4P+/go/tGy/wCfuD/v4KALNFVv7Rsv+fuD/v4KP7Rsv+fuD/v4KALOaM1W/tCy/wCfuD/v4KP7Qsv+fuD/AL+CgCzRVb+0bL/n7g/7+Cj+0bL/AJ+4P+/goAs0Zqt/aNl/z9wf9/BR/aFl/wA/cH/fwUAWc0VW/tCy/wCfuD/v4KX+0bL/AJ+4P+/goAsUVX/tGy/5+4P+/go/tGy/5+4P+/goAsUVX/tGy/5+4P8Av4KP7Rsv+fuD/v4KALFFV/7Rsv8An7g/7+Cj+0bL/n7g/wC/goAsUVX/ALRsv+fuD/v4KP7Rsv8An7g/7+CgCxRVf+0bL/n7g/7+Cj+0bL/n7g/7+CgCxRVf+0bL/n7g/wC/go/tGy/5+4P+/goAsUVX/tGy/wCfuD/v4KP7Rsv+fuD/AL+CgCxRVf8AtGy/5+4P+/go/tGy/wCfuD/v4KALFFV/7Rsv+fuD/v4KP7Rsv+fuD/v4KALFFV/7Rsv+fuD/AL+Cj+0bL/n7g/7+CgCxRVf+0bL/AJ+4P+/go/tGy/5+4P8Av4KALFFV/wC0bL/n7g/7+Cj+0bL/AJ+4P+/goAsUVX/tGy/5+4P+/go/tGy/5+4P+/goAsUVX/tGy/5+4P8Av4KP7Rsv+fuD/v4KALFFV/7Rsv8An7g/7+Cj+0bL/n7g/wC/goAsUVW/tGy/5+4P+/go/tGy/wCfuD/v4KALNFVv7Rsv+fuD/v4KP7Rsv+fuD/v4KALNFVv7Rsv+fuD/AL+Cj+0bL/n7g/7+CgCzRmq39o2X/P3B/wB/BR/aNl/z9wf9/BQBZzRmq39o2X/P3B/38FH9o2X/AD9wf9/BQBZzRmq39oWX/P3B/wB/BR/aFl/z9wf9/BQBZzRmq39o2X/P3B/38FH9o2X/AD9wf9/BQBZzRmq39o2X/P3B/wB/BR/aNl/z9wf9/BQBZzRmq39o2X/P3B/38FH9o2X/AD9wf9/BQBZzRmq39o2X/P3B/wB/BR/aNl/z9wf9/BQBZoqt/aFn/wA/cH/fwUf2hZ/8/cH/AH8FAFmjNVv7Qsv+fuD/AL+Cj+0bL/n7g/7+CgCzmvPvAf8AyUDxn/19p/6DXcf2hZf8/cH/AH8FcL4AdZPHvjJo2DKbtMEHIPy0Aeh0UUUAFFFFAFXU/wDkE3f/AFxf+Rr5f+HHjXWNE8IizsXhES3MpAaME8t619Qan/yCbv8A64v/ACNfH/g//kAn/r4k/wDQq7sDGM6tpK5x4ycoUrxPS/8AhZniH/nrb/8AfkUv/CzPEX/PS3/78iuQor2/YUv5UeP9Yq/zHXf8LM8Q/wDPS3/78ij/AIWZ4h/56W//AH5FZfg+zgv/ABbp9tdxiSGWTDoe4p+vaBfW2q38tvp862Mc7qjhDtCg1jKNCM+RxRp7Wvy8ykaP/CzPEP8Az1t/+/Io/wCFmeIv+elv/wB+RXI13On+HNMtL7w1aXqGW81CTzZ0J+URnoMU6kaNNaxQQqV5vSRU/wCFmeIv+elv/wB+RS/8LM8Rf89Lf/vyKzvEPh+9ttY1CS206ZbGKZlVwh2gZrLttNvb2MPaWssyltgKLkZ9KUY4eUeayFKrXi7XOk/4WZ4h/wCelv8A9+RR/wALM8Q/89Lf/vyK5yHSdRubiSC2sp5ZYjh0RCSp96iNncrdfZWt5BcZx5W35s/Sr9nQfRE+3rdzqP8AhZniH/npb/8AfkUf8LM8Q/8APS3/AO/IrnbjSr/T3iOoWU1ursADImAa6HxroaW+vWdro1mxMlmjmOIZySOTUNULpcq1LVSvyt32F/4WZ4h/56W//fkUv/CzPEX/AD0t/wDvyKp/2Jaz+C5r6BXTULGfbdRsf4T0OKo+GLKDUvE1laXa74ZZMMoPUU1Gi4t8q0D2le6XNubP/CzPEX/PS3/78ij/AIWZ4h/56W//AH5FSaNpmnap8RJLRLIRWNv5m6IsTnYDzWTPb2B0m6mW0uRcPdlLd1H7rbnp9aj9ze3IinKulfmNL/hZniH/AJ6W/wD35FH/AAszxD/z0t/+/IrAOh6sIpJTp1yI4/vsYzhar2ljd38nl2NtLcN3Ea5xWihh2rpIy9tW7s6j/hZniL/npb/9+RSf8LM8Q/8APS3/AO/IrmX0+9jvPsj2sq3J6RFfmP4VJNo+pW1r9puLGeODOPMZCBRyYfsg9tW7nR/8LM8Rf89Lf/vyKP8AhZniL/npb/8AfkVzdnpWoairGws5rgL1MaEgVWkikgkaOaNo3U4ZWGCKap0G+VJXD29ZK9zrP+FmeIf+elv/AN+RS/8ACzPEX/PS3/78iqmqabaQeBdIvoogtxcSOJH/ALwB4rm6IU6U1flQ5Vq0XZyOv/4WZ4i/56W//fkUn/CzPEWDiW3/AO/IrkaO1V7Cl/KhLEVf5jv/AIc+HLD4i2uqaz4lWSS7F2Y8wuY1wB6Cuz/4U/4U/wCeN1/4ENWD+z9/yKuq/wDX+38q9Sury2sbdri9njghX7zyMAB+NfMz+Jn0MdYo4v8A4U/4U/543X/gQ1H/AAp7wp/zxuv/AAJauws9UsdQtjc2N3DPAvWSNwQPxqK113Sr2R47TULaZ4wS6pICQKko5T/hT3hT/njdf+BDUf8ACnvCn/PG6/8AAhq19E8caRrmtX2m21zF5trII1/eA+dkZyvriuhmnit4WlnkWONRlnY4AoA4f/hT3hT/AJ43X/gQ1H/CnvCn/PG6/wDAhq62w1rTdUZl06+guWT7wjcEisP4hard6R4dhuLCYwyG7iRmH90sAaAM7/hT3hT/AJ43X/gQ1H/CnvCn/PG6/wDAhq6y013Sr66a1s9Qtp50+9HHKCw/Ckm13Sre5FvPqFvHMXEYjaQBix7Y9aAOU/4U94U/543X/gQ1H/CnvCn/ADxuv/Ahq6y413SrS8Frc6hbRTt0jeQBvyqS+1Sw0yJZdQu4bZGOFaRwM0Acf/wp7wp/zxuv/AhqP+FPeFP+eN1/4ENVvx14ge38F/2joN6rFp4lWWJgwILAGulj1C2DxW8lxGLl4w/llhuIxycUAcf/AMKe8Kf88br/AMCWo/4U94U/543X/gQ1dRJ4l0SKREl1W0VpDhAZhzV24vLa0tjcXU8cMIGTI7AL+dAHFf8ACnvCn/PG6/8AAhqP+FPeFP8Anjdf+BDV1trq1lqlnLLpN7BcBQfmjcMFPvVHRtUki0WGXxBf2RnkdlEkL4jbngDPfFAGD/wp7wp/zxuv/AlqT/hT3hT/AJ43X/gQ1dTF4h0meznubfUbaWGAfvHSUEL9apeFfGGm+LLJp7CVBIrsrQ7wWABxnHoaAMP/AIU94U/543X/AIEtR/wp7wp/zxuv/Ahq7O8v7XT4POvriO3j/vyMFFULvxPpNtoc+qrewS20KklkkGCR2z60Ac3/AMKe8Kf88br/AMCGo/4U94U/543X/gQ1dJ4b8SWPibSIr6wlQ71DPGGBaP2NXL/VLHS0D6jdw2yt0Mrhc0Acf/wp7wp/zxuv/AhqP+FO+FP+eN1/4ENXa2t5b31us9nPHPE3R42yDTL7UrLS4PO1G6ito84DSuFBoA43/hTvhT/njdf+BDUf8Kd8Kf8APG6/8CGrqH1i1vLGY6Tf2sk/kmSM7wVHoTjtTNF1FpbG1h1K8tZdQki3sIG+Vxnqo9KAOa/4U74U/wCeN1/4ENR/wp3wp/zxuv8AwIau0F9amaWEXEfmQrukXcMoPU+lV7LW9L1GZ4rC/t7iRPvLHICRQByf/CnfCn/PG6/8CGo/4U74U/543X/gQ1dTP4j0a2cJcapaxsW2ANKAd3pWirB1DKQQRkEd6AOF/wCFO+FP+eN1/wCBDUf8Kd8Kf88br/wIamWWtazcT+KUtr2COSzu0S3a6OI0XHIrrX1qxsbdP7Uv7aGURK8m6QAc9x7UAcr/AMKd8Kf88br/AMCGo/4U74U/543X/gQ1dnb6haXdmLu2uYpbfGfNRwV/OobLW9M1GZorC/t7iRfvLHICRQByX/CnfCn/ADxuv/AhqP8AhT3hT/njdf8AgQ1dvPcRWsLS3EixRr1dzgCqltrulXl4bS11G2muAMmJJAWx9KAOT/4U94U/543X/gQ1H/CnvCn/ADxuv/Alq7WO8t5vN8qZH8k7ZNpzsPoagfWdNjt0nkvoFikzscyABsdcGgDkf+FO+FP+eN1/4ENR/wAKd8Kf88br/wACGrpx4m0Q2f2sarafZ923zPNG3PpWF4316ay0/R7rSrtRFcahEjyIwKsh680AVf8AhT3hT/njdf8AgQ1H/CnvCn/PG6/8CGrrLLXNL1Gd4LDULe4lT7yRyBiPwpbzW9M0+4WC+v7eCVuiSSAE0Acl/wAKe8Kf88br/wACGo/4U94U/wCeN1/4ENXY3Op2NmiPdXcMKuCVZ3ADD2qS0vLe/tUuLKZJ4XGVkjbIP40AcV/wp7wp/wA8br/wJaj/AIU94U/543X/AIENXWXuu6VptwsF/qNtbyv91JJACfwqafUbO1jSS5uYokk+4zuAG+lAHG/8Ke8Kf88br/wIaj/hT3hT/nhdf+BDV2dnf2moWoubG4juIDnEkbZU4681wUOu/wBv/E+5so/EAgs9PRGjt4XGJ3P3gfXFAFr/AIU94U/543P/AIEtR/wp7wp/zxuv/Alq7Jb+0ezN2tzGbdc5lDDaMdeaiuNb0y0XN1f28Q2eZl5APl9fpQByX/CnvCn/ADxuv/AhqP8AhT3hT/njdf8AgS1dla6hZ31oLqzuYp4Dz5iMCv51SHijQ2WYx6raOYVJkAmHy0Ac1/wp7wp/zxuv/AlqP+FPeFP+eN1/4EtWhpnjO18TeHLy60S5t4buNXCrO4IQqcBm9q17TUhaeH7e71y8tUbywZZlfEZPsfSgDmP+FPeFP+eN1/4ENR/wp7wp/wA8br/wIauwtNVsL+1a5sryGeBfvSRuCBUCeIdHkuo7aPU7VppRlIxKMt9BQBy3/CnvCn/PG6/8CGo/4U94U/543X/gQ1d3UN1d29jbtPeTRwQr955GwB+NAHFf8Ke8Kf8APG6/8CGo/wCFPeFP+eN1/wCBLVu6r4x0bTfDtxrC3sFxBCpx5cgO8/3R71a0bxBYa3o8eo2lxGYmQO+HB8vjOD6UAcx/wp7wp/zxuv8AwIaj/hT3hT/njdf+BLV1lhrml6pI8enahb3Lp95YpAxFMufEWj2TEXep2sJD7CHlAIb0oA5b/hT3hT/njdf+BDUf8Ke8Kf8APG6/8CWruIpo54llhdZI3GVZTkEVBf6pY6ZGr6jdw2yscKZXC5oA47/hT3hT/njdf+BDUf8ACnvCn/PG6/8AAhq686tp62SXZvIfszkBZd42knpzUrXtst0lsZ4/PkXcke75mHrigDi/+FPeFP8Anjc/+BLUf8Ke8Kf88br/AMCGrq313So777HJqFstznHlGQbs+mKmvtTsdLhEuo3cNtGTgNK4UH86AOO/4U94U/543X/gQ1H/AAp7wp/zxuv/AAIauvh1fTriOF4L2CRJ22xMrghz6ClvNVsrBZDd3UURjjMjB3AwvrQBx/8Awp7wp/zxuf8AwJaj/hT3hT/njdf+BLVe03xnb+J/C93e6Dc28F5Gr7UuHBEZBwGbHatq21JbPQLa71y9tY2MamWZXAjZsdQT2oA5f/hT3hT/AJ43X/gS1H/CnvCn/PG5/wDAlq7C11Swv7RrqyvIZ4FzukjcED8agj8Q6PLdpax6navcSDKRiUbm+goA5b/hTvhT/njc/wDgQ1H/AAp3wp/zxuv/AAIau2ubmGztnnuZFiiQZZ3OAK42Lx5Z+IfBOrX+jTrFdW8Uu1N4LjbkBselAEf/AAp3wp/zxuv/AAIaj/hTvhT/AJ43X/gQ1a/hbxLZ32i6ZDd6lbvqU1urPGZBvY454rXv9Y07Syg1G9gti/3RK4XNAHI/8Ke8Kf8APG6/8CGpP+FPeFP+eN1/4EN/jXZS6nYw20dxLdwpDIcJIXG1voaiXXdKewa9TULc2qsVMwkG0Eds0Acl/wAKe8Kf88br/wACGpf+FO+FP+eN1/4ENXY2Wo2epQ+dp9zFcx5wWiYMM1Q1y51C3vNOFhc2kMLzEXC3BwXXHRPegDnf+FO+FP8Anjdf+BDUf8Kd8Kf88br/AMCGqtputnxH8Tr6CPXtlrp+wQWsLjE5xlifWvQycAknAHc0AcL/AMKd8Kf88bn/AMCGo/4U74U/543X/gQ1dVba/pF5em0tdStZrhesSSgt+VE2v6Rb3y2U+pW0dyxwImlAYn6UAcr/AMKd8Kf88br/AMCGo/4U74U/543X/gQ1djdanZWJUXl1DBuBZfMcDIHU0WOp2Wp25n067huYQcF4nDAGgDjv+FO+FP8Anjdf+BDUn/CnvCn/ADxuv/Ahq0/E/i7TrTw3qradqdu97bwMVSOUFlboOPrUWnanqVumlSahqFmtounLLeiVsSlyPvewzQBS/wCFO+FP+eN1/wCBDUf8Kd8Kf88br/wIatPQ/G1h4l0W+utMnhimt/MULLIONvAc+imr+majLZ+G7e78SX1mspXMk8bYiOemCaAOd/4U74U/543X/gQ1H/CnfCn/ADxuv/Ahq7C01Wwv7RrqyvIZ4FzukjcFR+NQJ4h0eW7jtY9TtWnk+5GJRub6CgDlv+FP+FP+eN1/4ENR/wAKf8Kf88br/wACGru6KAOE/wCFPeFD/wAsbr/wIaj/AIU74U/543X/AIENXd0UAcJ/wp7woP8Aljdf+BDVn/DDTrfSfFniyxswwgt7lEQM2TjHrXpdee+Av+SgeNP+vxP/AEGgD0KiiigAooooAq6n/wAgm7/64v8AyNfH/g//AJAJ/wCviT/0KvsDU/8AkE3f/XF/5Gvj/wAH/wDIBP8A18Sf+hV6GX/xjhx/8E3aSlor3zwjofAf/I8aX/11/pXoFvF4nHj27m1F86Fl95ZgYjHzgD3ryGKWSCRZIXZHXoynBFWG1W/eAwteTmJjkpvODXJWoOpLmT8jro1lCNmMvjCdUuDbcQ+cxT/d3cfpXoN2pb4o+G7gcwzQQmI9sAc15titi68R3V1o1jYsqq1ixMM68OoPbNVUpOVrehFOpFXv6npMcXigfEC5lvXJ0PLlyzDyvL+nrWHb6m+lfDzWLjRJPKB1MrE4HKqT2rhTqmoNbtC15OYmPzIZDg1AJ5hbmASMISclM8E+uKyjhH1fb8DaWJXQ9O0Jo77wHDJB9unvGuGa6Ni4WUt2Le1R3tmNb8e2UC+fpt1bWe6RyymWXHTnpurzi2vbqyYmzuZYCepjYjNJ9suRc/aBcSCf/npuO786PqrUnJMX1iLik0enaxDu+Hd/50F8jR3CFPt7hn69R6Vs6lJHMs1no7LDrz6fGYpH6smOQvoa8bn1G9udwuLuaQP97c5Oab9tuvtCz/aZfNQYV9xyB6ZqfqemrL+tRvsdR4eimtfDHimS/VgfLWJt/UyZ/nWZ4J/5HXTf+uv9KiuPEVzceHk0kqqp5plkkH3pT71V0bUjpGtW1+sYlMD7thOM1uqcuWV92YOceaNuh2fhVfI1/wAUageBbwzYPuTU8FoW8N+D9PIG66vPPYe26uM1bVxfahcXFjC1lHccyRI5IY981SF7dAxkXEmYf9X833Pp6Vn9XctW/wCrF+3jHSx6nZa7e3nxA1uJrgnT7WCQeT/DwKqeHILd/AMLWMN5JPPcMbhtPYLIpzwCT2rzZLueN5HSZ1aQEOQ33vrTrW/urLP2O5lg3dfLYjNKWEutH2KWJV9Uep21xFd/EKwR7eSOXS7N2ladgzNxwSR3rHs9cvdT8IeKrnUJzNDnbEjdFJPauCW7uUmeVJ5BI4IZgxyR9aatxKsLQrI4jc5ZAeCaf1Rd+xP1ldj0u8steGk6HF4MytiYVaWWBgMv33Guc+I91bXPidRasjyRQKlw8fRpAOa52DU762gaG3u5ooj1RXIBqsxLHJJJPUmqp4fknzN7E1K6lDlS/ryOu1n/AJJpoH/XWT+dcga6DUtXtbnwXpWmxMTcWruZBjgZPFc+a1opxTv3M6zTkrdhKXtRR2rV7GS3PVP2fv8AkVtV/wCv9v5V0fxQs7O+8OW8d9qcWnbbpHjacExyMP4XHoa5z9n7/kVtV/6/2/lXqN3ZW1/AYb2COeM/wSKGFfJz+Nn08PhR4xcaveX3w/16z0WxtIHs7iMT3Gmg+TcISNxHfgdcVa0uFNR13RBYahokckbbgljG2+RMfMre31r1y10+zsbY29naxQwnqiIAD+FR2mjabYTNNZ2MEEjdXjjAJqSzgPB8Og6f8SPEdnLFa2999pRrRCoDbSvO2um8f6ymieFJp5bNLtZHWIpLnyxk4y2OwrbfSrCTUEvntITdIMLMUG4fjU9xbw3UDQ3MSyxOMMjjINAHknh2cD4qaWIbrTpfMs5A406IqgHYMehNdB8ZPL/4QJvP3eV9qi3hOu3cM4rsrXSNPsdps7KGEr90ogGKsT20N1H5dzEkqZztdcjNAHkniOXwzLLoK+CPJOr/AGyMp9kBDiP+Pf7Y65rT8LaHY6h4+8VX13bJcXcFwogMgz5Z29R6HNegW2jabZ3TXNpY28Mz/ekSMAn8asR20MMkkkUSI8hy7KMFj70AeDWcjPp+r2+t3OjQXrXMomN9GxuBk/KQf5Yrpb7U3sodA0K++wSzfY/NGpakhKYHAAH97HrXpdxoumXV2Lm5sLeWdekjxgmn3mlWOoKi3tpDOI/ueYgO36UAeGiSSTwR4mit54pAmqReS0SFYgSR91ewzXVeBGSy1jVrPxKGPiaRC6zy8rLDt48v0A7ivSRpliImjFpCEYgsoQYJHSku7CCYGb7PG1wkbLG5UbhkdAaAPGPCc/gmPwFfrr5t/t/mTb/PB8w8nGz/AOtUqfao9F8Fv4u87+xgz/aPNzgf88vM9setdz4H8Jw2vhi2j13TITeRSyMDIgYqC2RzXXT2tvdW5guYY5YSMFHUEflQB5paPpcvxGDeDPLNiNPl+3m2H7rdtOz2zWNDZxaj4Y8HWt2peKTV3DrnqOeK9fstMsdOhMVhaQ28bdVjQKDT10+0VY1W2iAibcgCj5T6igDz1dIsLP4sTWFpaRRWl1pLNNbqvyOwbgkU/wCELaPHo9xbWwt01OK5mWZFGJAu84z7Yr0L7NCbj7R5Sedt278fNj0zUNvpVja3kl3b2kMVxL/rJEQAt9TQByfxD1mOxk0zT5LazY3kp23F8CYYSB1PvXG6DFFfXnjC0drS9h+yrIFtoisO/aeVB7+4r2C90+01GLyr62juI85CyKDzRb6fZ2gItrWKIEbTsQDI9KAOR+Fc2jy+C7NdKNv9oSIC5EQwwb/a96q+OdajXxNZaS8GnRMYWmF5qKlkX/ZUdzXbWel2WntI1jaxW5lO5/LQDcfei90ux1HZ9utIbjYcr5iA4oA4T4RSl4ddjWaOWJL87PKUrHyP4QegqHxWbCL4pWMvi3H9j/ZGFsZhmETZ53ds4r0a3tLe0DC2gji3ddi4zXNeLbHxDc3UD6PBp99ZhSJbS8TqezA0AcNYPo7+PfEb+GwBZnRycxgiMt32+1PuQ2i+CfC/i+AMTpibbnaMloGJ3V13hPwre2mp3er68tslxcxCCO0tkxHDGO3ua6xrO2a0Nq0EZtyNvlFRtx6YoA8evYdRu/hvqviW3VvO1a6WZzg5FsDwMDnGOtO0yJdQ8SaI2manosMsLh9mnRsHkjxyre31r2FLeJLcQLGgiA2iMD5QPTFV7TR9OsJmlsrGCCRurRxgE0AeXeH/AA7pepeHPGF3fWiTzG7uNryDJTA4x6V3Xw9lkm8A6S8zs7+QASxyTit6O0t4o3SOGNFkJLqFwGJ65p8MMdvEsUKLGijAVRgCgDyDUiRpfjvsft0dacGk2Wq/FO3GowLcJFokRVJBlcn1FejtYWjLKGt4iJjmQFR859/WnLawLP5ywoJNuzeF5x6fSgDxa+iu7Lwn4qs9HVktbbV1BiQHakWAWGBzirelRpqHijQ303UtFhkhbfs06Ng8keOVb2+tevLaW6ebsgjHnHMmFHzn39agtNH02wlaWysYIJG6tHGATQBz3xRG74c6muSMoo4/3hXNaxolho3/AAht1pdslvcG4jRpYxhnBXkE969PmgiuITFPGskbdVYZBpr2sEnl74UbyjlMr90+1AHmeleItN0G48Y2erXS29y108scT53OpXgr61gaZaQato/gCC8QvBJPKzI38XU4Nex3Gjabd3a3VzYwSzqMCR4wWH41Kun2iCLZbRL5JJjwg+T6elAHnWneF9Gb4razatYRG1Wzjdbcr+7DHgkL0zXKap5Mfw6t4Lvf9ht9f8vYuSVjDdBXui28K3DTrEglcbWcLyR6ZqM6dZNH5bWsJTfv2lBjd6/WgDy3WJfDcvibw2PA3knUftQMv2MEYhx82/Hb61jRzzJrXiCHXZtIiuTcv/yE0YyeV/Dt9selez2mj6dp87zWVjBBI/3njjAJoutH02+nWa8soJ5V+68kYJFAHlL6It2/gbTdYnGoQtLK25QVV1xlRg84r1y0s7ewtEtrGFIIYxhI0GAtKbW3Z4mMMZaH/Vnb9z6elTUAeQ6RL4biu/ES+PPJGqfapD/pY5MX8Oz2+lZi2M+oeGPCtprAmNrNqz+SkpIYw5OwH2xXsd5o2m6hMs17YwTyJ91pIwSKsPaW8vl74Y28o5jyo+U+3pQAyx0600yzW0sLeO3t1+7HGuAK4LRNH09PiZ4mMFjCskUEZjKoAVYg5I+tejVEtvCk7zJEqyyABnA5b60AeMW3ifTbH4N6ppVxc7dSR5ojakHzNxfjitTTtLtNV+IekJqMKzxxaHGwjflSfcd69JbQ9Le6e5fT7YzSD5pDGMmrK2dukwlSGNZFXYGC8hfT6UAePXsFxY6B4zsdFSSO2hv4yYYM/JEfv7RXUaMnw/v4ra20mOwmuntiFjRcsRjnd/8AXruVtYEaQpCimU/vCF+99fWq9rommWNw09nYW8ErdXSMAmgDyrwu2jxfDDX7e3FumpRJdLKijEgXJxn2pGMSXHg1/EvOgfYMHzMmITYGN/8A9evVk0bTY55po7GBZJxiVhGMuPf1qWbT7S4tBaz20UluBgRMgKj8KAPLYWs5PFmuP4RK/wBjjSnFyYBiLzscY7Zx6VnXeg6dZfBTTdStrZFv43hlW5H+sDGTnmvYrXTbOytjb2lrFDC3VEQAGnGytWtRbNbxmAYxHtG0Y9qAKttrNmb2DTGnBvmtxN5Xfb61zvxPs7O+8Mwx32px6cFuUeN5lJjdh0Vh6Gtuz8NWtp4ovNc3vJc3MaxAN0jQdhWld2VtfwmG9gjnjPVZFBFAHkVrdWmt+BvE+ntpOnlrKPcLiwQmKVsfeXPcVJqkthL8J9OPh8o1oksH9qCzHzeX/FnHP1r1a102ysbY29nawwwt1REABptrpVhYwyRWdnDDHISXREADH3oA8y1GXw9N4i8OjwH5JvxODN9jGAIcfNv/APr1U8PzeEo/Fni3/hKvs4m+3ts+1DKlMfw5716vZaPpunSO9hZQW7v95o4wpNcr4Z8Kr9v159d06KVJ9Raa3MqBsqe4oAh+EvnHw7esolGnG9kNgJM58nPGM9vSuc8VzXcHxXm/tJ7CO1a0X7G2pKTF1+bbjjdXrscaQxLHCioijAVRgAVBe6bZalGEv7WK4VTkCRA2KAPLdNXTbPwLr0ur3dte6dd3BFvBZowVZDwFjz71H4GXUNM1a9tPFRkbX57InTpJDkGEL8qKf7w4zXq39mWIhjhFpCIom3ImwYU+oFSSWlvNPHNLBG8sX3HK8r9DQB4HZN9p8Jy2l9eaNa37yMkrzxubtJd3B9c11F0lpZ+PtOj8dzLNYrparbSzg+S0o+8T23H3r0x9E0yS9+1yWFu1xnPmmMbvzqW906z1KEQ39rFcRjkLIgYCgDy/xDeaBZXHhfUtBaKPRoNUfzpYQfLRipGT7Zq2upab4n+K11HaMl9arpJRzjKMck4969C/sjTv7P8AsX2KD7L/AM8fLG38qW00uxscfY7SGAqNo8tAOPSgDyfw0dGj+E+uwWgt01KOK4E6KMSKMnGfahmto73wg/irP9h/2aoUygmIT7R978Oma9WTRtNjmnljsYFkuBiVhGMuPf1qSfT7O5tBa3FtFJbgYEbICo/CgDy+N9Pk8ReIH8J7f7GGkOLgwAiIz4OMds4xnFUbvQtOsPg/o+pWtsqX8ckEguQP3mS/PPWvXbbTrKztTbWlrFDCwwY0QAH8Ke1lbNbC3a3jMK4xGVG0Y9qAGzW8V5p5iuY1ljeP5kcZDcV5H4POkQ/DjxHbW6wR6pELpZUVcSKm44z7V7KOOBVJNH06O4muEsoFlnXbK4QZceh9aAPKNU0LTtL+F/hzUrK2WK+Se2b7So/eHcRnmmalcTx/EPWRq8ulx7lQ2x1RGKmPb/B269a9geytpLdYHgjaJMbUKjAx04qK90qw1Lb9vs4bjZ93zEDYoA8avNMEvgvRbW4u47yyutcBj8gMqLGScqM84rZ8e2SaJrvh+C0hsrTRl8zK3CHyBKehYDv6Zr1A2FoYo4zbxeXEcxrsGEPtTrq0t72Ew3cMc8R6pIuRQB514At2fxnqV7a6jp8luYESa309GEYfs3PGcelafj4Z8Q+El6g6gwI9fkrr7OwtNOi8qxtordP7sahc1JLbwzvG0sSO0Z3IWGdp9RQBwfhHSbCD4leJ2hs4Y2hePyyqY25XnH1q78V7q9tPANy1i0qBpEW4kizuSIt8xGPauvS3ijmeWOJVkk++wGC31p0kaSxtHKqujDBVhkEUAefQN4P/ALMkPg5bOfWLaxeS3aAZcHb1J9c+tcrbz+E5vhcEk8u88SXUOCpBNybk/qMGvYbLRtO012ewsYLdn+8Y4wCabHommRXxvI7C3S5Y5MojG7P1oA89tdJ/tfx9olhryee+l6KrzI/IMjHHPr0rFvFl03Q/Hc/h9HtrYXscO23BHlqMeYVH0NezC2hFw1wIk85lCmTHzEemaRLS3RJESGNVlJaQBR8xPUn1oA8X8ZN4Ik8Jabp/hsW8t7cXMCRyW4JcDcMlz/jXSIkN14x8UPLCs0Gn6XHb+Wy5BITdjH1ruYNA0m1ObfTraM7t3yxAc+tW1tYEeV0hQNN/rCF+/wDX1oA8cs5dItfgJezaT9nN9Lb+VM0Q+cM78K351euPsFr440uw8XOsOkW+lJ9kSc4hkl43Z7EivTIdE023hkigsLdI5W3yKIxhj6mpb3TLLUoljv7WG4RTlRIgbFAHkktxbQR+M9W8OL5OhmxEEZjUiOSc/KWQfj1qbX/DGnaT4U8HwWVqkeoSX9qBcAfvCc5bmvVhYWi2X2QW0Qt8Y8oINv5U+S1glMZlhR/KbdHuXO0+o9KAJhwBRRRQACiiigArz3wF/wAlA8af9fif+g16FXnvgL/koHjT/r8T/wBBoA9CooooAKKKKAKup/8AIJu/+uL/AMjXx/4P/wCQC3/XxJ/6FX2Bqf8AyCbv/ri/8jXx/wCD/wDkAt/18Sf+hV6GX/xjhx/8E6G2ge6uoreEZklYIo9Sa2/EfhyDw8I4W1KO4vc4mgQf6rjPWrfw5+yP4yto7u0FwWOY2Jx5RHO736Vt3CaR4i1DxLqb6cIxZQPzvJ3yZwGr0qtaUatuiPMhRUqfMtzzrNGa6y20O0b4fwXzwZvLu/WGN887OM11H9keFl8Yv4bXSC7tDl5/MPyNtzwKcsUlsrkxw82eVmpIIJbqZYbaNpZH+6qDJNdZpulaTpWg3OvazbtfRG6a3tbcNgNg4yxrb8Eajod34ueew0b7N5Vu0gYyE+WQOcfWiWJdm4rYccO20m7XOD0vRrrVr6S0g8tJYkZn81toGOv41Rb5WIPUHFdxZJpWvN4g1ZdPFtFbWxZVEhOZCT81MNnofhPStPbWNObU7y/jExBfasanoB6ml9Ya3WvYfsG9vvOJozmvSE8H6SPHVvEYidOmsjdtAx5j46VTuLPw9qvgnVL7TtNNlJYShEl3kmTJ701ik2rIX1aeupymh6NNr2qpYW8iRuyltz9ABVa/tVsr6S3SdJxGceZH91vpXQfDs/8AFXR/9cJP/Qa5qUH7RL/vt/OtlJ+1ab0M3FKmpdRlFTWdq97fQW0fDzOEGfUnFdlq58M+GbqTRZtIa9uI48S3TSEHfjsPSipV5GopXYQpuSvsjh+lJXcvZ6H4T06wbVtNbU7y/QS4L7ViQ9APU1fj8H6SvjmKNo2OmyWRvGgY8xjHSsXiop7aGn1eZ5vS13k9noGr+C9RvdN002ctlMI45C5Jkye9LcWXh/wsbHTNT0ttSvbqNXml3ldm7sopfWtNtQ+ryvq1YxJ/B91G2lRRTxNNqURlVWO0IPc1jy6fcxyXCiMyC2YiV05Vfxr1DVtOstS8eRWU8Zaz07S9wTJGOOKoaJqWlWHw31C7k0lZEecQyKXP77ng59qyjiJqKe//AATWWHje17HCR6NcyaDJqwaIW8biMgv8xPsKzs1258PWt94Z0n7NF5Fzql6wU7idiemPar9taeFW8Sf8IuukSSyAmJr0yHdvA649K0+s2v1Mvq7draHnVaWhaK2vagLOK6ht5GHyeb/EfSun0/RdG0rQtZv9Xtjei0vPIgAbbux2q++naXB4j8LajpVr9j+2tueDdkDHenLE3TUV8xxw73kct/wic/8AZd9erdwN9gcpNCM7hg4zWAeld7a/8gnxr/10/wDZ64FvumtaMpS5rkVIKNrHqv7P3/Irar/1/t/KvR9a1y10G1invVlZJZlhXykLHLdM47V5x+z9/wAirqv/AF/n+Vdf4+1W60jSbKWycI8l/DE2VBypbnrXzU/jZ9FD4UdSOQD60teU+JfE2uWXjSaDUNVuND0+Mx/ZZVtfMhmB+9vbtXpkivd6WRa3Wx5Y/knQA4JH3hUlGFo/iy41vxJeWVjprHT7OQwyXrOBmQdgK6evHPCiavofhbxZqSau8rW9xMAjRjmQfx//AFq6jX/Eeo2XgrQb+3n2XF5NbJK2B8wfG6gDbt/FlvNq2tWckTRrpKB5JD/ECM8VnaX49Nzpa6pqWmTWllczLHZso8xpQ3RiB90Vy97a3N5rHjpbO9azdYY2Z1UNuUJyvPrS6Xdap4e+F+gypqBuPtM8KqHjH7tCeVH+NAHYXfjaG0m11GtXb+x4xI+D/rM+lb+nXg1DTLa8VSqzxLIFPbIzXl+rjN78Qf8Ar2T+VP1Txfc2J0PQba7msI202O4luLe3M0hG0YUDt9aAPVqyfE2vJ4b0V9RliaVVdU2r7nFefWfxD1XT9A1yS4Se9FiENpd3FuYfN3nGCPY1W8Z6b4otfBSXuqa8t/HcSwma3aIKqZYH5CKAPXYpPNhSQcB1DfnT6htP+PKD/rmv8qmoAKKKKACiiigAooooAKKKKACiiigAooooAKKKKACiiigAooooAKKKKACiiigAooooAKKKKACiiigAooooAKKKKACiiigApKWigAooooAKKKKACiiigAooooASloooAKKKKACiiigAooooAKKKKACiiigAooooAKKKKACiiigAooooAKKKKACiiigBKWiigAooooAKKKKACiiigAooooAKKKKACiiigAooooAKKKKACvPfAX/JQPGn/X4n/oNehV574C/5KB40/wCvxP8A0GgD0KiiigAooooAq6n/AMgm7/64v/I18f8Ag/8A5AJ/6+JP/Qq+wNT/AOQTd/8AXF/5Gvmf4Z6H4bvvBwm1bXjZXJuZQYgmcDdxXbgp8lW9rnHjIOdKyJ9A1t/D+rLfwwpLIqMqh+2RjNXfD3iuXQpr3daxXkF8D50UvQ81s/8ACMeDP+hrb/v1S/8ACMeDP+hrb/v1XqSqwle8Hr5M8yNOtG1mtPNGdfeOZ71dOjFhbww6fP50cUYIU+gqCDxhcw+KbrXfs8bT3KMmwk4TIxxWx/wjHgz/AKGtv+/VH/CMeDP+hrb/AL9UlOklZQf3Mpxrt3uvvRkaH4ufS7CWwvLGDUbKSQyeTOOFY85FLp3jB9N8ST6pBYW6xzx+U9qowm2tb/hGPBn/AENbf9+qP+EY8Gf9DW3/AH6o56bbfI9fJiUa+m2nmjFk8UkWGq2dnYQ2sOoldyoT+7A7Crtl47eHTbe21DS7TUXtV22804+ZB2HvV3/hGPBn/Q1t/wB+qT/hGPBn/Q1t/wB+qTlSas4P7mNRrp3uvvRkQeM7+PU7+/nVJ57yAwZbgRqfSqkGvyweF7jRUhTyriYSvJn5uO1dF/wjHgz/AKGtv+/VL/wjHgz/AKGtv+/VV7Wn/I/uFyV31X3ox/A15bWPiiKW8mWGHy3Uu3QZGKna60zSvDmrWaSx3V9czgJIq8BM5yDWh/wjHgz/AKGtv+/VH/CMeDP+hrb/AL9VMqkZS5nF/cONOoo8tl96OJhle3mjmibbJGwZT6EV1GpeOBqtjIl3o9m97JH5bXhB3Eev1q//AMIx4M/6Gtv+/VJ/wjHgz/oa2/79VUqsJtNwenkyI060U0rfeinZeO5ItNt7bUdKtNRktV2280w+ZB2+tU7fxlfxanqF9MqTz3sBgJbgRqfStj/hGPBn/Q1t/wB+qP8AhGPBn/Q1t/36qeakm37N6+TLca76r70c5D4gmg8MT6NHEojmmErS/wAWR2rbT4hStb2xu9Ks7q8tlCx3cq5YAVY/4RjwZ/0Nbf8Afql/4RjwZ/0Nbf8AfqnKdOW8H9zBRrrZr70ZreOLt9W1LUDbx+bfweQRk/u1xjiodJ8V/wBneHJ9GudPgvLeRi6mTOVb1rX/AOEY8Gf9DW3/AH6o/wCEY8Gf9DW3/fqjnp2tyP7mCjXve6+9GDP4pu5bfSooUWA6YSYmT+Inua17n4hzSLJNa6VZ22oSrtkvEX5z7j3qf/hGPBn/AENbf9+qP+EY8Gf9DW3/AH6pOdJ2vTf3MOWuuq+9HOy+IJpfDI0Zo12GczPNn5mJ9a3dG11NX8Q6RLqM0FjBpUYVc5+cD+tS/wDCMeDP+hrb/v1QfDHgw/8AM1t/36olOm1bkf3BGNZO7t96FjvdPi0HxNIb+IyahKfJhH3iA2c1wp5Q13H/AAi/gz/oa2/79Up8MeDNv/I1t/36pwqxhe0Xr5CnSqTtt96Nz9n7/kVtV/6/j/KvQfEXh+HxHZQW9xK8QhuEnBTuVOcV5J4F1HVvDkeqWfgnTR4g077Vu+1l9nzY5GK6z/hMPH//AEJa/wDgQK8GWsme5HSKNPXvh/Prt5P5niC+jsLkjzrMbShA7DI4zXXWlrHZWcNrAu2KFAiD0AGK8+/4TDx//wBCWv8A4ECj/hMPH/8A0Ja/+BAqSjp9P8IWdlpeqWDyPNDqU0ksobtv6gVz0XwrBhs4L7xBf3dtYTLLawuRtj2nge9Q/wDCYeP/APoS1/8AAgUf8Jh4/wD+hLX/AMCBQB0y+Ebdb3WrgTybtXjEcg4+QBccVFN4KtZvDOm6M1xKItPdHRxjLbfWue/4TDx//wBCWv8A4ECj/hMPH/8A0Ja/+BAoA6G68FW11JrbtcSKdYjCSYx8gHpUWqeBYbyOwlsb+ewv7CEQx3UOMsgGMMD1FYf/AAmHj/8A6Etf/AgUf8Jh4/8A+hLX/wACBQB0Vp4MgGhXmm6zeXGqi9/10lwefwA6VhTfCx72zSy1LxJqV1ZwMrQQuRhNpyMnHNRf8Jh4/wD+hLX/AMCBR/wmHj//AKEtf/AgUAeixII4kQdFUKPwp1ecf8Jh4/8A+hLX/wACBR/wmHj/AP6Etf8AwIFAHo9Fecf8Jh4//wChLX/wIFH/AAmHj/8A6Etf/AgUAej0V5x/wmHj/wD6Etf/AAIFH/CYeP8A/oS1/wDAgUAej0V5x/wmHj//AKEtf/AgUf8ACYeP/wDoS1/8CBQB6PRXnH/CYeP/APoS1/8AAgUf8Jh4/wD+hLX/AMCBQB6PRXnH/CYeP/8AoS1/8CBR/wAJh4//AOhLX/wIFAHo9Fecf8Jh4/8A+hLX/wACBR/wmHj/AP6Etf8AwIFAHo9Fecf8Jh4//wChLX/wIFH/AAmHj/8A6Etf/AgUAej0V5x/wmHj/wD6Etf/AAIFH/CYeP8A/oS1/wDAgUAej0V5x/wmHj//AKEtf/AgUf8ACYeP/wDoS1/8CBQB6PRXnH/CYeP/APoS1/8AAgUf8Jh4/wD+hLX/AMCBQB6PRXnH/CYeP/8AoS1/8CBR/wAJh4//AOhLX/wIFAHo9Fecf8Jh4/8A+hLX/wACBR/wmHj/AP6Etf8AwIFAHo9Fecf8Jh4//wChLX/wIFH/AAmHj/8A6Etf/AgUAej0V5x/wmHj/wD6Etf/AAIFH/CYeP8A/oS1/wDAgUAej0V5x/wmHj//AKEtf/AgUf8ACYeP/wDoS1/8CBQB6PRXnH/CYeP/APoS1/8AAgUf8Jh4/wD+hLX/AMCBQB6PRXnH/CYeP/8AoS1/8CBR/wAJh4//AOhLX/wIFAHo9Fecf8Jh4/8A+hLX/wACBR/wmHj/AP6Etf8AwIFAHo9Fecf8Jh4//wChLX/wIFH/AAmHj/8A6Etf/AgUAej0V5x/wmHj/wD6Etf/AAIFH/CYeP8A/oS1/wDAgUAej0V5x/wmHj//AKEtf/AgUf8ACYeP/wDoS1/8CBQB6PRXnH/CYeP/APoS1/8AAgUf8Jh4/wD+hLX/AMCBQB6PRXnH/CYeP/8AoS1/8CBR/wAJh4//AOhLX/wIFAHo9Fecf8Jh4/8A+hLX/wACBR/wmHj/AP6Etf8AwIFAHo9Fecf8Jh4//wChLX/wIFH/AAmHj/8A6Etf/AgUAej0V5x/wmHj/wD6Etf/AAIFH/CYeP8A/oS1/wDAgUAej0V5x/wmHj//AKEtf/AgUf8ACYeP/wDoS1/8CBQB6PRXnH/CYeP/APoS1/8AAgUf8Jh4/wD+hLX/AMCBQB6PRXnH/CYeP/8AoS1/8CBR/wAJh4//AOhLX/wIFAHo9Fecf8Jh4/8A+hLX/wACBR/wmHj/AP6Etf8AwIFAHo9Fecf8Jh4//wChLX/wIFH/AAmHj/8A6Etf/AgUAej0V5x/wmHj/wD6Etf/AAIFH/CYeP8A/oS1/wDAgUAej0V5x/wmHj//AKEtf/AgUf8ACYeP/wDoS1/8CBQB6PRXnH/CYeP/APoS1/8AAgUf8Jh4/wD+hLX/AMCBQB6PRXnH/CYeP/8AoS1/8CBR/wAJh4//AOhLX/wIFAHo9Fecf8Jh4/8A+hLX/wACBR/wmHj/AP6Etf8AwIFAHo9Fecf8Jh4//wChLX/wIFH/AAmHj/8A6Etf/AgUAej0V5x/wmHj/wD6Etf/AAIFH/CYeP8A/oS1/wDAgUAej0V5x/wmHj//AKEtf/AgUf8ACYeP/wDoS1/8CBQB6PRXnH/CYeP/APoS1/8AAgUf8Jh4/wD+hLX/AMCBQB6PRXnH/CYeP/8AoS1/8CBR/wAJh4//AOhLX/wIFAHo9Fecf8Jh4/8A+hLX/wACBR/wmHj/AP6Etf8AwIFAHo9Fecf8Jh4//wChLX/wIFH/AAmHj/8A6Etf/AgUAej1574C/wCSgeM/+vxP/Qai/wCEw8f/APQlr/4ECoPhZc3d34p8VXGo2wtbqS4QywA58s46ZoA9OooooAKKKKAKup/8gm7/AOuL/wDoJr5A8H/8gA/9d5P/AEKvr/U/+QRd/wDXF/8A0E18geD/APkAn/rvJ/6FXoZf/G+Rw4/+CblFFJXvnhC0UlFAC0UlFAC0UlOUFmCr1JwKTAStG50S7tdFttUlC/ZrlisZB5JFdJd+HfDWgwwW3iC7vG1CaHzSLcDbHnoDS6/gfC3QwmSv2iTaT1xk1y/WOZx5Vo2dHsGk+bscda2s97dR29rGZZZDtRF6k0lxDJa3EkE67JI2KsvoRXUeAVWG61PUioZ7GyeSP2Y8ZpmkaJps2hy+IfE1xcLbyTFESD78j9zVSr8smn0JjScoq27MbTtFu9Utrue1ClLSPzJcnGBWfXfaANOjtfE40SSaS0+wZUzD5ge4qLSvA9udFsb3U7bULp70blWyAxEvqxNZ/WeVvmL+ryaXKcNRXWXXhKHTPGTaVeC7uYCnmRi2TMjA9AfSrOv+C7Wxs9OvbRLu2jublYJYLoguuT1GKv6zC68yPYTs/I5C0tZ766jtrVDJNIcKg7mmTQyW87wzoUkjYqykcgiuw8R6ZofhK/MWm3d1JqkEiOmcbUHXB9TVb4hwRr4kW7jUL9tgSdgPUjmnCs5yWmjHKi4xd90crRQaSukwFopKKAFopKKAFpG+6aKU/dNJh1PVP2fv+RV1X/r+P8q9ZFeTfs/f8itqv/X8f5V3HjDxM3hrSopLaAXN5dTLb20ROAzt0z7V8nU+Nn1EPhRsajfw6Xps99dkrDboXcgZOBS2F7FqOnwXlsSYZ0DoSMcGuI1Z/Fh8I62niePTzAbF2R7TcGDY+6Qf51RPjV9F0bw/othJaW91cWCTNPetiONAAO3U1JZ6bRXDeGvHM2rnVbCaSxlv9PjEizwufIkU9Dk9PeqGl/EG+XxVY6ZqF3pd+l8WQGwLZhYDPOeooA9Iorg/C3ifxP4m1q4ZbWyg0mzvJLeSQ5MkgX+6O1dXrt5cWGjz3Fo9tHKg4a6fbGvuTQBo1m61rtnoMMEuoMyrPMsKbRn5mOBXJeFfHdzqPiz+w7+5sL4yQGaO4sdwVcdVOaT4vTSW/h3TpYYvOlTUYSkecbju4FAHoAORmiuCbxP4n8P6jYHxVbWJ06/mWFXtd26Bm6Zz1FFl4p8Tat4m1K2srWyi0zS7kJPPLuLMuMkAetAHe0V5S/xSvbm3udUsbnSIbKB2C2c8h8+VVOCeOhPYV0WreLrl9C03UtKvdNsYb2PzC9+TkewUdaAOk1nW7TQrJbq/ZliaRYwVGeWOBWgDkZryHXPFv/CSfDqS6vvJV7HU4o5ZYc+WwDZ3DPOK63QvFd/4ie81Gwt449Dt1dYZXB8y4ZR1A7LQB2NFeZ6X4t8c654dGu6fp+mpapvJhkLb5gpOSDnjgVo3Pj651Gy0eHw1axvqWrRtIi3BOyFV4YtjrzQB3EsqQQvLKwVEBZmPYVDp+o2mq2SXenTpcW8n3ZEPBrj7PxTqttqlzoHiy2tTeNaPcQS24PlzKOqkHvWTB411G18P+HU0TTLRZdVmkiWFQVSPBPNAHp9AIIyDmvP7fxH4qN9qmgajHp66nHbfaLaeMN5bKc8EZzkUnwll16fwyr6tNBLbFnEbKWMmd3OSe1AHoNFFFABRRRQAUUUUAFFFFABRSUtABRRRQAUUUUAFFFJQAtFFFABRRRQAUUUUAFFFFABRRSUALRRRQAUUUUAFFFFABRRRQAUUUUAFFFFABRRRQAUUUUAFFFFABRSUtABRRRQAUUUUAFFFFABRRRQAUUUUAFFFFABRRRQAUUUUAFFFFABRRRQAUUUUAFFFJQAtFFFABRRRQAUUUUAFFFFABXnvgP8A5KB4z/6+0/8AQa9Crz3wF/yUDxp/1+J/6DQB6FRRRQAUUUZoAq6n/wAgi7/64v8A+gmvkDwf/wAgE/8AXeT/ANCr6+1M/wDEou/+uD/+gmvmL4beCdU1zwiLyzktlia5lAEkoU8N6V24KpGnVvI48ZGU6Vooiorsf+FY67/z2sv+/wCKP+FYa7/z2sv+/wCK9j61R7njewq/ynHUV2P/AArHXf8AnrY/9/xR/wAKx1z/AJ62P/f8UfWqXcPYVf5TjsUYrsf+FY65/wA9bH/v+KP+FY65/wA9bH/v+KPrVHuHsKv8px2KASrArwQciux/4Vjrn/PWx/7/AIo/4Vjrn/Pax/7/AIo+tUe4ewq/ykkvizQdXtYJPEekSz38EXlCSGTaHA6ZFZOp+IYL3wnYaPFA8bWkrvuLZBB6CtL/AIVjrn/PWx/7/ij/AIVjrn/Pax/7/isYzw0XdM2arveJS8D6hBaazNa3ziO2v4Gt3cnhc9D+dT6Zrtjp1jc+H/EFob+wSctG8L4KsD1B9DU3/Csdc/57WP8A3/FA+GOuDpNY/wDf8USqYeTbb3HFVopJRIIfEmlae2rxaVp80NtfWvkorPkqfU1Z0vxnZnRbWw1yC8c2Y2wyWs5j3L6MKT/hWWu/89rH/v8Aij/hWWu/89rH/v8Aik54VqzGniFtETSfGltZa5qM89pN9kvY/KASX95EPZjSaj4wsZ9ItNPsrS5VLa8W4Dzy72cA85PrTv8AhWWu/wDPax/7/ik/4Vjrv/Pax/7/AIo58K3cE8QlblM/UbyHxZ43E4P2WG5kUEyn7oHXmk8bapFqniaY2h3W0CiCI+oUYzWj/wAKx1z/AJ7WP/f8Uf8ACsdc/wCetj/3/FWq1BSTT2IcKzi1y7nHUYrsf+FY65/z1sf+/wCKP+FY65/z1sf+/wCK0+tUe5l7Cr/KcdijFdj/AMKx1z/nrY/9/wAUf8Kx1z/nrY/9/wAUfWqPcPYVf5TjsUYrsf8AhWOuf89bH/v+KP8AhWOuf89bH/v+KPrVHuHsKv8AKcdQ33TXY/8ACsdc/wCetj/3/FB+GOuEf62x/wC/4oeKpW3GqFW/wnR/s/f8itqv/X8f5V3Xi/wyPE+kpBFcG1u7eVZ7acDPlyL0OO4ry74eeJLL4cW+qaNr6TyXX2rzM2kRlTBHqK7H/hcfhz/nhqX/AICNXzk3eTZ9FHSKLcWheLdR0rUbLxFqllIlxatBEIISuGP8Z5/Sqmp/D26kh0i70y4tf7S061Fs32qHzIpU9x2pf+Fx+HP+eOpf+AbUf8Lj8N/88dS/8A2qSiUeB9QvPCmp2GpXlrHd32Aj2cAjSMDouO49ap2XgPW5NV0e81K70+JNMfKw2lvsD8YyTU//AAuPw3/zw1L/AMA2pP8AhcXhv/nhqX/gG1AG/wCEPDsvhuyvYZp1mNzeSXAKjGAxzimeNvDc3ifQ1tLS4SGaKZZk8xdyOVOcMO4rE/4XH4b/AOeGpf8AgG1H/C4/Df8Azw1L/wAA2oAk0TwZq1v4utdd1S6swYbdofs1rBsUZ71p+PPCtx4t0WCytLwWckVyk4lK5xtOeKyP+FxeG/8AnhqX/gG1H/C4/Dn/ADx1L/wDagBy+EPEWr6pYnxXqlrcWGnyiWOG3h2mVx0LGtzQfDj6Vd61JcTLKmpXHmhQMbRjGDWD/wALj8N/88dS/wDANqP+Fx+G/wDnjqX/AIBtQBRg+HGsaU8tlo13pn9nSSs6Pc2YeaIE5IB7+1aet+C9Sm12x1PR7izZre2+zNFdw7kA67lHY1D/AMLi8N/88NS/8A2o/wCFxeG/+eGpf+AjUARxfDi9/wCEfvbC5v4JZbu/S7dhFtUAHlcVfg8KXXh2/wBRm0m7VdGuoneWxdc+XJjqh7D2qp/wuPw3/wA8NS/8BGpsvxf8NTRPHJBqRVwVI+yN0NAGB4L0Pxbd+A7e30XWraDTroybvOh3SRAuchTXU3ngCS10/SG8NXi2mo6ShSGaZdyyKfvBh7msvSfib4R0TTY7DT7XUo4Is7V+yNxk5/rV3/hcfhv/AJ4al/4BtQBZ0zwdqk+p3Gs+J7+G51J7ZraBYI9scKnrx3NRad4CubKPw6r3kbf2RNJI+FPzhuw9Kj/4XH4b/wCeGpf+AbUn/C4vDf8Azw1L/wAA2oA3X8NSSeN5dbM6+VJZfZvLxyDk85/Gqfgnw7rfhoXFhe3ttc6Yrs1sEjIkGTnDGs7/AIXF4b/54al/4BtS/wDC4/Df/PDUv/ANqAO+orgP+Fx+G/8AnhqX/gG1L/wuPw3/AM8NS/8AANqAO+orgf8Ahcfhz/njqX/gG1H/AAuPw5/zx1L/AMA2oA76iuB/4XH4c/546l/4BtR/wuPw5/zw1L/wEagDvqK4H/hcfhv/AJ4al/4BtR/wuPw5/wA8dS/8A2oA76iuB/4XH4b/AOeGpf8AgI1H/C4/Df8Azx1L/wAA2oA76iuA/wCFx+HP+eGpf+AjUv8AwuPw3/zw1L/wDagDvqK4H/hcfhv/AJ4al/4BtSf8Lj8N/wDPDUv/AADagDv6K4H/AIXH4c/54al/4CNSf8Lj8N/88NS/8BGoA76lrgP+Fx+G/wDnhqX/AICNS/8AC4/Df/PDUv8AwDagDvqK4D/hcfhz/nhqX/gI1H/C4/Dn/PDUv/ARqAO/orgf+Fx+G/8AnjqX/gG1H/C4/Dn/ADw1L/wEagDvqK4D/hcfhz/nhqX/AICNR/wuPw3/AM8NS/8AARqAO/orgP8Ahcfhv/nhqX/gG1L/AMLj8N/88NS/8A2oA76iuB/4XH4b/wCeGpf+AbUf8Lj8Of8APDUv/ARqAO+orgP+Fx+G/wDnhqX/AICNR/wuPw3/AM8NS/8AARqAO/orgf8Ahcfhv/njqX/gG1H/AAuPw3/zx1L/AMA2oA76iuB/4XH4c/546l/4BtSf8Lj8N/8APDUv/ARqAO/orgf+Fx+G/wDnhqX/AIBtR/wuPw3/AM8dS/8AANqAO+orgf8Ahcfhz/njqX/gG1H/AAuPw5/zx1L/AMA2oA76iuB/4XH4c/54al/4BtSf8Lj8N/8APDUv/ANqAO/orgP+Fx+HP+eGpf8AgI1L/wALj8N/88NS/wDANqAO+orgP+Fx+HP+eGpf+AjUf8Lj8N/88NS/8BGoA7+krgv+Fx+G/wDnhqX/AIBtSf8AC4/Df/PDUv8AwEagDv6K4D/hcfhz/nhqX/gI1L/wuPw3/wA8NS/8A2oA76krgv8Ahcfhv/njqX/gG1J/wuPw3/zw1L/wEagDv6K4H/hcfhz/AJ4al/4CNR/wuPw3/wA8NS/8A2oA76iuB/4XH4c/54al/wCAjUf8Lj8Of88NS/8AARqAO+orgf8Ahcfhz/nhqX/gI1H/AAuPw5/zx1L/AMA2oA72lrgf+Fx+G/8AnhqX/gG1J/wuPw3/AM8NS/8AARqAO/orgP8Ahcfhv/nhqX/gI1H/AAuPw3/zw1L/AMBGoA7+iuA/4XH4b/54al/4CNS/8Lj8N/8APDUv/ARqAO+orgf+Fx+G/wDnhqX/AIBtR/wuPw5/zw1L/wABGoA76iuA/wCFx+G/+eGpf+AjUf8AC4/Df/PDUv8AwEagDv6K4D/hcfhv/nhqX/gI1L/wuPw3/wA8NS/8A2oA76iuB/4XH4b/AOeGpf8AgG1J/wALj8Of88NS/wDARqAO/orgf+Fx+G/+eOpf+AbUf8Lj8N/88NS/8A2oA76iuB/4XH4c/wCeOpf+AbUf8Lj8N/8APDUv/ANqAO+orgf+Fx+G/wDnhqX/AIBtR/wuPw3/AM8NS/8AANqAO+orgf8Ahcfhv/njqX/gG1H/AAuPw5/zx1L/AMA2oA77vXnvgL/koHjT/r8T/wBBqT/hcfhz/njqX/gI1UfhfqMGreK/Fd/ah1iuLlHQSLtbG3uO1AHplFJmloAKSlpKAKup/wDIJu/+uD/+gmvkPwbNKnh8qkrqPtEnAYj+KvrzU/8AkE3f/XB//QTXyB4O/wCQCf8Ar4k/9Cr0Mv8A43yOLHNqlodD9on/AOe0n/fZo+0T/wDPeT/vs1HSV79keHzS7kn2if8A57Sf99mj7RP/AM9pP++zUdFKyDml3JPtE/8Az2k/77NL9on/AOe0n/fZqKlosh80u5IJ5z0mlP8AwM0efOOs0o/4Ga1/B6LJ4w01XUMpnUEEZBpni1Vj8W6kqKFVbhgABgDmsuf95yWLtLk57mZ51xtz5suO53Hik8+f/ntJ/wB9muquok0r4c2MUcam51iUyM2MnYpwAPxqOPwJcsy20mo2kWpSJvSxYneRjOM9M1mq8FrIrkqbJ3OZ+0T/APPaT/vs0faJ/wDntJ/32a2dO8J32q2N1LYssl1aPtltMfvBzjNOuvCF7b63baRFLHcX0ybnjj/5ZcZwx+lX7anexPLVtfUxPtE//PaT/vs0faJ/+e0n/fZrevvCMlvp9xd2Oo2t+LT/AI+UgJ3R+/uKl0/wRPdabDe3uo2mnpcDMCXDYaQetL6xTtcfLVvbU5z7RP8A89pP++zR9on/AOe0n/fZrTufDtxbaE2qNNG8K3Jt8LzkjuD6VtaT4KH9u6VFqd5AsN5Gs4Vsjeufuj3pyr01G4KFVuxyX2if/ntJ/wB9mj7RP/z2k/77NdV4h8HeX4s/s7RJoJ/OkO2JG/1AH941UvPCUtrp89/p+o2uoC0I+0LBnMf59RSVem7eYOFVN+RgGa4X70soPuxFH2if/ntJ/wB9mup8UCLUvDOja3HGscrKbacKMAsvQ/lXJVdOSmr2JnzQdrkn2if/AJ7Sf99mj7RP/wA9pP8Avs1HRWlkRzS7kn2if/ntJ/32aPtE/wDz2k/77NR0UWQc0u5J9on/AOe0n/fZoNxPtP76T/vs1HQelGlgUpX3PUvgJGk/hnVXnUSt9uPzOMnp716r9lt/+eEX/fAryz9n/wD5FfVf+v4/yr0bXddtPD2mm8vtxBYJHGgy0jHooHrXyc/jZ9ND4UXvslv/AM8I/wDvgUfZbf8A54R/98Cuf0zxit3qa6dqGmXOm3ksZkgjnx+9A9CO/tVP/hZGlm2ceTP/AGgt19l+wY/el/p6Y5zUlnWfZLf/AJ4R/wDfAo+y2/8Azwj/AO+BWDqni9LLUV02y0+41G/EYllggx+6U/3iajTx9o//AAjs+rztJAtvJ5Mtu6/vFk/uY9aAOi+y2/8Azwj/AO+BR9kt/wDnhH/3wK5ez8d+dDdS32h6jYR28DXAeZPldR79j7VeuvFtnaeG7PWZI5DBdmMIoHzDecCgDa+y2/8Azwj/AO+BR9lt/wDnhH/3wK4K18cas/xNu9IfSbo2aQqFUAfId2PMP+zWxe+OY4tQubbTNLu9TWyOLqWADbEepHPU+woA6X7Jb/8APCP/AL4FH2S3/wCeEf8A3wKr6TqtrrWlw39g++GYZB7j1B96ydb8Vz6RcypFod9eRQJvmniACqPbPWgDe+yW/wDzwj/74FH2S3/54R/98CoNJ1S21rSrfULF98E6BkJGK5e4+JFv/bF/pem6Rfahd2EmyZIFGAMZzn+lAHX/AGW3/wCeEf8A3wKPstv/AM8I/wDvgVy6/ETSm0i21ERz+VLdC1mVlw1u54w47c1Z17xfHpWpLptrZz3149u0+yDHyKO5oA25o7O3iaWeOGONRlmZQABTo4LSWNZIooXRhkMFBBFeX2fivUfE3wn1h9Us5opFt5T9pYAI2CeB7itTw14+t7fTdEs7vTb2C2uI0hivZExG746evPrQB332S3/54R/98Cj7Jb/88I/++BXNav46hsNWk03TtMvNWuYAGnW1XiIe5Pf2plx8R9Hg8Lrrm2Z4RMIJIQv7yNycbSPWgDqPslv/AM8I/wDvgUfZLf8A54R/98Cua0nx1DqOvR6Vd6ZeadNcIZLZrhcCZR1x6H2rc1jV7PQtKm1HUZPLt4RljjOfYe9AFn7Jb/8APCP/AL4FH2W3/wCeEf8A3wK5rR/G/wDad1sudE1DT4GjMiXFxHhCo5yT24qififZ83S6VqDaSG2nUhH+7643Y6496AOz+y2//PCP/vgUfZbf/nhH/wB8CuZ1jx9ZaZqdtp9taXOoXN3B58CWy53r9e1ZyfFO1ntpZLXRdRmktSRexLHzbY659fwoA7f7Jb/88I/++BR9kt/+eEf/AHwK5nUviFplhb6VLFDcXf8Aaqk2ywLlmOM4xWfF8UIZ2ntodD1F9StjmayCfMi/3iemKAO2+y2//PCP/vgUfZbf/nhH/wB8CsO38X2994Zj1nTLS5vBIdot40+cN3B9MVBZ+N4JV1CPULC4sLuwhM8lvLglk9QRwaAOj+yW/wDzwj/74FH2W3/54R/98CuLt/ijYztYzPpd9Dp966xx30iYQMeAPpnvV/WPHVvp2snStP0+61W9jQSTR2q58pT0JP8ASgDoIxYSyyRRLbvJEcOqgEr9fSpfslv/AM8I/wDvgVwXw71OPV/FXim8hSSNXuIwY5V2shC8givQqAIvslv/AM8I/wDvgUfZLf8A54R/98CpaKAIvslv/wA8I/8AvgUfZLf/AJ4R/wDfAqWigCL7Jb/88I/++BR9kt/+eEf/AHwKlooAi+yW/wDzwj/74FH2S3/54R/98CpaKAIvslv/AM8I/wDvgUfZLf8A54R/98CpaKAIvslv/wA8I/8AvgUfZLf/AJ4R/wDfAqWigCL7Jb/88I/++BR9kt/+eEf/AHwKlooAi+yW/wDzwj/74FH2S3/54R/98CpaKAIvslv/AM8I/wDvgUfZLf8A54R/98CpaKAIvslv/wA8I/8AvgUfZLf/AJ4R/wDfAqWigCL7Jb/88I/++BR9kt/+eEf/AHwKlooAi+yW/wDzwj/74FH2S3/54R/98CpaKAIvslv/AM8I/wDvgUfZLf8A54R/98CpaKAIvslv/wA8I/8AvgUfZLf/AJ4R/wDfAqWigCL7Jb/88I/++BR9kt/+eEf/AHwKlooAi+yW/wDzwj/74FH2S3/54R/98CpaKAIvslv/AM8I/wDvgUfZLf8A54R/98CpaKAIvslv/wA8I/8AvgUfZLf/AJ4R/wDfAqWigCL7Jb/88I/++BR9kt/+eEf/AHwKlooAi+yW/wDzwj/74FH2S3/54R/98CpaKAIvslv/AM8I/wDvgUfZLf8A54R/98CpaKAIvslv/wA8I/8AvgUfZLf/AJ4R/wDfAqWigCL7Jb/88I/++BR9kt/+eEf/AHwKlooAi+yW/wDzwj/74FH2S3/54R/98CpaKAIvslv/AM8I/wDvgUfZLf8A54R/98CpaKAIvslv/wA8I/8AvgUfZLf/AJ4R/wDfAqWigCL7Jb/88I/++BR9kt/+eEf/AHwKlooAi+yW/wDzwj/74FH2S3/54R/98CpaKAIvslv/AM8I/wDvgUfZLf8A54R/98CpaKAIvslv/wA8I/8AvgUfZLf/AJ4R/wDfAqWigCL7Jb/88I/++BR9kt/+eEf/AHwKlooAi+yW/wDzwj/74FH2S3/54R/98CpaKAIvslv/AM8I/wDvgUfZLf8A54R/98CpaKAIfstv/wA8I/8AvgVwfgJQvj7xmEUKBdpgAdPlr0KvPvAf/I/+NP8Ar8T/ANBoA9AooooAWkpaSgCrqf8AyCbv/rg//oJr5B8Hf8gFv+u8n/oVfX2p/wDIJu/+uD/+gmvkrwPpWo3fhzzbSxuJozcSYdEJH3q7sDJRq3kcWO1paGlRWh/wj+s/9Au7/wC/Ro/sDWf+gXd/9+jXt+3pfzHh8suxn0Vof2BrP/QLu/8Av0aP7A1n/oF3f/fo0e3pfzByy7GfS1f/ALA1n/oF3f8A36NH9gaz/wBAu7/79Gj29L+YOWXYfoEqQ69aSS3RtEWQEzgZ2e9M12VJ9cvJIrk3StKSJiMb/ej+wNZ/6Bd3/wB+jR/YGs/9Au7/AO/RqfaUubm5i/e5eWx0l5J9t8BaHqNuN50icxTL6fNkGunm8W2N5cLqsOtWlmnlgtA9pumV8dAe9edJpWvx28kEdhfLFJgugQ4bHqKh/sDWP+gXd/8Afo1zOnRlvI6FWnHZHVeHfENloK33iKedbrVbqQrHbL8oAJ5Y1YXXtG0nxvb+IbKfzYL5D9ph6vAzDn681xv9gaz/ANAu7/79Gj+wNY/6Bd3/AN+jVONBtvm3JVaokly7Hb65r8UGiXq2uuWdw10CqQQWgUsp/vGqs7aB4t0rTZL7V/7MurGAQyROmQwHcVyX9gax/wBAu7/79Gj/AIR/WP8AoF3f/fo0lCglZS17jdact46HVaVLomo+EbnQb3VRaGC7M0UzJxIv0qTX9e0oa/4cm0+58+2sEVZGxyMH0rkv+Ef1j/oF3f8A36NH9gaz/wBAu7/79Gmo0Obm5he2na3KdpJq+k6D8Qv7btr9L23vi3mCNeYQR1PrTtb1+KDQr2O11yzuXuvlSG3tNhZT/ePrXE/2BrP/AEC7v/v0aP7A1kHI0u7/AO/RpclC6fNsP287NKO5v+Iov7K8E6LpUvFxIWupF7qG6VyFatzpXiC8kElzY30rhQoZ4ySAOgqH/hH9Z/6Bd3/36NbU6lOEbcyMKl5yukUM0Zq//wAI/rP/AEC7v/v0aP8AhH9Z/wCgXd/9+jWnt6X8yI5ZdihmjNX/APhH9Z/6Bd3/AN+jR/wj+s/9Au7/AO/Ro9vS/mQcsuxQzQelX/8AhH9Z/wCgXd/9+jR/wj+s4/5Bd3/36NHtqdviQcsux6L+z/8A8ivqv/X8f5V03xK8NXfiLQ7Y6erST2Vws4hD7DKB1APY+lcj8Er610PQdUtdZuI7G4+2lvKuHCNjHXBr0z/hJ9D/AOgvZ/8Af9f8a+Yn8TPpofCjh/DmiCfxDDqcvh7VLf7DGzpJe3e9t+Puqvf61Sk8K+Im1Y+PRaj+2Fm+XTOP+Pccbf8AfxzmvRf+En0P/oL2f/f5f8aP+Em0L/oL2f8A3/X/ABqSzz3XfDl9D4xm15tL1C9tNRgQNFZT+XLA47MM8inS+Bb248GNNpunNY6iL9L8WtxcGUzFOgZuxIr0D/hJ9D/6C9n/AN/1/wAaP+En0P8A6C9n/wB/1/xoA51dT1vxZpd9pdx4en0tZLR0M1w4x5hGAAB1HvXLzReKtT8K6ToH/COzQNp88IuZ3cbXVG6p616V/wAJNof/AEF7L/v8v+NH/CTaH/0F7P8A7/r/AI0AczepqmkfFL+0YtKmvbG/tEtjLCR+5YNnLA9q5i48KX2h69qyy6TqepwX85mt5bG68tRu/hcZ4+tem/8ACTaF/wBBey/7/L/jR/wk+h/9Bez/AO/6/wCNAEPhHR00PwzbWcdr9kOC7w+Zv2MeSN3euE1/StXvtf1eLVNJv9TEwxpzRT7beNcfxDPBzXoP/CT6H/0F7L/v8v8AjR/wk+h/9Bez/wC/6/40AZ/w+0270jwLp1jqMPk3MKFXjznacmuG0HV9U0Xxz4smsNFk1S3lu1DfZ2AdG2jqD2r0n/hJ9D/6C9l/3/X/ABrD0JtA0PVNWvV160kOpTiYqZVGzjGOtAGTpngy7vPB2vtrsaWt1rErXIhDZFuQPl59ai+FsN/rOm33iDVwpurhPscLdvLjG3I+p5rf8SSaB4m08WUviRbSPdlzbXYQuO6k56Ve0vVPDOj6XBp9hqVlHb26BEUTr0H40AcVo9hrifD/AFrwvc6NPHcRrMYZsgpPuYkBfzrX17QtQufBPh6ytrVnntZ7dpUH8AXGa6j/AISfQ/8AoL2X/f5f8aP+En0L/oL2f/f9f8aAORZdb8G+KdXurPRpdXstVkEytbuA8TgY2sD296xp/BmuP4bkuJ7UG+1HV472W1jORCgbpn1x1r0f/hJ9C/6C9l/3+X/Gj/hJ9D/6C9n/AN/1/wAaAMbXNKvLnxz4cvLeAvb2gkE0g/gyOKtePdBuvEXhOez09lFyrrLEHPysVOcH61f/AOEn0L/oL2f/AH/X/Gj/AISfQv8AoL2X/f5f8aAOctNW1zxNaS6Nf+HLjTEktmjmuZJBtVsY+XHUVhKPFMPg0+Cx4dZp/KNqL4SDyNh/j9c47V6B/wAJPof/AEF7P/v+v+NH/CT6H/0F7L/v8v8AjQBy+l+FrzSvG+juI2ltbLSvszXHbfnpU2jaJfWzeLvNtin26dmt/wDpoNmK6L/hJ9D/AOgvZf8Af5f8aP8AhJ9C/wCgvZ/9/wBf8aAOF0Pw1q1vceDGuLJlGnrMLjJH7vI4roNK0i9g+JGvajLblbW5t4lil/vEZyK2/wDhJ9D/AOgvZ/8Af9f8aT/hJ9D/AOgvZ/8Af9f8aAPPW0XxHYeD4YIba68v+05JLu3tn2yyQE8bTUWneF7/APtHWrmy0SextbvS2hgSaXe7P6HJ4Nej/wDCT6H/ANBey/7/AC/40f8ACT6H/wBBey/7/r/jQByOseH9Sn+Fuk6ZBaMbuBoDJEMZXawJqNrbW/B/jLUdUs9Ik1ay1VEJ8hgJIXUYwc9q7L/hJ9C/6C9n/wB/1/xo/wCEn0P/AKC9n/3/AF/xoA5r4f6frUGueINQ12wFkb+dZIkVsjGP513VZX/CT6H/ANBey/7/AC/40v8Awk+hf9Bez/7/AK/40AalFZX/AAk+hf8AQXs/+/6/40f8JPoX/QXsv+/6/wCNAGrRWX/wk+h/9Bez/wC/6/40f8JPoX/QXs/+/wCv+NAGpRWX/wAJPoX/AEF7P/v+v+NH/CT6H/0F7P8A7/r/AI0AalFZf/CT6H/0F7P/AL/r/jR/wk+h/wDQXs/+/wCv+NAGpRWX/wAJPof/AEF7P/v+v+NH/CT6F/0F7P8A7/r/AI0AalFZf/CT6F/0F7P/AL/r/jR/wk+h/wDQXs/+/wCv+NAGpRWX/wAJPof/AEF7P/v+v+NH/CT6F/0F7P8A7/r/AI0AalFZf/CT6H/0F7P/AL/r/jR/wk+hf9Bez/7/AK/40AalFZf/AAk+h/8AQXs/+/6/40f8JPoX/QXs/wDv+v8AjQBqUVl/8JPoX/QXs/8Av+v+NH/CT6H/ANBez/7/AK/40AalFZf/AAk+h/8AQXs/+/6/40f8JPoX/QXs/wDv+v8AjQBqUVl/8JPoX/QXs/8Av+v+NH/CT6H/ANBez/7/AK/40AalFZf/AAk+h/8AQXs/+/6/40f8JPof/QXs/wDv+v8AjQBqUVlf8JPoX/QXsv8Av+v+NH/CT6F/0F7L/v8Ar/jQBq0Vlf8ACT6F/wBBey/7/r/jR/wlGhf9Bez/AO/y/wCNAGrRWV/wlGhf9Bez/wC/y/40f8JRoX/QXs/+/wAv+NAGrRWV/wAJRoX/AEF7P/v8v+NH/CUaF/0F7P8A7/L/AI0AatFZX/CUaF/0F7P/AL/L/jR/wlGhf9Bez/7/AC/40AatFZX/AAlGhf8AQXs/+/y/40f8JRoX/QXs/wDv8v8AjQBq0Vlf8JRoX/QXs/8Av8v+NH/CUaF/0F7P/v8AL/jQBq0Vlf8ACUaF/wBBez/7/L/jR/wlGhf9Bez/AO/y/wCNAGrRWV/wlGhf9Bez/wC/y/40f8JRoX/QXs/+/wAv+NAGrRWV/wAJRoX/AEF7P/v8v+NH/CUaF/0F7P8A7/L/AI0AatFZX/CUaF/0F7P/AL/L/jR/wlGhf9Bez/7/AC/40AatFZX/AAlGhf8AQXs/+/y/40f8JRoX/QXs/wDv8v8AjQBq0Vlf8JRoX/QXs/8Av8v+NH/CUaF/0F7P/v8AL/jQBq0Vlf8ACUaF/wBBez/7/L/jR/wlGhf9Bez/AO/y/wCNAGrRWV/wlGhf9Bez/wC/y/40f8JRoX/QXs/+/wAv+NAGrRWV/wAJRoX/AEF7P/v8v+NH/CUaF/0F7P8A7/L/AI0AatFZX/CUaF/0F7P/AL/L/jR/wlGhf9Bez/7/AC/40AatFZX/AAlGhf8AQXs/+/y/40f8JRoX/QXs/wDv8v8AjQBq0Vlf8JRoX/QXs/8Av8v+NH/CUaF/0F7P/v8AL/jQBq0Vlf8ACT6F/wBBez/7/L/jR/wk+hf9Bez/AO/6/wCNAGr3rz7wH/yP/jT/AK/E/wDQa6z/AISfQv8AoL2X/f8AX/GuP+Hk8Vz448YzW8iyxPdoVdDkMNvY0AeiUUopKAFooooAq6p/yCbv/rg//oJr5Y+Hvi7XdI8K/ZdO1B4IFuZSECg4y3uK+ptU/wCQTd/9cH/9BNfIHg//AJAR/wCviT/0Ku7ARUqtpK5x42Uo0rxZ6D/wsLxT/wBBaT/vhf8ACj/hYXij/oLSf98r/hXN0le57Gn/ACo8b29X+ZnS/wDCwvFP/QWk/wC+V/wo/wCFheKf+gtJ/wB8r/hXNUUexp/yr7h+3q/zM6X/AIWF4p/6C0n/AHyv+FH/AAsLxT/0FpP++V/wrmqKPY0/5V9wvb1f5mdL/wALC8U/9BaT/vlf8KP+FheKf+gtJ/3yv+Fc1S0exp/yr7g9vV/mZ0n/AAsLxT/0FpP++V/wpf8AhYXin/oLSf8AfK/4Vh2OnXepXAhsLaSeQnoi5q3q+gXmiXEFveBDcTLkRRtuZfY471HLQvy2Vyva1rXuzR/4WF4p/wCgtJ/3yv8AhSf8LC8U/wDQWk/75X/CqF54Y1rTrI3l5p00UHdyOn19KdZeFdb1GGOWy0+WWOVSyOBwRU/7OlfQftK97XZd/wCFheKf+gtJ/wB8r/hR/wALC8U/9BaT/vlf8KPDXg2913W5LCdJLYQZEz7c+WccAis+88O6nZ6z/ZjWkrXLE+WmOWGetJPDuXLZB7SulzXdjQ/4WF4p/wCgtJ/3wv8AhR/wsHxT/wBBaT/vlf8ACsvUtB1TR2jGp2ckHmnCFuhPpmpZvC+s20Dz3VhJDCmN8jjAUHpVWw9tkL2te9rsv/8ACwfFP/QWk/74X/Cj/hYXin/oLSf98L/hVXU/CeraXAs8tuZrdhkTwHeh/EVi04xoT+FITrVouzbOk/4WF4p/6C0n/fC/4Uf8LC8U/wDQWk/74X/Cuapav2NP+VC9vV/mZ0n/AAsLxT/0FpP++F/wo/4WF4p/6C0n/fC/4VzVFHsaf8qD29X+ZnS/8LC8U/8AQWk/74X/AAo/4WF4p/6C0n/fC/4VzVFHsaf8qD29X+ZnS/8ACwvFP/QWk/74X/Cg/ELxTtP/ABNpP++V/wAK5qlP3TR7Gn/Kh+3q3+Jnofws0HTfHenapqviu2XUb37YU86Tg7QOnFd3/wAKs8G/9ASH/vpv8a5X9n7/AJFXVP8Ar+P8q9N1LVrHR7YXGp3UdtCzBA8hwMnoK+Xn8bPoo6xRzv8Awqzwb/0BIf8Avpv8aP8AhVng3/oCQ/8AfTf41qReMNAm0mTU49UtzZRyGNpt2F3DqPepdP8AEuj6pZT3dhqEM0NuMysrfcHXkdqkoxv+FWeDf+gJD/303+NH/CrPBv8A0BIf++m/xq6vj3wu95FarrVqZpcbF39c9Oa0dW17TNCt0m1a9itkc4QufvH2HegDB/4VZ4N/6AkP/fTf40f8Ks8G/wDQEh/76b/Gt201/S7/AEt9RtL6GW0QEvKG4XHXPpVSw8aeHtTaVbHVIJWhQyOAeQo7+4oAzf8AhVng3/oCQ/8AfTf40f8ACrPBv/QEh/76b/Gjwt8RNJ8Uald2VtNGs0MxSJQ2TKo/iFR/Eu/urDQ7F7Kd4XfUIUZkOMqW5FAEn/CrPBv/AEBIf++m/wAaP+FWeDf+gJD/AN9N/jWnqXi7QtEkSDVdSht5iobYx5A9TU2o+JtG0nTYtQ1DUIIbWbHlyFuHz6etAGN/wqzwb/0BIf8Avpv8aP8AhVng3/oCQ/8AfTf40zxJ8StE0Pw/Bqltcw3iXDhYlV8bhnBOfaul0rVbPWdPjvdOmWaCQcOvTNAHO/8ACrPBv/QEh/76b/Gj/hVng3/oCQ/99N/jWtrXi3QvD0iR6zqUFq7jKo7ckeuKfd+J9FsNJj1O71KCOzlA8uUtw/09aAMb/hVng3/oCQ/99N/jR/wqzwb/ANASH/vpv8a29P8AEWk6ppkmoaffwz2sYJeRW4XHXPpVKHx14ZuL0WkOs2rTFdwXf1H1oAo/8Ks8G/8AQEh/76b/ABo/4VZ4N/6AkP8A303+Na+k+KtE1xpl0rUYbloBmQIeVHrVYeO/DDXkdqNZtfOkJCrv6n0oAo/8Ks8G/wDQEh/76b/Gj/hVng3/AKAkP/fTf41rad4s0PV9QksdN1KC4uo8lo1bnio7nxn4es9S+wXOqQR3IYKUJ6H0J7UAZv8Awqzwb/0BIf8Avpv8aP8AhVng3/oCQ/8AfTf41sal4o0XR5CmpajDbuI/M2u3JX1FTafr2l6rpZ1HT72Ge0AJMyt8q4659KAMH/hVng3/AKAkP/fTf40f8Ks8G/8AQEh/76b/ABrH8Y+O9LvtDEfhzWY3uluolYQvyRu5+or0SPmNc+goA5P/AIVZ4N/6AkP/AH03+NH/AAqzwb/0BIf++m/xrrqKAOQ/4VZ4N/6AkP8A303+NL/wqzwb/wBASH/vpv8AGuuooA5H/hVng3/oCQ/99N/jR/wqzwb/ANASH/vpv8a66igDkP8AhVng3/oCQ/8AfTf40v8Awqzwb/0BIf8Avpv8a66igDkf+FWeDf8AoCQ/99N/jR/wqzwb/wBASH/vpv8AGuuooA5D/hVng3/oCQ/99N/jR/wqzwb/ANASH/vpv8a6+igDkf8AhVng3/oCQ/8AfTf40n/CrPBv/QEh/wC+m/xrr6KAOR/4VZ4N/wCgJD/303+NJ/wqzwb/ANASH/vpv8a6+igDkf8AhVng3/oCQ/8AfTf40n/CrPBv/QEh/wC+m/xrr6KAOQ/4VZ4N/wCgJD/303+NH/CrPBv/AEBIf++m/wAa6+igDkf+FWeDf+gJD/303+NJ/wAKs8G/9ASH/vpv8a6+igDkP+FWeDf+gJD/AN9N/jR/wq3wb/0BIf8Avpv8a6+igDkf+FWeDf8AoCQ/99N/jR/wqzwb/wBASH/vpv8AGuuooA5D/hVng3/oCQ/99N/jR/wqzwb/ANASH/vpv8a6+igDkf8AhVng3/oCQ/8AfTf40n/CrPBv/QEh/wC+m/xrr6KAOR/4VZ4N/wCgJD/303+NJ/wqzwb/ANASH/vpv8a6+igDkP8AhVng3/oCQ/8AfTf40f8ACrPBv/QEh/76b/GuvooA5D/hVng3/oCQ/wDfTf40v/CrPBv/AEBIf++m/wAa66igDkf+FWeDf+gJD/303+NJ/wAKr8Gf9ASH/vpv8a6+igDkP+FWeDf+gHD/AN9N/jR/wqzwZ/0A4f8Avpv8a6+igDkP+FV+Df8AoCQ/99N/jR/wqvwZ/wBASH/vpv8AGuvooA5D/hVfgz/oCQ/99N/jR/wqvwZ/0BIf++m/xrr6SgDkf+FWeDP+gJD/AN9N/jR/wqvwb/0BIf8Avpv8a6+igDkP+FV+DP8AoCQ/99N/jR/wqvwb/wBAOH/vpv8AGuvooA5D/hVfgz/oCQ/99N/jR/wqzwb/ANASH/vpv8a6+igDkP8AhVngz/oCQ/8AfTf40f8ACrPBn/QEh/76b/GuvooA5D/hVfgz/oCQ/wDfTf40f8Ks8G/9ASH/AL6b/GuvpKAOR/4VX4M/6AkP/fTf40f8Kr8Gf9ASH/vpv8a66loA5D/hVfgz/oCQ/wDfTf40f8Ks8Gf9AOH/AL6b/GuvooA5D/hVfgz/AKAkP/fTf40f8Kr8Gf8AQEh/76b/ABrrqWgDkP8AhVngz/oCQ/8AfTf40f8ACq/Bn/QEh/76b/GuvooA5D/hVngz/oCQ/wDfTf40f8Ks8Gf9ASH/AL6b/GuvooA5D/hVng3/AKAcP/fTf40f8Kr8Gf8AQDh/76b/ABrr6KAOQ/4VZ4M/6AcP/fTf40f8Kr8Gf9ASH/vpv8a6+igDkP8AhVfg3/oBw/8AfTf40f8ACrPBn/QEh/76b/GuvooA5D/hVfgz/oCQ/wDfTf40f8Kr8Gf9ASH/AL6b/GuvooA5D/hVngz/AKAkP/fTf40f8Ks8Gf8AQEh/76b/ABrr6KAOR/4VZ4N/6AkP/fTf41h/DSxttM8Y+LrKxiEVvBcosaDoox0r0mvPvAf/ACUDxp/1+J/6DQB6FRiiigAooooAq6p/yCbv/rg//oJr4/8AB/8AyAj/ANfEn/oVfX+qf8gm7/64P/6Ca+QPB/8AyAT/ANfEn/oVd+Adq2pw4/8Agm7RRRXvc0e54YUUUUc0e4BRRRRzR7gFFFFHNHuI7nQfG9lb6F/Y19byWSsNpvLHCyfU+tR6VDpWiePNOuX1OPUbOYlhMw5Rj03Z6GuKorndGnd2dr7nT7d2Sa2PWtQeTS4Nau30lxDPGweWbUBIsoPdVzWHq2p3Nn4M8Kx2V00WW3OI3xn5u9cI00rrteR2XspYkUhdyACxIHQE9Kyjh4RtdlyxLb0R6qL1YfjPHi4Ecc9uu7D4Vm2d6qeHI5dM8Vavaa8Cb26gb7JunGWXPQP/AA5rzUySFgxdiw6NnmleWWSTfJI7N/eLEmn9Xja3N0sH1nrbqeheIGfTvCsdjcaU1os12jJ514JnVgeo64FUviTqd3ceIo7BLtvsggjAQN8uSOc1xTyySNmSR3I6FmJxTWZ2OXYsfU806dCEGncU8RzJpLc9A0vWNJ8DxEJqdxq1w6fNbRHECk+uetcXq+oDVdUmvBbxW3mtnyohhRVL60VrCnTg+a+plOrKcVHogooorbmj3MhKKWijmj3ASiloo5o9wEoP3DS0H7po5o9wPVP2fv8AkVdU/wCv4/yre+LFol9oOmW0sRlik1OAOoGcjNYP7P3/ACK2qf8AX8f5V6uyo4G9VbByMjNfKT+Nn08PhR5h8RbF9N1Xw9c2wistKtpG81xbebHE5HysyD+dUbWCO/PiHV7XWlviumPDL5FmYI2OCQcnqRXrrokilZFV1PUMMg1ma7pn2rwxqFhYRxpJPbvGiqAoyQQKks8jsdX8Kt8H4tIW0/4m0tuES2FuTK0p6MGx685zVrVYdU0bxBoNzrl6tlGulrCLq4tzcIkwAyCOxI716X4W0b+y/DOm2t7BF9rtrdY3YKCQQPWtmWGKdNk0aSL6MMigDyOyuX0fQPEniDTZ11kTsimMWZihDDALhe47mobK6+3+PfDckWqR6mPnWT7PZeTHECv3Scc/SvYVhiWLy1jQR4xtAGPypsVrbwgCGGOPByNqgYoA8/8AAtzptj4u8QaXOqQag980kMZiIJTHUHGMVd+KiNJ4f08IrMRqUBwB/tV2n2eDz/O8qPzcY37Ru/OnuiSAB1VhnPIzQB5XruvyT+JNVsLq7ttHSCIJGGsfOluwV6g4PHbFYtvBp/8Awgvhi41PVJdLvbZ5jbSTWxlj68h1xxXtT20Ekgkkhjd16MygkUPa28qbJIY2T+6VBFAHj1/fT638I57m602BVtL1dsttb7VljVxmRVxkZr1TQNQ07UtFgudHdHtSoAZEKjOOeMCr4hiEXlCNBHjGzAx+VEUMUEYSBFjQdFQYFAHl0N9pPh74ieIpfGkWw3exrO4mhMiNEByq4Bwc9qXU7nSLbxlomt3tsf8AhGjaOls3kHy4JCepTHGR3xXp81tBcY8+KOXHTeoOKV4Ini8t40ZP7pUEflQB5OGt9U1rxPqfhqJl0d9LaJ5EjKJNNg8qDjoO+Kj1bQLIfDDwsiWKh/tNuXKp83J+bJ6164kMUcXlxxoif3VAA/Kl8uMqFKqVHQY4FAHnmsWUdj8UrL7BbCGOTS5kk8pMA4xgHFc2ug2h+A8ztYr9pecyM2z593m9c9ele0FELbmVS2MAkc0nlR+Xs2Ls/u44oA891TToLLxJ4KksbURMGKO0aY+XZ0OPeuV8Ra7Lq2j61HcXkFlOJXRdMhsC0r7TwxfHU9c17aUQ7SVUlfunHSo/slsZTIYIt5GC2wZNAHmei6fFqHxE0qW/thP5WhIVMi5Abj171j6lpd62j+NrPSLeQRLfpIYIht3x4BcKPfmvZxHGrBlVQQMAgdBSiNAWKqoLdcDrQB4t4x1nwrq3h3RrXw/bCS7huoSFitmVoACM7jjivaY/9Wv0FRLZ2qElLeJSxycIOanoAKKM0ZoAKKM0ZoAKKM0ZoAKKM0ZoAKKKSgBaKSloAKKM0ZoAKKSigBaKBRmgAoozRmgAoozRQAUUn40UALRRmjNABRRSfjQAtFJ+NLQAlLRmjNABRRmjNABRRmjNABRRSUALRSUtABRRmjNABRSUUALRSClzQAUUZpKAFopKKAFoozRmgAopKPxoAWkopc0AFFGaSgBaKSigBaKM0ZoAKKQ0fjQAtFJS5oAKKM0lAC0UlFAC0UZozQAUUZozQAV574D/AOSgeNP+vxP/AEGvQs1574D/AOSgeNP+vxP/AEGgD0KiiigAooooAiuIRcW0sLEgSIVJHbIxXiK/sy2MRYQeK9UiRmLbEVQBk17nRRewmk1Znh3/AAzVb/8AQ4at/wB8rR/wzVb/APQ46t/3yte40U+Z9yfZw7I8O/4Zqt/+hx1b/vlaP+Garf8A6HHVv++Vr3Gijml3D2cOyPDv+Garf/ocdW/75Wj/AIZqt/8AocdW/wC+Vr3Gijml3D2cOyPDv+Garf8A6HHVv++Vo/4Zqt/+hx1b/vla9xoo5pdw9nDsjw7/AIZqt/8AocdW/wC+Vo/4Zqt/+hx1b/vla9xoo5pdw9nDsjw7/hmq3/6HHVv++Vo/4Zqt/wDocdW/75WvcaKOaXcPZw7Hh3/DNVv/ANDjq3/fK0f8M1W//Q46t/3yte40Uc0u4ezh2PDv+Garf/ocdW/75Wj/AIZqt/8AocdW/wC+Vr3Gijml3D2cOx4d/wAM1W//AEOOrf8AfK0f8M1W/wD0OOrf98rXuNFHNLuHs4djw7/hmq3/AOhx1b/vlaP+Garf/ocdW/75WvcaKOaXcPZw7Hh3/DNVv/0OOrf98rR/wzVb/wDQ46t/3yte40Uc0u4ezh2PDv8Ahmq3/wChx1b/AL5Wj/hmq3/6HHVv++Vr3Gijml3D2cOx4d/wzVb/APQ46t/3ytH/AAzVb/8AQ4at/wB8rXuNFHNLuHs4djyvRvgmdCsfsun+LdViUsWYoQu4+pxWh/wq2+/6HTWf++69EopFnnf/AAq2+/6HTWf++6P+FW33/Q6az/33XolFAHnf/Crb7/odNZ/77o/4Vbff9DprP/fdeiUUAed/8Ktvv+h01n/vuj/hVt9/0Oms/wDfdeiUUAed/wDCrb7/AKHTWf8Avuj/AIVbff8AQ6az/wB916JRQB53/wAKtvv+h01n/vuj/hVt9/0Oms/9916JRQB53/wq2+/6HTWf++6P+FW33/Q6az/33XolFAHnf/Crb7/odNZ/77o/4Vbff9DprP8A33XolFAHnf8Awq2+/wCh01n/AL7o/wCFW33/AEOms/8AfdeiUUAed/8ACrb7/odNZ/77o/4Vbff9DprP/fdeiUUAed/8Ktvv+h01n/vuj/hVt9/0Oms/9916JRQB53/wq2+/6HTWf++6P+FW33/Q6az/AN916JRQB53/AMKtvv8AodNZ/wC+6P8AhVt9/wBDprP/AH3XolFAHnf/AAq2+/6HTWf++6P+FW33/Q6az/38r0SigDzv/hVt9/0Oms/9/KP+FW33/Q6az/38r0SigDzv/hVt9/0Oms/9/KP+FW33/Q6az/38r0SigDzv/hVt9/0Oms/9/KP+FW33/Q6az/38r0SigDzv/hVt9/0Oms/9/KT/AIVbff8AQ6az/wB/K9FpKAPO/wDhVt9/0Oms/wDfyj/hVt9/0Oms/wDfyvRKWgDzv/hVt9/0Oms/9/KP+FW33/Q6az/38r0SigDzr/hVt9/0Oms/9/KP+FW33/Q6az/38r0SigDzv/hVt9/0Oms/9/KX/hVt9/0Oms/9/K9EooA87/4Vbff9DprP/fyj/hVt9/0Oms/9/K9EooA87/4Vbff9DprP/fyk/wCFW33/AEOms/8AfyvRaKAPOv8AhVt9/wBDprP/AH8o/wCFW33/AEOms/8AfyvRKXFAHnf/AAq2+/6HTWf+/lH/AAq2+/6HTWf+/leiUUAedf8ACrb7/odNZ/7+Uf8ACrb7/odNZ/7+V6LRigDzr/hVt9/0Oms/9/KX/hVt9/0Oms/9/K9DpaAPO/8AhVt9/wBDprP/AH8o/wCFW33/AEOms/8AfyvRKKAPO/8AhVt9/wBDprP/AH8o/wCFW33/AEOms/8AfyvRKKAPO/8AhVt9/wBDprP/AH8o/wCFW33/AEOms/8AfyvRKKAPO/8AhVt9/wBDprP/AH8pP+FW33/Q6az/AN/K9FoxQB51/wAKtvv+h01n/v5R/wAKtvv+h01n/v5XomKWgDzv/hVt9/0Oms/9/KP+FW33/Q6az/38r0SigDzr/hVt9/0Oms/9/KP+FW33/Q6az/38r0XFJQB53/wq2+/6HTWf+/lL/wAKtvv+h01n/v5XolFAHnf/AAq2+/6HTWf+/lJ/wq2+/wCh01n/AL+V6LSUAed/8Ktvv+h01n/v5R/wq2+/6HTWf+/lei4ooA87/wCFW33/AEOms/8Afyj/AIVbff8AQ6az/wB/K9EooA86/wCFW33/AEOms/8Afyj/AIVbff8AQ6az/wB/K9EooA87/wCFW33/AEOms/8Afyl/4Vbff9DprP8A38r0SigDzv8A4Vbff9DprP8A38pP+FW33/Q6az/38r0WigDzr/hVt9/0Oms/9/KP+FW33/Q6az/38r0SloA87/4Vbff9DprP/fyj/hVt9/0Oms/9/K9EooA86/4Vbff9DprP/fyj/hVt9/0Oms/9/K9FpKAPO/8AhVt9/wBDprP/AH8pf+FW33/Q6az/AN/K9DpaAPO/+FW33/Q6az/38pP+FW33/Q6az/38r0WigDzr/hVt9/0Oms/9/KP+FW33/Q6az/38r0SigDzz/hVt9/0Oms/9/KP+FW33/Q6az/38r0SigDzv/hVt9/0Oms/9/KP+FW33/Q6az/38r0SigDzr/hVl9/0Oms/9/K3fB/gmPwlLfSrqFxfS3rB5JJ8bsiuoooAKKKKACjvRRQAlL2oooAKT0oooAXtRRRQAd6KKKACiiigAooooATvRRRQAopO9FFAC0GiigAoFFFABRRRQAUUUUAFFFFABRRRQAUUUUAFFFFACUUUUAL3ooooAKKKKACiiigAooooAKKKKACkoooAKWiigBO9LRRQACiiigAooooASloooASloooAKKKKACiiigAooooAKSiigBaKKKAEpaKKAEooooAKU0UUABo70UUAFAoooAKKKKACjvRRQAUUUUAFFFFABRRRQAUUUUAFFFFABSUUUAKaBRRQAUd6KKAAUCiigAooooAKBRRQAUUUUAFIaKKAFooooAKKKKACg0UUAJRRRQAveiiigA7UlFFAC0CiigA7Ud6KKACkoooAWgUUUAFFFFABRRRQB/9k=)\n"
      ]
    },
    {
      "cell_type": "code",
      "metadata": {
        "id": "VJLzWi0UqGWm",
        "colab": {
          "base_uri": "https://localhost:8080/",
          "height": 1000
        },
        "outputId": "3b00cc67-964d-43f5-8a60-b4ce5718b9d2"
      },
      "source": [
        "# Keeping this code block to show the results from debugger\n",
        "from torch import optim\n",
        "from IPython.core.debugger import set_trace\n",
        "criterion = nn.NLLLoss()\n",
        "optimizer = optim.SGD(model.parameters(), lr=0.01)\n",
        "\n",
        "num_epochs = 3\n",
        "\n",
        "for i in range(num_epochs):\n",
        "    cum_loss = 0\n",
        "    \n",
        "    for images, labels in trainloader:\n",
        "        set_trace()\n",
        "        optimizer.zero_grad()\n",
        "        output = model(images)\n",
        "        loss = criterion(output, labels)\n",
        "        loss.backward()\n",
        "        optimizer.step()\n",
        "        \n",
        "        cum_loss += loss.item()\n",
        "     \n",
        "    print(f\"Training loss: {cum_loss/len(trainloader)}\")"
      ],
      "execution_count": 9,
      "outputs": [
        {
          "output_type": "stream",
          "text": [
            "\n",
            "PYDEV DEBUGGER WARNING:\n",
            "sys.settrace() should not be used when the debugger is being used.\n",
            "This may cause the debugger to stop working correctly.\n",
            "If this is needed, please check: \n",
            "http://pydev.blogspot.com/2007/06/why-cant-pydev-debugger-work-with.html\n",
            "to see how to restore the debug tracing back correctly.\n",
            "Call Location:\n",
            "  File \"/usr/lib/python3.7/bdb.py\", line 332, in set_trace\n",
            "    sys.settrace(self.trace_dispatch)\n",
            "\n"
          ],
          "name": "stderr"
        },
        {
          "output_type": "stream",
          "text": [
            "> \u001b[0;32m<ipython-input-9-e03d77dd2c22>\u001b[0m(13)\u001b[0;36m<module>\u001b[0;34m()\u001b[0m\n",
            "\u001b[0;32m     11 \u001b[0;31m    \u001b[0;32mfor\u001b[0m \u001b[0mimages\u001b[0m\u001b[0;34m,\u001b[0m \u001b[0mlabels\u001b[0m \u001b[0;32min\u001b[0m \u001b[0mtrainloader\u001b[0m\u001b[0;34m:\u001b[0m\u001b[0;34m\u001b[0m\u001b[0;34m\u001b[0m\u001b[0m\n",
            "\u001b[0m\u001b[0;32m     12 \u001b[0;31m        \u001b[0mset_trace\u001b[0m\u001b[0;34m(\u001b[0m\u001b[0;34m)\u001b[0m\u001b[0;34m\u001b[0m\u001b[0;34m\u001b[0m\u001b[0m\n",
            "\u001b[0m\u001b[0;32m---> 13 \u001b[0;31m        \u001b[0moptimizer\u001b[0m\u001b[0;34m.\u001b[0m\u001b[0mzero_grad\u001b[0m\u001b[0;34m(\u001b[0m\u001b[0;34m)\u001b[0m\u001b[0;34m\u001b[0m\u001b[0;34m\u001b[0m\u001b[0m\n",
            "\u001b[0m\u001b[0;32m     14 \u001b[0;31m        \u001b[0moutput\u001b[0m \u001b[0;34m=\u001b[0m \u001b[0mmodel\u001b[0m\u001b[0;34m(\u001b[0m\u001b[0mimages\u001b[0m\u001b[0;34m)\u001b[0m\u001b[0;34m\u001b[0m\u001b[0;34m\u001b[0m\u001b[0m\n",
            "\u001b[0m\u001b[0;32m     15 \u001b[0;31m        \u001b[0mloss\u001b[0m \u001b[0;34m=\u001b[0m \u001b[0mcriterion\u001b[0m\u001b[0;34m(\u001b[0m\u001b[0moutput\u001b[0m\u001b[0;34m,\u001b[0m \u001b[0mlabels\u001b[0m\u001b[0;34m)\u001b[0m\u001b[0;34m\u001b[0m\u001b[0;34m\u001b[0m\u001b[0m\n",
            "\u001b[0m\n",
            "ipdb> p\n",
            "*** SyntaxError: unexpected EOF while parsing\n",
            "ipdb> p(i)\n",
            "0\n",
            "ipdb> n\n",
            "> \u001b[0;32m<ipython-input-9-e03d77dd2c22>\u001b[0m(14)\u001b[0;36m<module>\u001b[0;34m()\u001b[0m\n",
            "\u001b[0;32m     12 \u001b[0;31m        \u001b[0mset_trace\u001b[0m\u001b[0;34m(\u001b[0m\u001b[0;34m)\u001b[0m\u001b[0;34m\u001b[0m\u001b[0;34m\u001b[0m\u001b[0m\n",
            "\u001b[0m\u001b[0;32m     13 \u001b[0;31m        \u001b[0moptimizer\u001b[0m\u001b[0;34m.\u001b[0m\u001b[0mzero_grad\u001b[0m\u001b[0;34m(\u001b[0m\u001b[0;34m)\u001b[0m\u001b[0;34m\u001b[0m\u001b[0;34m\u001b[0m\u001b[0m\n",
            "\u001b[0m\u001b[0;32m---> 14 \u001b[0;31m        \u001b[0moutput\u001b[0m \u001b[0;34m=\u001b[0m \u001b[0mmodel\u001b[0m\u001b[0;34m(\u001b[0m\u001b[0mimages\u001b[0m\u001b[0;34m)\u001b[0m\u001b[0;34m\u001b[0m\u001b[0;34m\u001b[0m\u001b[0m\n",
            "\u001b[0m\u001b[0;32m     15 \u001b[0;31m        \u001b[0mloss\u001b[0m \u001b[0;34m=\u001b[0m \u001b[0mcriterion\u001b[0m\u001b[0;34m(\u001b[0m\u001b[0moutput\u001b[0m\u001b[0;34m,\u001b[0m \u001b[0mlabels\u001b[0m\u001b[0;34m)\u001b[0m\u001b[0;34m\u001b[0m\u001b[0;34m\u001b[0m\u001b[0m\n",
            "\u001b[0m\u001b[0;32m     16 \u001b[0;31m        \u001b[0mloss\u001b[0m\u001b[0;34m.\u001b[0m\u001b[0mbackward\u001b[0m\u001b[0;34m(\u001b[0m\u001b[0;34m)\u001b[0m\u001b[0;34m\u001b[0m\u001b[0;34m\u001b[0m\u001b[0m\n",
            "\u001b[0m\n",
            "ipdb> n\n",
            "> \u001b[0;32m<ipython-input-9-e03d77dd2c22>\u001b[0m(15)\u001b[0;36m<module>\u001b[0;34m()\u001b[0m\n",
            "\u001b[0;32m     13 \u001b[0;31m        \u001b[0moptimizer\u001b[0m\u001b[0;34m.\u001b[0m\u001b[0mzero_grad\u001b[0m\u001b[0;34m(\u001b[0m\u001b[0;34m)\u001b[0m\u001b[0;34m\u001b[0m\u001b[0;34m\u001b[0m\u001b[0m\n",
            "\u001b[0m\u001b[0;32m     14 \u001b[0;31m        \u001b[0moutput\u001b[0m \u001b[0;34m=\u001b[0m \u001b[0mmodel\u001b[0m\u001b[0;34m(\u001b[0m\u001b[0mimages\u001b[0m\u001b[0;34m)\u001b[0m\u001b[0;34m\u001b[0m\u001b[0;34m\u001b[0m\u001b[0m\n",
            "\u001b[0m\u001b[0;32m---> 15 \u001b[0;31m        \u001b[0mloss\u001b[0m \u001b[0;34m=\u001b[0m \u001b[0mcriterion\u001b[0m\u001b[0;34m(\u001b[0m\u001b[0moutput\u001b[0m\u001b[0;34m,\u001b[0m \u001b[0mlabels\u001b[0m\u001b[0;34m)\u001b[0m\u001b[0;34m\u001b[0m\u001b[0;34m\u001b[0m\u001b[0m\n",
            "\u001b[0m\u001b[0;32m     16 \u001b[0;31m        \u001b[0mloss\u001b[0m\u001b[0;34m.\u001b[0m\u001b[0mbackward\u001b[0m\u001b[0;34m(\u001b[0m\u001b[0;34m)\u001b[0m\u001b[0;34m\u001b[0m\u001b[0;34m\u001b[0m\u001b[0m\n",
            "\u001b[0m\u001b[0;32m     17 \u001b[0;31m        \u001b[0moptimizer\u001b[0m\u001b[0;34m.\u001b[0m\u001b[0mstep\u001b[0m\u001b[0;34m(\u001b[0m\u001b[0;34m)\u001b[0m\u001b[0;34m\u001b[0m\u001b[0;34m\u001b[0m\u001b[0m\n",
            "\u001b[0m\n",
            "ipdb> n\n",
            "AttributeError: 'NoneType' object has no attribute 'dim'\n",
            "> \u001b[0;32m<ipython-input-9-e03d77dd2c22>\u001b[0m(15)\u001b[0;36m<module>\u001b[0;34m()\u001b[0m\n",
            "\u001b[0;32m     13 \u001b[0;31m        \u001b[0moptimizer\u001b[0m\u001b[0;34m.\u001b[0m\u001b[0mzero_grad\u001b[0m\u001b[0;34m(\u001b[0m\u001b[0;34m)\u001b[0m\u001b[0;34m\u001b[0m\u001b[0;34m\u001b[0m\u001b[0m\n",
            "\u001b[0m\u001b[0;32m     14 \u001b[0;31m        \u001b[0moutput\u001b[0m \u001b[0;34m=\u001b[0m \u001b[0mmodel\u001b[0m\u001b[0;34m(\u001b[0m\u001b[0mimages\u001b[0m\u001b[0;34m)\u001b[0m\u001b[0;34m\u001b[0m\u001b[0;34m\u001b[0m\u001b[0m\n",
            "\u001b[0m\u001b[0;32m---> 15 \u001b[0;31m        \u001b[0mloss\u001b[0m \u001b[0;34m=\u001b[0m \u001b[0mcriterion\u001b[0m\u001b[0;34m(\u001b[0m\u001b[0moutput\u001b[0m\u001b[0;34m,\u001b[0m \u001b[0mlabels\u001b[0m\u001b[0;34m)\u001b[0m\u001b[0;34m\u001b[0m\u001b[0;34m\u001b[0m\u001b[0m\n",
            "\u001b[0m\u001b[0;32m     16 \u001b[0;31m        \u001b[0mloss\u001b[0m\u001b[0;34m.\u001b[0m\u001b[0mbackward\u001b[0m\u001b[0;34m(\u001b[0m\u001b[0;34m)\u001b[0m\u001b[0;34m\u001b[0m\u001b[0;34m\u001b[0m\u001b[0m\n",
            "\u001b[0m\u001b[0;32m     17 \u001b[0;31m        \u001b[0moptimizer\u001b[0m\u001b[0;34m.\u001b[0m\u001b[0mstep\u001b[0m\u001b[0;34m(\u001b[0m\u001b[0;34m)\u001b[0m\u001b[0;34m\u001b[0m\u001b[0;34m\u001b[0m\u001b[0m\n",
            "\u001b[0m\n",
            "ipdb> output\n",
            "ipdb> print(output)\n",
            "None\n",
            "ipdb> q\n"
          ],
          "name": "stdout"
        },
        {
          "output_type": "stream",
          "text": [
            "\n",
            "PYDEV DEBUGGER WARNING:\n",
            "sys.settrace() should not be used when the debugger is being used.\n",
            "This may cause the debugger to stop working correctly.\n",
            "If this is needed, please check: \n",
            "http://pydev.blogspot.com/2007/06/why-cant-pydev-debugger-work-with.html\n",
            "to see how to restore the debug tracing back correctly.\n",
            "Call Location:\n",
            "  File \"/usr/lib/python3.7/bdb.py\", line 357, in set_quit\n",
            "    sys.settrace(None)\n",
            "\n"
          ],
          "name": "stderr"
        },
        {
          "output_type": "error",
          "ename": "BdbQuit",
          "evalue": "ignored",
          "traceback": [
            "\u001b[0;31m---------------------------------------------------------------------------\u001b[0m",
            "\u001b[0;31mBdbQuit\u001b[0m                                   Traceback (most recent call last)",
            "\u001b[0;32m<ipython-input-9-e03d77dd2c22>\u001b[0m in \u001b[0;36m<module>\u001b[0;34m()\u001b[0m\n\u001b[1;32m     13\u001b[0m         \u001b[0moptimizer\u001b[0m\u001b[0;34m.\u001b[0m\u001b[0mzero_grad\u001b[0m\u001b[0;34m(\u001b[0m\u001b[0;34m)\u001b[0m\u001b[0;34m\u001b[0m\u001b[0;34m\u001b[0m\u001b[0m\n\u001b[1;32m     14\u001b[0m         \u001b[0moutput\u001b[0m \u001b[0;34m=\u001b[0m \u001b[0mmodel\u001b[0m\u001b[0;34m(\u001b[0m\u001b[0mimages\u001b[0m\u001b[0;34m)\u001b[0m\u001b[0;34m\u001b[0m\u001b[0;34m\u001b[0m\u001b[0m\n\u001b[0;32m---> 15\u001b[0;31m         \u001b[0mloss\u001b[0m \u001b[0;34m=\u001b[0m \u001b[0mcriterion\u001b[0m\u001b[0;34m(\u001b[0m\u001b[0moutput\u001b[0m\u001b[0;34m,\u001b[0m \u001b[0mlabels\u001b[0m\u001b[0;34m)\u001b[0m\u001b[0;34m\u001b[0m\u001b[0;34m\u001b[0m\u001b[0m\n\u001b[0m\u001b[1;32m     16\u001b[0m         \u001b[0mloss\u001b[0m\u001b[0;34m.\u001b[0m\u001b[0mbackward\u001b[0m\u001b[0;34m(\u001b[0m\u001b[0;34m)\u001b[0m\u001b[0;34m\u001b[0m\u001b[0;34m\u001b[0m\u001b[0m\n\u001b[1;32m     17\u001b[0m         \u001b[0moptimizer\u001b[0m\u001b[0;34m.\u001b[0m\u001b[0mstep\u001b[0m\u001b[0;34m(\u001b[0m\u001b[0;34m)\u001b[0m\u001b[0;34m\u001b[0m\u001b[0;34m\u001b[0m\u001b[0m\n",
            "\u001b[0;32m/usr/lib/python3.7/bdb.py\u001b[0m in \u001b[0;36mtrace_dispatch\u001b[0;34m(self, frame, event, arg)\u001b[0m\n\u001b[1;32m     92\u001b[0m             \u001b[0;32mreturn\u001b[0m \u001b[0mself\u001b[0m\u001b[0;34m.\u001b[0m\u001b[0mdispatch_return\u001b[0m\u001b[0;34m(\u001b[0m\u001b[0mframe\u001b[0m\u001b[0;34m,\u001b[0m \u001b[0marg\u001b[0m\u001b[0;34m)\u001b[0m\u001b[0;34m\u001b[0m\u001b[0;34m\u001b[0m\u001b[0m\n\u001b[1;32m     93\u001b[0m         \u001b[0;32mif\u001b[0m \u001b[0mevent\u001b[0m \u001b[0;34m==\u001b[0m \u001b[0;34m'exception'\u001b[0m\u001b[0;34m:\u001b[0m\u001b[0;34m\u001b[0m\u001b[0;34m\u001b[0m\u001b[0m\n\u001b[0;32m---> 94\u001b[0;31m             \u001b[0;32mreturn\u001b[0m \u001b[0mself\u001b[0m\u001b[0;34m.\u001b[0m\u001b[0mdispatch_exception\u001b[0m\u001b[0;34m(\u001b[0m\u001b[0mframe\u001b[0m\u001b[0;34m,\u001b[0m \u001b[0marg\u001b[0m\u001b[0;34m)\u001b[0m\u001b[0;34m\u001b[0m\u001b[0;34m\u001b[0m\u001b[0m\n\u001b[0m\u001b[1;32m     95\u001b[0m         \u001b[0;32mif\u001b[0m \u001b[0mevent\u001b[0m \u001b[0;34m==\u001b[0m \u001b[0;34m'c_call'\u001b[0m\u001b[0;34m:\u001b[0m\u001b[0;34m\u001b[0m\u001b[0;34m\u001b[0m\u001b[0m\n\u001b[1;32m     96\u001b[0m             \u001b[0;32mreturn\u001b[0m \u001b[0mself\u001b[0m\u001b[0;34m.\u001b[0m\u001b[0mtrace_dispatch\u001b[0m\u001b[0;34m\u001b[0m\u001b[0;34m\u001b[0m\u001b[0m\n",
            "\u001b[0;32m/usr/lib/python3.7/bdb.py\u001b[0m in \u001b[0;36mdispatch_exception\u001b[0;34m(self, frame, arg)\u001b[0m\n\u001b[1;32m    172\u001b[0m                     and arg[0] is StopIteration and arg[2] is None):\n\u001b[1;32m    173\u001b[0m                 \u001b[0mself\u001b[0m\u001b[0;34m.\u001b[0m\u001b[0muser_exception\u001b[0m\u001b[0;34m(\u001b[0m\u001b[0mframe\u001b[0m\u001b[0;34m,\u001b[0m \u001b[0marg\u001b[0m\u001b[0;34m)\u001b[0m\u001b[0;34m\u001b[0m\u001b[0;34m\u001b[0m\u001b[0m\n\u001b[0;32m--> 174\u001b[0;31m                 \u001b[0;32mif\u001b[0m \u001b[0mself\u001b[0m\u001b[0;34m.\u001b[0m\u001b[0mquitting\u001b[0m\u001b[0;34m:\u001b[0m \u001b[0;32mraise\u001b[0m \u001b[0mBdbQuit\u001b[0m\u001b[0;34m\u001b[0m\u001b[0;34m\u001b[0m\u001b[0m\n\u001b[0m\u001b[1;32m    175\u001b[0m         \u001b[0;31m# Stop at the StopIteration or GeneratorExit exception when the user\u001b[0m\u001b[0;34m\u001b[0m\u001b[0;34m\u001b[0m\u001b[0;34m\u001b[0m\u001b[0m\n\u001b[1;32m    176\u001b[0m         \u001b[0;31m# has set stopframe in a generator by issuing a return command, or a\u001b[0m\u001b[0;34m\u001b[0m\u001b[0;34m\u001b[0m\u001b[0;34m\u001b[0m\u001b[0m\n",
            "\u001b[0;31mBdbQuit\u001b[0m: "
          ]
        }
      ]
    },
    {
      "cell_type": "code",
      "metadata": {
        "colab": {
          "base_uri": "https://localhost:8080/"
        },
        "id": "p3-BOA1jDs8n",
        "outputId": "cba3100e-019d-4417-f101-773e1403bff7"
      },
      "source": [
        "# Same code as above block but this code runs fine as we have added a return statement in the forward method\n",
        "criterion = nn.NLLLoss()\n",
        "optimizer = optim.SGD(model.parameters(), lr=0.01)\n",
        "\n",
        "num_epochs = 25\n",
        "\n",
        "for i in range(num_epochs):\n",
        "    cum_loss = 0\n",
        "    \n",
        "    for images, labels in trainloader:\n",
        "      #  set_trace()\n",
        "        optimizer.zero_grad()\n",
        "        output = model(images)\n",
        "        loss = criterion(output, labels)\n",
        "        loss.backward()\n",
        "        optimizer.step()\n",
        "        \n",
        "        cum_loss += loss.item()\n",
        "     \n",
        "    print(f\"Training loss: {cum_loss/len(trainloader)}\")"
      ],
      "execution_count": 13,
      "outputs": [
        {
          "output_type": "stream",
          "text": [
            "Training loss: 0.4903399174782767\n",
            "Training loss: 0.4560762962330379\n",
            "Training loss: 0.43280977334803356\n",
            "Training loss: 0.4154893405306568\n",
            "Training loss: 0.40140329377610545\n",
            "Training loss: 0.38998129479348786\n",
            "Training loss: 0.3789616476561723\n",
            "Training loss: 0.36969587278327964\n",
            "Training loss: 0.3615726033475862\n",
            "Training loss: 0.3537981955449718\n",
            "Training loss: 0.34570493029633054\n",
            "Training loss: 0.3389168531814618\n",
            "Training loss: 0.3327334886516081\n",
            "Training loss: 0.3271518763798132\n",
            "Training loss: 0.3216187894852685\n",
            "Training loss: 0.31567304988087874\n",
            "Training loss: 0.3104357546183473\n",
            "Training loss: 0.3058988606847171\n",
            "Training loss: 0.30051693997022183\n",
            "Training loss: 0.29597742915121733\n",
            "Training loss: 0.29143228255577686\n",
            "Training loss: 0.28698749031657095\n",
            "Training loss: 0.2828055677621731\n",
            "Training loss: 0.27857625898299443\n",
            "Training loss: 0.27498568214777946\n"
          ],
          "name": "stdout"
        }
      ]
    },
    {
      "cell_type": "code",
      "metadata": {
        "id": "UWYw7ZOzsS8U"
      },
      "source": [
        "import matplotlib.pyplot as plt\n",
        "%matplotlib inline\n",
        "\n",
        "images, labels = next(iter(testloader))\n",
        "\n",
        "test_image_id = 0 \n",
        "img = images[test_image_id].view(1, 784) \n",
        "\n",
        "with torch.no_grad():\n",
        "    logps = model(img)"
      ],
      "execution_count": 14,
      "outputs": []
    },
    {
      "cell_type": "code",
      "metadata": {
        "id": "2tRjoEDSqY8X",
        "colab": {
          "base_uri": "https://localhost:8080/"
        },
        "outputId": "8c2f3bef-ed34-4e38-f178-b285dce364f6"
      },
      "source": [
        "ps = torch.exp(logps)\n",
        "ps"
      ],
      "execution_count": 15,
      "outputs": [
        {
          "output_type": "execute_result",
          "data": {
            "text/plain": [
              "tensor([[6.5530e-06, 2.3310e-07, 1.3075e-06, 3.4068e-07, 1.0388e-05, 5.3397e-02,\n",
              "         1.0624e-06, 2.5749e-02, 5.9370e-04, 9.2024e-01]])"
            ]
          },
          "metadata": {
            "tags": []
          },
          "execution_count": 15
        }
      ]
    },
    {
      "cell_type": "code",
      "metadata": {
        "id": "dpP_RLV-qkc6",
        "colab": {
          "base_uri": "https://localhost:8080/"
        },
        "outputId": "765413e9-30fc-4d42-bf83-46813f8dc5b5"
      },
      "source": [
        "nps = ps.numpy()[0]\n",
        "nps"
      ],
      "execution_count": 16,
      "outputs": [
        {
          "output_type": "execute_result",
          "data": {
            "text/plain": [
              "array([6.5530294e-06, 2.3309804e-07, 1.3075397e-06, 3.4068020e-07,\n",
              "       1.0387684e-05, 5.3397227e-02, 1.0624466e-06, 2.5749087e-02,\n",
              "       5.9370318e-04, 9.2024004e-01], dtype=float32)"
            ]
          },
          "metadata": {
            "tags": []
          },
          "execution_count": 16
        }
      ]
    },
    {
      "cell_type": "code",
      "metadata": {
        "id": "kBf23XrtqrB6",
        "colab": {
          "base_uri": "https://localhost:8080/",
          "height": 327
        },
        "outputId": "124c8e38-faf6-4273-edd0-b14c423ea480"
      },
      "source": [
        "FMNIST_labels = ['T-shirt/top','Trouser','Pullover','Dress','Coat','Sandal','Shirt','Sport Shoe','Bag','Ankle Boot']\n",
        "plt.xticks(np.arange(10),labels=FMNIST_labels,rotation='vertical')\n",
        "plt.bar(np.arange(10), nps)"
      ],
      "execution_count": 17,
      "outputs": [
        {
          "output_type": "execute_result",
          "data": {
            "text/plain": [
              "<BarContainer object of 10 artists>"
            ]
          },
          "metadata": {
            "tags": []
          },
          "execution_count": 17
        },
        {
          "output_type": "display_data",
          "data": {
            "image/png": "[encoded data removed]",
            "text/plain": [
              "<Figure size 432x288 with 1 Axes>"
            ]
          },
          "metadata": {
            "tags": [],
            "needs_background": "light"
          }
        }
      ]
    },
    {
      "cell_type": "code",
      "metadata": {
        "id": "Y7gY5hARpOp4",
        "colab": {
          "base_uri": "https://localhost:8080/",
          "height": 282
        },
        "outputId": "0b5d2504-6688-4d5d-9c1f-a1ae7ed53f8f"
      },
      "source": [
        "def denormalize(tensor):\n",
        "  tensor = tensor*0.5 + 0.5\n",
        "  return tensor\n",
        "  \n",
        "img = img.view(28,-1)\n",
        "img = denormalize(img)\n",
        "plt.imshow(img,cmap='gray')"
      ],
      "execution_count": 18,
      "outputs": [
        {
          "output_type": "execute_result",
          "data": {
            "text/plain": [
              "<matplotlib.image.AxesImage at 0x7efbf687cfd0>"
            ]
          },
          "metadata": {
            "tags": []
          },
          "execution_count": 18
        },
        {
          "output_type": "display_data",
          "data": {
            "image/png": "[encoded data removed]",
            "text/plain": [
              "<Figure size 432x288 with 1 Axes>"
            ]
          },
          "metadata": {
            "tags": [],
            "needs_background": "light"
          }
        }
      ]
    },
    {
      "cell_type": "code",
      "metadata": {
        "id": "QtpsoLpqOuCe"
      },
      "source": [
        ""
      ],
      "execution_count": null,
      "outputs": []
    }
  ]
}