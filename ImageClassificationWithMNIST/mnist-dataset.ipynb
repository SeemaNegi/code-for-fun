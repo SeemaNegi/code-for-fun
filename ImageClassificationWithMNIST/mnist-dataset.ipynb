{
 "cells": [
  {
   "cell_type": "code",
   "execution_count": 2,
   "metadata": {
    "_cell_guid": "b1076dfc-b9ad-4769-8c92-a6c4dae69d19",
    "_uuid": "8f2839f25d086af736a60e9eeb907d3b93b6e0e5",
    "execution": {
     "iopub.execute_input": "2020-10-23T23:20:29.676550Z",
     "iopub.status.busy": "2020-10-23T23:20:29.675643Z",
     "iopub.status.idle": "2020-10-23T23:20:39.094765Z",
     "shell.execute_reply": "2020-10-23T23:20:39.093845Z"
    },
    "papermill": {
     "duration": 9.442035,
     "end_time": "2020-10-23T23:20:39.094921",
     "exception": false,
     "start_time": "2020-10-23T23:20:29.652886",
     "status": "completed"
    },
    "tags": []
   },
   "outputs": [
    {
     "data": {
      "text/html": [
       "<div>\n",
       "<style scoped>\n",
       "    .dataframe tbody tr th:only-of-type {\n",
       "        vertical-align: middle;\n",
       "    }\n",
       "\n",
       "    .dataframe tbody tr th {\n",
       "        vertical-align: top;\n",
       "    }\n",
       "\n",
       "    .dataframe thead th {\n",
       "        text-align: right;\n",
       "    }\n",
       "</style>\n",
       "<table border=\"1\" class=\"dataframe\">\n",
       "  <thead>\n",
       "    <tr style=\"text-align: right;\">\n",
       "      <th></th>\n",
       "      <th>pixel0</th>\n",
       "      <th>pixel1</th>\n",
       "      <th>pixel2</th>\n",
       "      <th>pixel3</th>\n",
       "      <th>pixel4</th>\n",
       "      <th>pixel5</th>\n",
       "      <th>pixel6</th>\n",
       "      <th>pixel7</th>\n",
       "      <th>pixel8</th>\n",
       "      <th>pixel9</th>\n",
       "      <th>...</th>\n",
       "      <th>pixel774</th>\n",
       "      <th>pixel775</th>\n",
       "      <th>pixel776</th>\n",
       "      <th>pixel777</th>\n",
       "      <th>pixel778</th>\n",
       "      <th>pixel779</th>\n",
       "      <th>pixel780</th>\n",
       "      <th>pixel781</th>\n",
       "      <th>pixel782</th>\n",
       "      <th>pixel783</th>\n",
       "    </tr>\n",
       "  </thead>\n",
       "  <tbody>\n",
       "    <tr>\n",
       "      <th>0</th>\n",
       "      <td>0</td>\n",
       "      <td>0</td>\n",
       "      <td>0</td>\n",
       "      <td>0</td>\n",
       "      <td>0</td>\n",
       "      <td>0</td>\n",
       "      <td>0</td>\n",
       "      <td>0</td>\n",
       "      <td>0</td>\n",
       "      <td>0</td>\n",
       "      <td>...</td>\n",
       "      <td>0</td>\n",
       "      <td>0</td>\n",
       "      <td>0</td>\n",
       "      <td>0</td>\n",
       "      <td>0</td>\n",
       "      <td>0</td>\n",
       "      <td>0</td>\n",
       "      <td>0</td>\n",
       "      <td>0</td>\n",
       "      <td>0</td>\n",
       "    </tr>\n",
       "    <tr>\n",
       "      <th>1</th>\n",
       "      <td>0</td>\n",
       "      <td>0</td>\n",
       "      <td>0</td>\n",
       "      <td>0</td>\n",
       "      <td>0</td>\n",
       "      <td>0</td>\n",
       "      <td>0</td>\n",
       "      <td>0</td>\n",
       "      <td>0</td>\n",
       "      <td>0</td>\n",
       "      <td>...</td>\n",
       "      <td>0</td>\n",
       "      <td>0</td>\n",
       "      <td>0</td>\n",
       "      <td>0</td>\n",
       "      <td>0</td>\n",
       "      <td>0</td>\n",
       "      <td>0</td>\n",
       "      <td>0</td>\n",
       "      <td>0</td>\n",
       "      <td>0</td>\n",
       "    </tr>\n",
       "    <tr>\n",
       "      <th>2</th>\n",
       "      <td>0</td>\n",
       "      <td>0</td>\n",
       "      <td>0</td>\n",
       "      <td>0</td>\n",
       "      <td>0</td>\n",
       "      <td>0</td>\n",
       "      <td>0</td>\n",
       "      <td>0</td>\n",
       "      <td>0</td>\n",
       "      <td>0</td>\n",
       "      <td>...</td>\n",
       "      <td>0</td>\n",
       "      <td>0</td>\n",
       "      <td>0</td>\n",
       "      <td>0</td>\n",
       "      <td>0</td>\n",
       "      <td>0</td>\n",
       "      <td>0</td>\n",
       "      <td>0</td>\n",
       "      <td>0</td>\n",
       "      <td>0</td>\n",
       "    </tr>\n",
       "    <tr>\n",
       "      <th>3</th>\n",
       "      <td>0</td>\n",
       "      <td>0</td>\n",
       "      <td>0</td>\n",
       "      <td>0</td>\n",
       "      <td>0</td>\n",
       "      <td>0</td>\n",
       "      <td>0</td>\n",
       "      <td>0</td>\n",
       "      <td>0</td>\n",
       "      <td>0</td>\n",
       "      <td>...</td>\n",
       "      <td>0</td>\n",
       "      <td>0</td>\n",
       "      <td>0</td>\n",
       "      <td>0</td>\n",
       "      <td>0</td>\n",
       "      <td>0</td>\n",
       "      <td>0</td>\n",
       "      <td>0</td>\n",
       "      <td>0</td>\n",
       "      <td>0</td>\n",
       "    </tr>\n",
       "    <tr>\n",
       "      <th>4</th>\n",
       "      <td>0</td>\n",
       "      <td>0</td>\n",
       "      <td>0</td>\n",
       "      <td>0</td>\n",
       "      <td>0</td>\n",
       "      <td>0</td>\n",
       "      <td>0</td>\n",
       "      <td>0</td>\n",
       "      <td>0</td>\n",
       "      <td>0</td>\n",
       "      <td>...</td>\n",
       "      <td>0</td>\n",
       "      <td>0</td>\n",
       "      <td>0</td>\n",
       "      <td>0</td>\n",
       "      <td>0</td>\n",
       "      <td>0</td>\n",
       "      <td>0</td>\n",
       "      <td>0</td>\n",
       "      <td>0</td>\n",
       "      <td>0</td>\n",
       "    </tr>\n",
       "  </tbody>\n",
       "</table>\n",
       "<p>5 rows × 784 columns</p>\n",
       "</div>"
      ],
      "text/plain": [
       "   pixel0  pixel1  pixel2  pixel3  pixel4  pixel5  pixel6  pixel7  pixel8  \\\n",
       "0       0       0       0       0       0       0       0       0       0   \n",
       "1       0       0       0       0       0       0       0       0       0   \n",
       "2       0       0       0       0       0       0       0       0       0   \n",
       "3       0       0       0       0       0       0       0       0       0   \n",
       "4       0       0       0       0       0       0       0       0       0   \n",
       "\n",
       "   pixel9  ...  pixel774  pixel775  pixel776  pixel777  pixel778  pixel779  \\\n",
       "0       0  ...         0         0         0         0         0         0   \n",
       "1       0  ...         0         0         0         0         0         0   \n",
       "2       0  ...         0         0         0         0         0         0   \n",
       "3       0  ...         0         0         0         0         0         0   \n",
       "4       0  ...         0         0         0         0         0         0   \n",
       "\n",
       "   pixel780  pixel781  pixel782  pixel783  \n",
       "0         0         0         0         0  \n",
       "1         0         0         0         0  \n",
       "2         0         0         0         0  \n",
       "3         0         0         0         0  \n",
       "4         0         0         0         0  \n",
       "\n",
       "[5 rows x 784 columns]"
      ]
     },
     "execution_count": 2,
     "metadata": {},
     "output_type": "execute_result"
    }
   ],
   "source": [
    "\n",
    "import numpy as np # linear algebra\n",
    "import pandas as pd \n",
    "import tensorflow as tf\n",
    "from sklearn.model_selection import train_test_split\n",
    "import matplotlib.pyplot as plt\n",
    "from tensorflow.keras.utils import to_categorical\n",
    "from tensorflow.keras.callbacks import EarlyStopping\n",
    "from tensorflow.keras import layers, models\n",
    "\n",
    "from sklearn.model_selection import train_test_split\n",
    "from sklearn.metrics import confusion_matrix\n",
    "\n",
    "# Load the data\n",
    "test = pd.read_csv('dataset/test.csv')\n",
    "train = pd.read_csv('dataset/train.csv')\n",
    "test.head()"
   ]
  },
  {
   "cell_type": "code",
   "execution_count": 3,
   "metadata": {
    "execution": {
     "iopub.execute_input": "2020-10-23T23:20:39.129992Z",
     "iopub.status.busy": "2020-10-23T23:20:39.128797Z",
     "iopub.status.idle": "2020-10-23T23:20:39.134152Z",
     "shell.execute_reply": "2020-10-23T23:20:39.133438Z"
    },
    "papermill": {
     "duration": 0.027407,
     "end_time": "2020-10-23T23:20:39.134307",
     "exception": false,
     "start_time": "2020-10-23T23:20:39.106900",
     "status": "completed"
    },
    "tags": []
   },
   "outputs": [
    {
     "data": {
      "text/plain": [
       "0        1\n",
       "1        0\n",
       "2        1\n",
       "3        4\n",
       "4        0\n",
       "        ..\n",
       "41995    0\n",
       "41996    1\n",
       "41997    7\n",
       "41998    6\n",
       "41999    9\n",
       "Name: label, Length: 42000, dtype: int64"
      ]
     },
     "execution_count": 3,
     "metadata": {},
     "output_type": "execute_result"
    }
   ],
   "source": [
    "train[\"label\"]"
   ]
  },
  {
   "cell_type": "code",
   "execution_count": 4,
   "metadata": {
    "execution": {
     "iopub.execute_input": "2020-10-23T23:20:39.315933Z",
     "iopub.status.busy": "2020-10-23T23:20:39.313609Z",
     "iopub.status.idle": "2020-10-23T23:20:39.587456Z",
     "shell.execute_reply": "2020-10-23T23:20:39.586636Z"
    },
    "papermill": {
     "duration": 0.442183,
     "end_time": "2020-10-23T23:20:39.587592",
     "exception": false,
     "start_time": "2020-10-23T23:20:39.145409",
     "status": "completed"
    },
    "tags": []
   },
   "outputs": [],
   "source": [
    "X_train, X_test, Y_train, Y_test = train_test_split(train.drop(labels = [\"label\"],axis = 1),train[\"label\"] , test_size=0.1)"
   ]
  },
  {
   "cell_type": "code",
   "execution_count": 5,
   "metadata": {
    "_cell_guid": "79c7e3d0-c299-4dcb-8224-4455121ee9b0",
    "_uuid": "d629ff2d2480ee46fbb7e2d37f6b5fab8052498a",
    "execution": {
     "iopub.execute_input": "2020-10-23T23:20:39.617282Z",
     "iopub.status.busy": "2020-10-23T23:20:39.616301Z",
     "iopub.status.idle": "2020-10-23T23:20:39.619760Z",
     "shell.execute_reply": "2020-10-23T23:20:39.620391Z"
    },
    "papermill": {
     "duration": 0.021209,
     "end_time": "2020-10-23T23:20:39.620551",
     "exception": false,
     "start_time": "2020-10-23T23:20:39.599342",
     "status": "completed"
    },
    "tags": []
   },
   "outputs": [
    {
     "name": "stdout",
     "output_type": "stream",
     "text": [
      "(37800, 784) (37800,)\n"
     ]
    }
   ],
   "source": [
    "print(X_train.shape, Y_train.shape)"
   ]
  },
  {
   "cell_type": "code",
   "execution_count": 6,
   "metadata": {
    "execution": {
     "iopub.execute_input": "2020-10-23T23:20:39.651402Z",
     "iopub.status.busy": "2020-10-23T23:20:39.650331Z",
     "iopub.status.idle": "2020-10-23T23:20:39.653576Z",
     "shell.execute_reply": "2020-10-23T23:20:39.652799Z"
    },
    "papermill": {
     "duration": 0.021439,
     "end_time": "2020-10-23T23:20:39.653709",
     "exception": false,
     "start_time": "2020-10-23T23:20:39.632270",
     "status": "completed"
    },
    "tags": []
   },
   "outputs": [],
   "source": [
    "X_train = X_train.values.reshape(len(X_train),28,28,1)\n",
    "X_test = X_test.values.reshape(len(X_test),28,28,1)"
   ]
  },
  {
   "cell_type": "code",
   "execution_count": 7,
   "metadata": {
    "execution": {
     "iopub.execute_input": "2020-10-23T23:20:39.689351Z",
     "iopub.status.busy": "2020-10-23T23:20:39.688490Z",
     "iopub.status.idle": "2020-10-23T23:20:39.868080Z",
     "shell.execute_reply": "2020-10-23T23:20:39.868685Z"
    },
    "papermill": {
     "duration": 0.203072,
     "end_time": "2020-10-23T23:20:39.868874",
     "exception": false,
     "start_time": "2020-10-23T23:20:39.665802",
     "status": "completed"
    },
    "tags": []
   },
   "outputs": [],
   "source": [
    "model = models.Sequential()\n",
    "model.add(layers.Conv2D(32, (3, 3), activation='relu', input_shape=(28,28,1)))\n",
    "model.add(layers.MaxPooling2D((2, 2)))\n",
    "model.add(layers.Conv2D(64, (3, 3), activation='relu'))\n",
    "model.add(layers.MaxPooling2D((2, 2)))\n",
    "model.add(layers.Conv2D(64, (3, 3), activation='relu'))\n",
    "model.add(layers.Flatten())\n",
    "model.add(layers.Dense(64, activation='relu'))\n",
    "model.add(layers.Dense(10))"
   ]
  },
  {
   "cell_type": "code",
   "execution_count": 8,
   "metadata": {
    "execution": {
     "iopub.execute_input": "2020-10-23T23:20:39.909286Z",
     "iopub.status.busy": "2020-10-23T23:20:39.908058Z",
     "iopub.status.idle": "2020-10-23T23:24:22.073417Z",
     "shell.execute_reply": "2020-10-23T23:24:22.072621Z"
    },
    "papermill": {
     "duration": 222.192511,
     "end_time": "2020-10-23T23:24:22.073580",
     "exception": false,
     "start_time": "2020-10-23T23:20:39.881069",
     "status": "completed"
    },
    "tags": []
   },
   "outputs": [
    {
     "name": "stdout",
     "output_type": "stream",
     "text": [
      "Train on 37800 samples, validate on 4200 samples\n",
      "Epoch 1/10\n",
      "37800/37800 [==============================] - 23s 602us/sample - loss: 0.2846 - accuracy: 0.9325 - val_loss: 0.0774 - val_accuracy: 0.9790\n",
      "Epoch 2/10\n",
      "37800/37800 [==============================] - 26s 688us/sample - loss: 0.0741 - accuracy: 0.9770 - val_loss: 0.0665 - val_accuracy: 0.9810\n",
      "Epoch 3/10\n",
      "37800/37800 [==============================] - 24s 628us/sample - loss: 0.0528 - accuracy: 0.9830 - val_loss: 0.0751 - val_accuracy: 0.9771\n",
      "Epoch 4/10\n",
      "37800/37800 [==============================] - 22s 592us/sample - loss: 0.0459 - accuracy: 0.9856 - val_loss: 0.0888 - val_accuracy: 0.9757\n",
      "Epoch 5/10\n",
      "37800/37800 [==============================] - 22s 577us/sample - loss: 0.0431 - accuracy: 0.9867 - val_loss: 0.0665 - val_accuracy: 0.9812\n",
      "Epoch 6/10\n",
      "37800/37800 [==============================] - 22s 581us/sample - loss: 0.0391 - accuracy: 0.9879 - val_loss: 0.0462 - val_accuracy: 0.9883\n",
      "Epoch 7/10\n",
      "37800/37800 [==============================] - 22s 592us/sample - loss: 0.0333 - accuracy: 0.9893 - val_loss: 0.0577 - val_accuracy: 0.9848\n",
      "Epoch 8/10\n",
      "37800/37800 [==============================] - 23s 596us/sample - loss: 0.0288 - accuracy: 0.9915 - val_loss: 0.0624 - val_accuracy: 0.9848\n",
      "Epoch 9/10\n",
      "37800/37800 [==============================] - 23s 597us/sample - loss: 0.0238 - accuracy: 0.9925 - val_loss: 0.0733 - val_accuracy: 0.9838\n",
      "Epoch 10/10\n",
      "37800/37800 [==============================] - 23s 601us/sample - loss: 0.0238 - accuracy: 0.9933 - val_loss: 0.0506 - val_accuracy: 0.9888\n"
     ]
    }
   ],
   "source": [
    "model.compile(optimizer='adam',\n",
    "              loss=tf.keras.losses.SparseCategoricalCrossentropy(from_logits=True),\n",
    "              metrics=['accuracy'])\n",
    "\n",
    "history = model.fit(X_train, Y_train, epochs=10, \n",
    "                    validation_data=(X_test, Y_test))"
   ]
  },
  {
   "cell_type": "code",
   "execution_count": 9,
   "metadata": {
    "execution": {
     "iopub.execute_input": "2020-10-23T23:24:25.155605Z",
     "iopub.status.busy": "2020-10-23T23:24:25.154599Z",
     "iopub.status.idle": "2020-10-23T23:24:30.396831Z",
     "shell.execute_reply": "2020-10-23T23:24:30.396068Z"
    },
    "papermill": {
     "duration": 6.788724,
     "end_time": "2020-10-23T23:24:30.396972",
     "exception": false,
     "start_time": "2020-10-23T23:24:23.608248",
     "status": "completed"
    },
    "tags": []
   },
   "outputs": [],
   "source": [
    "test = test.values.reshape(len(test),28,28,1)\n",
    "\n",
    "pred = model.predict_classes(test)\n",
    "\n",
    "submission = pd.DataFrame({\"ImageId\":range(1,len(pred)+1),\"Label\":pred})\n",
    "submission.to_csv(\"results.csv\",index=False)\n"
   ]
  },
  {
   "cell_type": "code",
   "execution_count": 10,
   "metadata": {
    "execution": {
     "iopub.execute_input": "2020-10-23T23:24:33.490549Z",
     "iopub.status.busy": "2020-10-23T23:24:33.489670Z",
     "iopub.status.idle": "2020-10-23T23:24:33.493844Z",
     "shell.execute_reply": "2020-10-23T23:24:33.493043Z"
    },
    "papermill": {
     "duration": 1.55073,
     "end_time": "2020-10-23T23:24:33.493968",
     "exception": false,
     "start_time": "2020-10-23T23:24:31.943238",
     "status": "completed"
    },
    "tags": []
   },
   "outputs": [
    {
     "data": {
      "text/html": [
       "<div>\n",
       "<style scoped>\n",
       "    .dataframe tbody tr th:only-of-type {\n",
       "        vertical-align: middle;\n",
       "    }\n",
       "\n",
       "    .dataframe tbody tr th {\n",
       "        vertical-align: top;\n",
       "    }\n",
       "\n",
       "    .dataframe thead th {\n",
       "        text-align: right;\n",
       "    }\n",
       "</style>\n",
       "<table border=\"1\" class=\"dataframe\">\n",
       "  <thead>\n",
       "    <tr style=\"text-align: right;\">\n",
       "      <th></th>\n",
       "      <th>ImageId</th>\n",
       "      <th>Label</th>\n",
       "    </tr>\n",
       "  </thead>\n",
       "  <tbody>\n",
       "    <tr>\n",
       "      <th>0</th>\n",
       "      <td>1</td>\n",
       "      <td>2</td>\n",
       "    </tr>\n",
       "    <tr>\n",
       "      <th>1</th>\n",
       "      <td>2</td>\n",
       "      <td>0</td>\n",
       "    </tr>\n",
       "    <tr>\n",
       "      <th>2</th>\n",
       "      <td>3</td>\n",
       "      <td>9</td>\n",
       "    </tr>\n",
       "    <tr>\n",
       "      <th>3</th>\n",
       "      <td>4</td>\n",
       "      <td>9</td>\n",
       "    </tr>\n",
       "    <tr>\n",
       "      <th>4</th>\n",
       "      <td>5</td>\n",
       "      <td>3</td>\n",
       "    </tr>\n",
       "  </tbody>\n",
       "</table>\n",
       "</div>"
      ],
      "text/plain": [
       "   ImageId  Label\n",
       "0        1      2\n",
       "1        2      0\n",
       "2        3      9\n",
       "3        4      9\n",
       "4        5      3"
      ]
     },
     "execution_count": 10,
     "metadata": {},
     "output_type": "execute_result"
    }
   ],
   "source": [
    "submission.head()"
   ]
  },
  {
   "cell_type": "code",
   "execution_count": null,
   "metadata": {
    "papermill": {
     "duration": 1.627606,
     "end_time": "2020-10-23T23:24:36.674668",
     "exception": false,
     "start_time": "2020-10-23T23:24:35.047062",
     "status": "completed"
    },
    "tags": []
   },
   "outputs": [],
   "source": []
  }
 ],
 "metadata": {
  "kernelspec": {
   "display_name": "Python 3",
   "language": "python",
   "name": "python3"
  },
  "language_info": {
   "codemirror_mode": {
    "name": "ipython",
    "version": 3
   },
   "file_extension": ".py",
   "mimetype": "text/x-python",
   "name": "python",
   "nbconvert_exporter": "python",
   "pygments_lexer": "ipython3",
   "version": "3.7.7"
  },
  "papermill": {
   "duration": 261.804928,
   "end_time": "2020-10-23T23:24:38.368520",
   "environment_variables": {},
   "exception": null,
   "input_path": "__notebook__.ipynb",
   "output_path": "__notebook__.ipynb",
   "parameters": {},
   "start_time": "2020-10-23T23:20:16.563592",
   "version": "2.1.0"
  }
 },
 "nbformat": 4,
 "nbformat_minor": 4
}
